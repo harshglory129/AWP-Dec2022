{
 "cells": [
  {
   "cell_type": "markdown",
   "id": "47c78d0d",
   "metadata": {},
   "source": [
    "pip install numpy"
   ]
  },
  {
   "cell_type": "markdown",
   "id": "1025067f",
   "metadata": {},
   "source": [
    "**Numpy**\n",
    "\n",
    "1) Numpy Stands for Numerical Python, which consist of single &      multidimesional array object.\n",
    "\n",
    "2) We can do mathematical & logical operations on array of Numpy.\n",
    "\n",
    "3) Operation related to linear algebra, statistics and log can        also be done with the help of numpy.\n",
    "\n",
    "4) We can do matrix calculations as well on Numpy."
   ]
  },
  {
   "cell_type": "code",
   "execution_count": null,
   "id": "d120b15f",
   "metadata": {},
   "outputs": [],
   "source": []
  },
  {
   "cell_type": "code",
   "execution_count": 1,
   "id": "88275268",
   "metadata": {},
   "outputs": [],
   "source": [
    "import numpy as np"
   ]
  },
  {
   "cell_type": "code",
   "execution_count": 2,
   "id": "41ca5d37",
   "metadata": {},
   "outputs": [
    {
     "data": {
      "text/plain": [
       "'1.22.2'"
      ]
     },
     "execution_count": 2,
     "metadata": {},
     "output_type": "execute_result"
    }
   ],
   "source": [
    "np.__version__"
   ]
  },
  {
   "cell_type": "code",
   "execution_count": null,
   "id": "6bb56fa0",
   "metadata": {},
   "outputs": [],
   "source": []
  },
  {
   "cell_type": "code",
   "execution_count": 3,
   "id": "7c8f7b47",
   "metadata": {},
   "outputs": [],
   "source": [
    "arr = np.array([10,20,30,40,50,60,70])"
   ]
  },
  {
   "cell_type": "code",
   "execution_count": 4,
   "id": "9f1e09c9",
   "metadata": {},
   "outputs": [
    {
     "name": "stdout",
     "output_type": "stream",
     "text": [
      "[10 20 30 40 50 60 70]\n"
     ]
    }
   ],
   "source": [
    "print(arr)"
   ]
  },
  {
   "cell_type": "code",
   "execution_count": 5,
   "id": "22c5bd68",
   "metadata": {},
   "outputs": [
    {
     "name": "stdout",
     "output_type": "stream",
     "text": [
      "<class 'numpy.ndarray'>\n"
     ]
    }
   ],
   "source": [
    "print(type(arr))"
   ]
  },
  {
   "cell_type": "code",
   "execution_count": null,
   "id": "3a84fe45",
   "metadata": {},
   "outputs": [],
   "source": []
  },
  {
   "cell_type": "code",
   "execution_count": 8,
   "id": "362fe84e",
   "metadata": {},
   "outputs": [],
   "source": [
    "arr2 = np.array([\n",
    " [10,20,30,40,50,60,70],\n",
    " [100,200,300,400,500,600,700],\n",
    " [1000,2000,3000,4000,5000,6000,7000]\n",
    "])"
   ]
  },
  {
   "cell_type": "code",
   "execution_count": 9,
   "id": "d8906e51",
   "metadata": {},
   "outputs": [
    {
     "data": {
      "text/plain": [
       "array([[  10,   20,   30,   40,   50,   60,   70],\n",
       "       [ 100,  200,  300,  400,  500,  600,  700],\n",
       "       [1000, 2000, 3000, 4000, 5000, 6000, 7000]])"
      ]
     },
     "execution_count": 9,
     "metadata": {},
     "output_type": "execute_result"
    }
   ],
   "source": [
    "arr2"
   ]
  },
  {
   "cell_type": "code",
   "execution_count": null,
   "id": "24af3d74",
   "metadata": {},
   "outputs": [],
   "source": []
  },
  {
   "cell_type": "code",
   "execution_count": 10,
   "id": "31c93bc3",
   "metadata": {},
   "outputs": [
    {
     "data": {
      "text/plain": [
       "(3, 7)"
      ]
     },
     "execution_count": 10,
     "metadata": {},
     "output_type": "execute_result"
    }
   ],
   "source": [
    "arr2.shape"
   ]
  },
  {
   "cell_type": "code",
   "execution_count": 11,
   "id": "0a0545ad",
   "metadata": {},
   "outputs": [
    {
     "data": {
      "text/plain": [
       "array([10, 20, 30, 40, 50, 60, 70])"
      ]
     },
     "execution_count": 11,
     "metadata": {},
     "output_type": "execute_result"
    }
   ],
   "source": [
    "arr"
   ]
  },
  {
   "cell_type": "code",
   "execution_count": 12,
   "id": "78dd595e",
   "metadata": {},
   "outputs": [
    {
     "data": {
      "text/plain": [
       "(7,)"
      ]
     },
     "execution_count": 12,
     "metadata": {},
     "output_type": "execute_result"
    }
   ],
   "source": [
    "arr.shape"
   ]
  },
  {
   "cell_type": "code",
   "execution_count": 13,
   "id": "fbec89ec",
   "metadata": {},
   "outputs": [],
   "source": [
    "arr3 = np.array([\n",
    "    [10,20,30],\n",
    "    [40,50,60]\n",
    "])"
   ]
  },
  {
   "cell_type": "code",
   "execution_count": 14,
   "id": "561ed237",
   "metadata": {},
   "outputs": [
    {
     "data": {
      "text/plain": [
       "array([[10, 20, 30],\n",
       "       [40, 50, 60]])"
      ]
     },
     "execution_count": 14,
     "metadata": {},
     "output_type": "execute_result"
    }
   ],
   "source": [
    "arr3"
   ]
  },
  {
   "cell_type": "code",
   "execution_count": 16,
   "id": "96f242f1",
   "metadata": {},
   "outputs": [
    {
     "data": {
      "text/plain": [
       "(2, 3)"
      ]
     },
     "execution_count": 16,
     "metadata": {},
     "output_type": "execute_result"
    }
   ],
   "source": [
    "arr3.shape"
   ]
  },
  {
   "cell_type": "code",
   "execution_count": 17,
   "id": "cd117063",
   "metadata": {},
   "outputs": [],
   "source": [
    "arr3.shape = (3,2)"
   ]
  },
  {
   "cell_type": "code",
   "execution_count": 18,
   "id": "7cca7261",
   "metadata": {},
   "outputs": [
    {
     "data": {
      "text/plain": [
       "array([[10, 20],\n",
       "       [30, 40],\n",
       "       [50, 60]])"
      ]
     },
     "execution_count": 18,
     "metadata": {},
     "output_type": "execute_result"
    }
   ],
   "source": [
    "arr3"
   ]
  },
  {
   "cell_type": "code",
   "execution_count": 19,
   "id": "60825bec",
   "metadata": {},
   "outputs": [
    {
     "data": {
      "text/plain": [
       "range(1, 10)"
      ]
     },
     "execution_count": 19,
     "metadata": {},
     "output_type": "execute_result"
    }
   ],
   "source": [
    "range(1,10)"
   ]
  },
  {
   "cell_type": "code",
   "execution_count": 20,
   "id": "9009546f",
   "metadata": {},
   "outputs": [],
   "source": [
    "num = np.arange(1,31)"
   ]
  },
  {
   "cell_type": "code",
   "execution_count": 21,
   "id": "69750f54",
   "metadata": {},
   "outputs": [
    {
     "data": {
      "text/plain": [
       "array([ 1,  2,  3,  4,  5,  6,  7,  8,  9, 10, 11, 12, 13, 14, 15, 16, 17,\n",
       "       18, 19, 20, 21, 22, 23, 24, 25, 26, 27, 28, 29, 30])"
      ]
     },
     "execution_count": 21,
     "metadata": {},
     "output_type": "execute_result"
    }
   ],
   "source": [
    "num"
   ]
  },
  {
   "cell_type": "code",
   "execution_count": 22,
   "id": "2c535bab",
   "metadata": {},
   "outputs": [
    {
     "data": {
      "text/plain": [
       "array([ 0,  1,  2,  3,  4,  5,  6,  7,  8,  9, 10, 11, 12, 13, 14, 15, 16,\n",
       "       17, 18, 19, 20, 21, 22, 23, 24, 25, 26, 27, 28, 29, 30])"
      ]
     },
     "execution_count": 22,
     "metadata": {},
     "output_type": "execute_result"
    }
   ],
   "source": [
    "np.arange(31)"
   ]
  },
  {
   "cell_type": "code",
   "execution_count": 23,
   "id": "cb15435b",
   "metadata": {},
   "outputs": [
    {
     "data": {
      "text/plain": [
       "array([478448484, 478448485, 478448486, ..., 478449873, 478449874,\n",
       "       478449875])"
      ]
     },
     "execution_count": 23,
     "metadata": {},
     "output_type": "execute_result"
    }
   ],
   "source": [
    "np.arange(478448484,478449876)"
   ]
  },
  {
   "cell_type": "code",
   "execution_count": null,
   "id": "54024b1b",
   "metadata": {},
   "outputs": [],
   "source": []
  },
  {
   "cell_type": "code",
   "execution_count": 24,
   "id": "82ffaf91",
   "metadata": {},
   "outputs": [
    {
     "data": {
      "text/plain": [
       "array([ 1,  3,  5,  7,  9, 11, 13, 15, 17, 19, 21, 23, 25, 27, 29, 31, 33,\n",
       "       35, 37, 39, 41, 43, 45, 47, 49])"
      ]
     },
     "execution_count": 24,
     "metadata": {},
     "output_type": "execute_result"
    }
   ],
   "source": [
    "np.arange(1,51,2)"
   ]
  },
  {
   "cell_type": "code",
   "execution_count": 30,
   "id": "8c068fd9",
   "metadata": {},
   "outputs": [
    {
     "data": {
      "text/plain": [
       "array([ 0,  1,  2,  3,  4,  5,  6,  7,  8,  9, 10, 11, 12, 13, 14, 15, 16,\n",
       "       17, 18, 19, 20, 21, 22, 23, 24, 25, 26, 27, 28, 29])"
      ]
     },
     "execution_count": 30,
     "metadata": {},
     "output_type": "execute_result"
    }
   ],
   "source": [
    "np.arange(0,30)"
   ]
  },
  {
   "cell_type": "code",
   "execution_count": 31,
   "id": "b344f2e3",
   "metadata": {},
   "outputs": [],
   "source": [
    "arr5 = np.arange(0,30).reshape(5,6)"
   ]
  },
  {
   "cell_type": "code",
   "execution_count": 32,
   "id": "f63a3fcd",
   "metadata": {},
   "outputs": [
    {
     "data": {
      "text/plain": [
       "array([[ 0,  1,  2,  3,  4,  5],\n",
       "       [ 6,  7,  8,  9, 10, 11],\n",
       "       [12, 13, 14, 15, 16, 17],\n",
       "       [18, 19, 20, 21, 22, 23],\n",
       "       [24, 25, 26, 27, 28, 29]])"
      ]
     },
     "execution_count": 32,
     "metadata": {},
     "output_type": "execute_result"
    }
   ],
   "source": [
    "arr5"
   ]
  },
  {
   "cell_type": "code",
   "execution_count": null,
   "id": "8e2f9887",
   "metadata": {},
   "outputs": [],
   "source": []
  },
  {
   "cell_type": "code",
   "execution_count": 34,
   "id": "eabae6aa",
   "metadata": {},
   "outputs": [],
   "source": [
    "zeros = np.zeros(10).reshape(5,2)"
   ]
  },
  {
   "cell_type": "code",
   "execution_count": 35,
   "id": "d5e07836",
   "metadata": {},
   "outputs": [
    {
     "data": {
      "text/plain": [
       "array([[0., 0.],\n",
       "       [0., 0.],\n",
       "       [0., 0.],\n",
       "       [0., 0.],\n",
       "       [0., 0.]])"
      ]
     },
     "execution_count": 35,
     "metadata": {},
     "output_type": "execute_result"
    }
   ],
   "source": [
    "zeros"
   ]
  },
  {
   "cell_type": "code",
   "execution_count": null,
   "id": "46fe180d",
   "metadata": {},
   "outputs": [],
   "source": []
  },
  {
   "cell_type": "code",
   "execution_count": 38,
   "id": "f8b833d7",
   "metadata": {},
   "outputs": [],
   "source": [
    "ones = np.ones(10).reshape(5,2)"
   ]
  },
  {
   "cell_type": "code",
   "execution_count": 39,
   "id": "2d51e6fa",
   "metadata": {},
   "outputs": [
    {
     "data": {
      "text/plain": [
       "array([[1., 1.],\n",
       "       [1., 1.],\n",
       "       [1., 1.],\n",
       "       [1., 1.],\n",
       "       [1., 1.]])"
      ]
     },
     "execution_count": 39,
     "metadata": {},
     "output_type": "execute_result"
    }
   ],
   "source": [
    "ones"
   ]
  },
  {
   "cell_type": "markdown",
   "id": "dedd272c",
   "metadata": {},
   "source": [
    "<img src=\"https://miro.medium.com/max/1330/1*s6gKy2DZ_300dgAeHPgjkQ.png\" widht=\"300\" height=\"300\">"
   ]
  },
  {
   "cell_type": "code",
   "execution_count": 40,
   "id": "7167a3fa",
   "metadata": {},
   "outputs": [],
   "source": [
    "new_ones = np.ones(10,dtype=np.int16).reshape(5,2)"
   ]
  },
  {
   "cell_type": "code",
   "execution_count": 41,
   "id": "ee28b33f",
   "metadata": {},
   "outputs": [
    {
     "data": {
      "text/plain": [
       "array([[1, 1],\n",
       "       [1, 1],\n",
       "       [1, 1],\n",
       "       [1, 1],\n",
       "       [1, 1]], dtype=int16)"
      ]
     },
     "execution_count": 41,
     "metadata": {},
     "output_type": "execute_result"
    }
   ],
   "source": [
    "new_ones"
   ]
  },
  {
   "cell_type": "code",
   "execution_count": null,
   "id": "26777943",
   "metadata": {},
   "outputs": [],
   "source": []
  },
  {
   "cell_type": "code",
   "execution_count": 44,
   "id": "f63d9253",
   "metadata": {},
   "outputs": [
    {
     "data": {
      "text/plain": [
       "array([[4., 4.],\n",
       "       [4., 4.],\n",
       "       [4., 4.],\n",
       "       [4., 4.],\n",
       "       [4., 4.]])"
      ]
     },
     "execution_count": 44,
     "metadata": {},
     "output_type": "execute_result"
    }
   ],
   "source": [
    "np.ones(10).reshape(5,2)*4"
   ]
  },
  {
   "cell_type": "code",
   "execution_count": null,
   "id": "314c3e9c",
   "metadata": {},
   "outputs": [],
   "source": []
  },
  {
   "cell_type": "code",
   "execution_count": 52,
   "id": "a1227f66",
   "metadata": {},
   "outputs": [],
   "source": [
    "data = np.linspace(1,3,100)"
   ]
  },
  {
   "cell_type": "code",
   "execution_count": 53,
   "id": "5dbdb7b2",
   "metadata": {},
   "outputs": [
    {
     "data": {
      "text/plain": [
       "array([1.        , 1.02020202, 1.04040404, 1.06060606, 1.08080808,\n",
       "       1.1010101 , 1.12121212, 1.14141414, 1.16161616, 1.18181818,\n",
       "       1.2020202 , 1.22222222, 1.24242424, 1.26262626, 1.28282828,\n",
       "       1.3030303 , 1.32323232, 1.34343434, 1.36363636, 1.38383838,\n",
       "       1.4040404 , 1.42424242, 1.44444444, 1.46464646, 1.48484848,\n",
       "       1.50505051, 1.52525253, 1.54545455, 1.56565657, 1.58585859,\n",
       "       1.60606061, 1.62626263, 1.64646465, 1.66666667, 1.68686869,\n",
       "       1.70707071, 1.72727273, 1.74747475, 1.76767677, 1.78787879,\n",
       "       1.80808081, 1.82828283, 1.84848485, 1.86868687, 1.88888889,\n",
       "       1.90909091, 1.92929293, 1.94949495, 1.96969697, 1.98989899,\n",
       "       2.01010101, 2.03030303, 2.05050505, 2.07070707, 2.09090909,\n",
       "       2.11111111, 2.13131313, 2.15151515, 2.17171717, 2.19191919,\n",
       "       2.21212121, 2.23232323, 2.25252525, 2.27272727, 2.29292929,\n",
       "       2.31313131, 2.33333333, 2.35353535, 2.37373737, 2.39393939,\n",
       "       2.41414141, 2.43434343, 2.45454545, 2.47474747, 2.49494949,\n",
       "       2.51515152, 2.53535354, 2.55555556, 2.57575758, 2.5959596 ,\n",
       "       2.61616162, 2.63636364, 2.65656566, 2.67676768, 2.6969697 ,\n",
       "       2.71717172, 2.73737374, 2.75757576, 2.77777778, 2.7979798 ,\n",
       "       2.81818182, 2.83838384, 2.85858586, 2.87878788, 2.8989899 ,\n",
       "       2.91919192, 2.93939394, 2.95959596, 2.97979798, 3.        ])"
      ]
     },
     "execution_count": 53,
     "metadata": {},
     "output_type": "execute_result"
    }
   ],
   "source": [
    "data"
   ]
  },
  {
   "cell_type": "code",
   "execution_count": null,
   "id": "21402124",
   "metadata": {},
   "outputs": [],
   "source": []
  },
  {
   "cell_type": "code",
   "execution_count": 54,
   "id": "d41a7b2a",
   "metadata": {},
   "outputs": [
    {
     "data": {
      "text/plain": [
       "array([1.00000000e+01, 1.10975250e+01, 1.23155060e+01, 1.36671636e+01,\n",
       "       1.51671689e+01, 1.68318035e+01, 1.86791360e+01, 2.07292178e+01,\n",
       "       2.30043012e+01, 2.55290807e+01, 2.83309610e+01, 3.14403547e+01,\n",
       "       3.48910121e+01, 3.87203878e+01, 4.29700470e+01, 4.76861170e+01,\n",
       "       5.29197874e+01, 5.87278661e+01, 6.51733960e+01, 7.23263390e+01,\n",
       "       8.02643352e+01, 8.90735464e+01, 9.88495905e+01, 1.09698580e+02,\n",
       "       1.21738273e+02, 1.35099352e+02, 1.49926843e+02, 1.66381689e+02,\n",
       "       1.84642494e+02, 2.04907469e+02, 2.27396575e+02, 2.52353917e+02,\n",
       "       2.80050389e+02, 3.10786619e+02, 3.44896226e+02, 3.82749448e+02,\n",
       "       4.24757155e+02, 4.71375313e+02, 5.23109931e+02, 5.80522552e+02,\n",
       "       6.44236351e+02, 7.14942899e+02, 7.93409667e+02, 8.80488358e+02,\n",
       "       9.77124154e+02, 1.08436597e+03, 1.20337784e+03, 1.33545156e+03,\n",
       "       1.48202071e+03, 1.64467618e+03, 1.82518349e+03, 2.02550194e+03,\n",
       "       2.24780583e+03, 2.49450814e+03, 2.76828663e+03, 3.07211300e+03,\n",
       "       3.40928507e+03, 3.78346262e+03, 4.19870708e+03, 4.65952567e+03,\n",
       "       5.17092024e+03, 5.73844165e+03, 6.36824994e+03, 7.06718127e+03,\n",
       "       7.84282206e+03, 8.70359136e+03, 9.65883224e+03, 1.07189132e+04,\n",
       "       1.18953407e+04, 1.32008840e+04, 1.46497140e+04, 1.62575567e+04,\n",
       "       1.80418641e+04, 2.00220037e+04, 2.22194686e+04, 2.46581108e+04,\n",
       "       2.73644000e+04, 3.03677112e+04, 3.37006433e+04, 3.73993730e+04,\n",
       "       4.15040476e+04, 4.60592204e+04, 5.11143348e+04, 5.67242607e+04,\n",
       "       6.29498899e+04, 6.98587975e+04, 7.75259749e+04, 8.60346442e+04,\n",
       "       9.54771611e+04, 1.05956018e+05, 1.17584955e+05, 1.30490198e+05,\n",
       "       1.44811823e+05, 1.60705282e+05, 1.78343088e+05, 1.97916687e+05,\n",
       "       2.19638537e+05, 2.43744415e+05, 2.70495973e+05, 3.00183581e+05,\n",
       "       3.33129479e+05, 3.69691271e+05, 4.10265811e+05, 4.55293507e+05,\n",
       "       5.05263107e+05, 5.60716994e+05, 6.22257084e+05, 6.90551352e+05,\n",
       "       7.66341087e+05, 8.50448934e+05, 9.43787828e+05, 1.04737090e+06,\n",
       "       1.16232247e+06, 1.28989026e+06, 1.43145894e+06, 1.58856513e+06,\n",
       "       1.76291412e+06, 1.95639834e+06, 2.17111795e+06, 2.40940356e+06,\n",
       "       2.67384162e+06, 2.96730241e+06, 3.29297126e+06, 3.65438307e+06,\n",
       "       4.05546074e+06, 4.50055768e+06, 4.99450512e+06, 5.54266452e+06,\n",
       "       6.15098579e+06, 6.82607183e+06, 7.57525026e+06, 8.40665289e+06,\n",
       "       9.32930403e+06, 1.03532184e+07, 1.14895100e+07, 1.27505124e+07,\n",
       "       1.41499130e+07, 1.57029012e+07, 1.74263339e+07, 1.93389175e+07,\n",
       "       2.14614120e+07, 2.38168555e+07, 2.64308149e+07, 2.93316628e+07,\n",
       "       3.25508860e+07, 3.61234270e+07, 4.00880633e+07, 4.44878283e+07,\n",
       "       4.93704785e+07, 5.47890118e+07, 6.08022426e+07, 6.74754405e+07,\n",
       "       7.48810386e+07, 8.30994195e+07, 9.22197882e+07, 1.02341140e+08,\n",
       "       1.13573336e+08, 1.26038293e+08, 1.39871310e+08, 1.55222536e+08,\n",
       "       1.72258597e+08, 1.91164408e+08, 2.12145178e+08, 2.35428641e+08,\n",
       "       2.61267523e+08, 2.89942285e+08, 3.21764175e+08, 3.57078596e+08,\n",
       "       3.96268864e+08, 4.39760361e+08, 4.88025158e+08, 5.41587138e+08,\n",
       "       6.01027678e+08, 6.66991966e+08, 7.40196000e+08, 8.21434358e+08,\n",
       "       9.11588830e+08, 1.01163798e+09, 1.12266777e+09, 1.24588336e+09,\n",
       "       1.38262217e+09, 1.53436841e+09, 1.70276917e+09, 1.88965234e+09,\n",
       "       2.09704640e+09, 2.32720248e+09, 2.58261876e+09, 2.86606762e+09,\n",
       "       3.18062569e+09, 3.52970730e+09, 3.91710149e+09, 4.34701316e+09,\n",
       "       4.82410870e+09, 5.35356668e+09, 5.94113398e+09, 6.59318827e+09,\n",
       "       7.31680714e+09, 8.11984499e+09, 9.01101825e+09, 1.00000000e+10])"
      ]
     },
     "execution_count": 54,
     "metadata": {},
     "output_type": "execute_result"
    }
   ],
   "source": [
    "np.logspace(1,10,200)"
   ]
  },
  {
   "cell_type": "markdown",
   "id": "bd748faa",
   "metadata": {},
   "source": [
    "## Indexing & slicing "
   ]
  },
  {
   "cell_type": "code",
   "execution_count": 56,
   "id": "c3ccb680",
   "metadata": {},
   "outputs": [],
   "source": [
    "arr_1 = np.arange(10,20)"
   ]
  },
  {
   "cell_type": "code",
   "execution_count": 57,
   "id": "7e7bbc35",
   "metadata": {},
   "outputs": [
    {
     "data": {
      "text/plain": [
       "array([10, 11, 12, 13, 14, 15, 16, 17, 18, 19])"
      ]
     },
     "execution_count": 57,
     "metadata": {},
     "output_type": "execute_result"
    }
   ],
   "source": [
    "arr_1"
   ]
  },
  {
   "cell_type": "code",
   "execution_count": 58,
   "id": "5fe27ce2",
   "metadata": {},
   "outputs": [
    {
     "data": {
      "text/plain": [
       "10"
      ]
     },
     "execution_count": 58,
     "metadata": {},
     "output_type": "execute_result"
    }
   ],
   "source": [
    "arr_1[0]"
   ]
  },
  {
   "cell_type": "code",
   "execution_count": 59,
   "id": "6adb4c17",
   "metadata": {},
   "outputs": [
    {
     "data": {
      "text/plain": [
       "11"
      ]
     },
     "execution_count": 59,
     "metadata": {},
     "output_type": "execute_result"
    }
   ],
   "source": [
    "arr_1[1]"
   ]
  },
  {
   "cell_type": "code",
   "execution_count": 60,
   "id": "acb5a431",
   "metadata": {},
   "outputs": [
    {
     "data": {
      "text/plain": [
       "19"
      ]
     },
     "execution_count": 60,
     "metadata": {},
     "output_type": "execute_result"
    }
   ],
   "source": [
    "arr_1[-1]"
   ]
  },
  {
   "cell_type": "code",
   "execution_count": 61,
   "id": "343e53ed",
   "metadata": {},
   "outputs": [
    {
     "data": {
      "text/plain": [
       "array([13, 14, 15, 16, 17])"
      ]
     },
     "execution_count": 61,
     "metadata": {},
     "output_type": "execute_result"
    }
   ],
   "source": [
    "arr_1[3:8]"
   ]
  },
  {
   "cell_type": "code",
   "execution_count": null,
   "id": "e4a37d2b",
   "metadata": {},
   "outputs": [],
   "source": []
  },
  {
   "cell_type": "code",
   "execution_count": 66,
   "id": "f1b5919b",
   "metadata": {},
   "outputs": [],
   "source": [
    "arr6 = np.array([\n",
    "    [10,20,30,40,50,60],\n",
    "    [70,80,90,100,110,120],\n",
    "    [100,200,300,400,500,600],\n",
    "    [1000,2000,3000,4000,5000,6000]\n",
    "])"
   ]
  },
  {
   "cell_type": "code",
   "execution_count": 63,
   "id": "8b3ab2c4",
   "metadata": {},
   "outputs": [
    {
     "data": {
      "text/plain": [
       "array([[ 10,  20,  30,  40,  50,  60],\n",
       "       [ 70,  80,  90, 100, 110, 120]])"
      ]
     },
     "execution_count": 63,
     "metadata": {},
     "output_type": "execute_result"
    }
   ],
   "source": [
    "arr6"
   ]
  },
  {
   "cell_type": "code",
   "execution_count": null,
   "id": "20df1b51",
   "metadata": {},
   "outputs": [],
   "source": []
  },
  {
   "cell_type": "code",
   "execution_count": 65,
   "id": "0a1a140c",
   "metadata": {},
   "outputs": [
    {
     "data": {
      "text/plain": [
       "array([[20, 30],\n",
       "       [80, 90]])"
      ]
     },
     "execution_count": 65,
     "metadata": {},
     "output_type": "execute_result"
    }
   ],
   "source": [
    "arr6[0:2,1:3]"
   ]
  },
  {
   "cell_type": "code",
   "execution_count": null,
   "id": "a2f8772e",
   "metadata": {},
   "outputs": [],
   "source": []
  },
  {
   "cell_type": "code",
   "execution_count": 67,
   "id": "55615a52",
   "metadata": {},
   "outputs": [
    {
     "data": {
      "text/plain": [
       "array([[  10,   20,   30,   40,   50,   60],\n",
       "       [  70,   80,   90,  100,  110,  120],\n",
       "       [ 100,  200,  300,  400,  500,  600],\n",
       "       [1000, 2000, 3000, 4000, 5000, 6000]])"
      ]
     },
     "execution_count": 67,
     "metadata": {},
     "output_type": "execute_result"
    }
   ],
   "source": [
    "arr6"
   ]
  },
  {
   "cell_type": "code",
   "execution_count": null,
   "id": "a48224bd",
   "metadata": {},
   "outputs": [],
   "source": []
  },
  {
   "cell_type": "code",
   "execution_count": 70,
   "id": "67f36656",
   "metadata": {},
   "outputs": [
    {
     "data": {
      "text/plain": [
       "array([[  10,   20,   30],\n",
       "       [1000, 2000, 3000]])"
      ]
     },
     "execution_count": 70,
     "metadata": {},
     "output_type": "execute_result"
    }
   ],
   "source": [
    "arr6[0:4:3,0:3]"
   ]
  },
  {
   "cell_type": "code",
   "execution_count": 73,
   "id": "85e6aca2",
   "metadata": {},
   "outputs": [
    {
     "data": {
      "text/plain": [
       "array([[  80,  100,  120],\n",
       "       [2000, 4000, 6000]])"
      ]
     },
     "execution_count": 73,
     "metadata": {},
     "output_type": "execute_result"
    }
   ],
   "source": [
    "arr6[1:4:2,1:6:2]"
   ]
  },
  {
   "cell_type": "code",
   "execution_count": null,
   "id": "03d53133",
   "metadata": {},
   "outputs": [],
   "source": []
  },
  {
   "cell_type": "code",
   "execution_count": 74,
   "id": "bc80ab76",
   "metadata": {},
   "outputs": [],
   "source": [
    "arr7 = np.arange(100,190,10).reshape(3,3)"
   ]
  },
  {
   "cell_type": "code",
   "execution_count": 75,
   "id": "bb41d0a0",
   "metadata": {},
   "outputs": [
    {
     "data": {
      "text/plain": [
       "array([[100, 110, 120],\n",
       "       [130, 140, 150],\n",
       "       [160, 170, 180]])"
      ]
     },
     "execution_count": 75,
     "metadata": {},
     "output_type": "execute_result"
    }
   ],
   "source": [
    "arr7"
   ]
  },
  {
   "cell_type": "code",
   "execution_count": 76,
   "id": "3eaaff5d",
   "metadata": {},
   "outputs": [
    {
     "data": {
      "text/plain": [
       "array([100, 140, 180])"
      ]
     },
     "execution_count": 76,
     "metadata": {},
     "output_type": "execute_result"
    }
   ],
   "source": [
    "np.diag(arr7)"
   ]
  },
  {
   "cell_type": "code",
   "execution_count": null,
   "id": "d015385c",
   "metadata": {},
   "outputs": [],
   "source": []
  },
  {
   "cell_type": "code",
   "execution_count": 77,
   "id": "926724d8",
   "metadata": {},
   "outputs": [],
   "source": [
    "arr8 = np.array([10,20,30,40])\n",
    "arr9 = np.array([100,200,300,400])"
   ]
  },
  {
   "cell_type": "code",
   "execution_count": 78,
   "id": "1622e40e",
   "metadata": {},
   "outputs": [
    {
     "data": {
      "text/plain": [
       "array([10, 20, 30, 40])"
      ]
     },
     "execution_count": 78,
     "metadata": {},
     "output_type": "execute_result"
    }
   ],
   "source": [
    "arr8"
   ]
  },
  {
   "cell_type": "code",
   "execution_count": 79,
   "id": "62fcaa60",
   "metadata": {},
   "outputs": [
    {
     "data": {
      "text/plain": [
       "array([100, 200, 300, 400])"
      ]
     },
     "execution_count": 79,
     "metadata": {},
     "output_type": "execute_result"
    }
   ],
   "source": [
    "arr9"
   ]
  },
  {
   "cell_type": "code",
   "execution_count": 80,
   "id": "5d1ea1d9",
   "metadata": {},
   "outputs": [
    {
     "data": {
      "text/plain": [
       "array([110, 220, 330, 440])"
      ]
     },
     "execution_count": 80,
     "metadata": {},
     "output_type": "execute_result"
    }
   ],
   "source": [
    "arr8+arr9"
   ]
  },
  {
   "cell_type": "code",
   "execution_count": 81,
   "id": "e08a410e",
   "metadata": {},
   "outputs": [],
   "source": [
    "arr10 = np.array([10,20,30,40])\n",
    "arr11 = np.array([100,200,300,400,500])"
   ]
  },
  {
   "cell_type": "code",
   "execution_count": 82,
   "id": "50e297ac",
   "metadata": {},
   "outputs": [
    {
     "ename": "ValueError",
     "evalue": "operands could not be broadcast together with shapes (4,) (5,) ",
     "output_type": "error",
     "traceback": [
      "\u001b[0;31m---------------------------------------------------------------------------\u001b[0m",
      "\u001b[0;31mValueError\u001b[0m                                Traceback (most recent call last)",
      "Input \u001b[0;32mIn [82]\u001b[0m, in \u001b[0;36m<module>\u001b[0;34m\u001b[0m\n\u001b[0;32m----> 1\u001b[0m \u001b[43marr10\u001b[49m\u001b[38;5;241;43m+\u001b[39;49m\u001b[43marr11\u001b[49m\n",
      "\u001b[0;31mValueError\u001b[0m: operands could not be broadcast together with shapes (4,) (5,) "
     ]
    }
   ],
   "source": [
    "arr10+arr11"
   ]
  },
  {
   "cell_type": "code",
   "execution_count": 83,
   "id": "77588b19",
   "metadata": {},
   "outputs": [
    {
     "data": {
      "text/plain": [
       "array([ -90, -180, -270, -360])"
      ]
     },
     "execution_count": 83,
     "metadata": {},
     "output_type": "execute_result"
    }
   ],
   "source": [
    "arr8 - arr9"
   ]
  },
  {
   "cell_type": "code",
   "execution_count": 84,
   "id": "2b2ea9b0",
   "metadata": {},
   "outputs": [
    {
     "data": {
      "text/plain": [
       "array([ 90, 180, 270, 360])"
      ]
     },
     "execution_count": 84,
     "metadata": {},
     "output_type": "execute_result"
    }
   ],
   "source": [
    "arr9-arr8"
   ]
  },
  {
   "cell_type": "code",
   "execution_count": 85,
   "id": "30f05d9a",
   "metadata": {},
   "outputs": [
    {
     "data": {
      "text/plain": [
       "array([ 1000,  4000,  9000, 16000])"
      ]
     },
     "execution_count": 85,
     "metadata": {},
     "output_type": "execute_result"
    }
   ],
   "source": [
    "arr8*arr9"
   ]
  },
  {
   "cell_type": "code",
   "execution_count": 86,
   "id": "1343548c",
   "metadata": {},
   "outputs": [
    {
     "data": {
      "text/plain": [
       "array([0.1, 0.1, 0.1, 0.1])"
      ]
     },
     "execution_count": 86,
     "metadata": {},
     "output_type": "execute_result"
    }
   ],
   "source": [
    "arr8/arr9"
   ]
  },
  {
   "cell_type": "code",
   "execution_count": 87,
   "id": "ecf83dbe",
   "metadata": {},
   "outputs": [
    {
     "data": {
      "text/plain": [
       "array([10., 10., 10., 10.])"
      ]
     },
     "execution_count": 87,
     "metadata": {},
     "output_type": "execute_result"
    }
   ],
   "source": [
    "arr9/arr8"
   ]
  },
  {
   "cell_type": "code",
   "execution_count": 88,
   "id": "8e2ea382",
   "metadata": {},
   "outputs": [
    {
     "data": {
      "text/plain": [
       "array([10, 20, 30, 40])"
      ]
     },
     "execution_count": 88,
     "metadata": {},
     "output_type": "execute_result"
    }
   ],
   "source": [
    "arr8 % arr9"
   ]
  },
  {
   "cell_type": "code",
   "execution_count": null,
   "id": "4468f60b",
   "metadata": {},
   "outputs": [],
   "source": []
  },
  {
   "cell_type": "markdown",
   "id": "36d4abf4",
   "metadata": {},
   "source": [
    "## multidimension array calc"
   ]
  },
  {
   "cell_type": "code",
   "execution_count": 89,
   "id": "f462c772",
   "metadata": {},
   "outputs": [],
   "source": [
    "m1 = np.array([\n",
    "    [0,0,0],\n",
    "    [10,10,10],\n",
    "    [20,20,20],\n",
    "    [30,30,30]\n",
    "])"
   ]
  },
  {
   "cell_type": "code",
   "execution_count": 90,
   "id": "fdee035f",
   "metadata": {},
   "outputs": [
    {
     "data": {
      "text/plain": [
       "array([[ 0,  0,  0],\n",
       "       [10, 10, 10],\n",
       "       [20, 20, 20],\n",
       "       [30, 30, 30]])"
      ]
     },
     "execution_count": 90,
     "metadata": {},
     "output_type": "execute_result"
    }
   ],
   "source": [
    "m1"
   ]
  },
  {
   "cell_type": "code",
   "execution_count": 91,
   "id": "04615806",
   "metadata": {},
   "outputs": [],
   "source": [
    "m2 = np.array([1,2,3])"
   ]
  },
  {
   "cell_type": "code",
   "execution_count": 92,
   "id": "9304ec18",
   "metadata": {},
   "outputs": [
    {
     "data": {
      "text/plain": [
       "array([1, 2, 3])"
      ]
     },
     "execution_count": 92,
     "metadata": {},
     "output_type": "execute_result"
    }
   ],
   "source": [
    "m2"
   ]
  },
  {
   "cell_type": "code",
   "execution_count": 93,
   "id": "42cc91d7",
   "metadata": {},
   "outputs": [
    {
     "data": {
      "text/plain": [
       "array([[ 1,  2,  3],\n",
       "       [11, 12, 13],\n",
       "       [21, 22, 23],\n",
       "       [31, 32, 33]])"
      ]
     },
     "execution_count": 93,
     "metadata": {},
     "output_type": "execute_result"
    }
   ],
   "source": [
    "m1+m2"
   ]
  },
  {
   "cell_type": "code",
   "execution_count": null,
   "id": "cbdaf35c",
   "metadata": {},
   "outputs": [],
   "source": []
  },
  {
   "cell_type": "markdown",
   "id": "660ff704",
   "metadata": {},
   "source": [
    "## comparison operations in numpy"
   ]
  },
  {
   "cell_type": "code",
   "execution_count": 2,
   "id": "8b076fa8",
   "metadata": {},
   "outputs": [],
   "source": [
    "mul_d = np.arange(1,21).reshape(5,4)"
   ]
  },
  {
   "cell_type": "code",
   "execution_count": 3,
   "id": "ea796b78",
   "metadata": {},
   "outputs": [
    {
     "data": {
      "text/plain": [
       "array([[ 1,  2,  3,  4],\n",
       "       [ 5,  6,  7,  8],\n",
       "       [ 9, 10, 11, 12],\n",
       "       [13, 14, 15, 16],\n",
       "       [17, 18, 19, 20]])"
      ]
     },
     "execution_count": 3,
     "metadata": {},
     "output_type": "execute_result"
    }
   ],
   "source": [
    "mul_d"
   ]
  },
  {
   "cell_type": "code",
   "execution_count": 4,
   "id": "ce423e25",
   "metadata": {},
   "outputs": [
    {
     "data": {
      "text/plain": [
       "array([[False, False, False, False],\n",
       "       [False,  True,  True,  True],\n",
       "       [ True,  True,  True,  True],\n",
       "       [ True,  True,  True,  True],\n",
       "       [ True,  True,  True,  True]])"
      ]
     },
     "execution_count": 4,
     "metadata": {},
     "output_type": "execute_result"
    }
   ],
   "source": [
    "mul_d > 5"
   ]
  },
  {
   "cell_type": "code",
   "execution_count": 5,
   "id": "ad9c3d1d",
   "metadata": {},
   "outputs": [
    {
     "data": {
      "text/plain": [
       "array([ 6,  7,  8,  9, 10, 11, 12, 13, 14, 15, 16, 17, 18, 19, 20])"
      ]
     },
     "execution_count": 5,
     "metadata": {},
     "output_type": "execute_result"
    }
   ],
   "source": [
    "mul_d[mul_d > 5]"
   ]
  },
  {
   "cell_type": "code",
   "execution_count": 6,
   "id": "ff70abf8",
   "metadata": {},
   "outputs": [
    {
     "data": {
      "text/plain": [
       "array([[ 1,  2,  3,  4],\n",
       "       [ 5,  6,  7,  8],\n",
       "       [ 9, 10, 11, 12],\n",
       "       [13, 14, 15, 16],\n",
       "       [17, 18, 19, 20]])"
      ]
     },
     "execution_count": 6,
     "metadata": {},
     "output_type": "execute_result"
    }
   ],
   "source": [
    "mul_d"
   ]
  },
  {
   "cell_type": "code",
   "execution_count": 8,
   "id": "efa3086f",
   "metadata": {},
   "outputs": [
    {
     "data": {
      "text/plain": [
       "11"
      ]
     },
     "execution_count": 8,
     "metadata": {},
     "output_type": "execute_result"
    }
   ],
   "source": [
    "mul_d[2][2]"
   ]
  },
  {
   "cell_type": "code",
   "execution_count": 9,
   "id": "9991b4b1",
   "metadata": {},
   "outputs": [
    {
     "data": {
      "text/plain": [
       "array([[ 1,  2,  3,  4],\n",
       "       [ 5,  6,  7,  8],\n",
       "       [ 9, 10, 11, 12],\n",
       "       [13, 14, 15, 16],\n",
       "       [17, 18, 19, 20]])"
      ]
     },
     "execution_count": 9,
     "metadata": {},
     "output_type": "execute_result"
    }
   ],
   "source": [
    "mul_d"
   ]
  },
  {
   "cell_type": "code",
   "execution_count": 10,
   "id": "3f46d7f6",
   "metadata": {},
   "outputs": [
    {
     "data": {
      "text/plain": [
       "array([ 1,  2,  3,  4,  5,  6,  7,  8,  9, 10, 11, 12, 13, 14, 15, 16, 17,\n",
       "       18, 19, 20])"
      ]
     },
     "execution_count": 10,
     "metadata": {},
     "output_type": "execute_result"
    }
   ],
   "source": [
    "mul_d.flatten()"
   ]
  },
  {
   "cell_type": "code",
   "execution_count": null,
   "id": "04e3245c",
   "metadata": {},
   "outputs": [],
   "source": []
  },
  {
   "cell_type": "code",
   "execution_count": 11,
   "id": "797ce2fd",
   "metadata": {},
   "outputs": [],
   "source": [
    "arr1 = np.arange(12).reshape(3,4)"
   ]
  },
  {
   "cell_type": "code",
   "execution_count": 12,
   "id": "700d945d",
   "metadata": {},
   "outputs": [
    {
     "data": {
      "text/plain": [
       "array([[ 0,  1,  2,  3],\n",
       "       [ 4,  5,  6,  7],\n",
       "       [ 8,  9, 10, 11]])"
      ]
     },
     "execution_count": 12,
     "metadata": {},
     "output_type": "execute_result"
    }
   ],
   "source": [
    "arr1"
   ]
  },
  {
   "cell_type": "code",
   "execution_count": 13,
   "id": "c4ba912e",
   "metadata": {},
   "outputs": [
    {
     "data": {
      "text/plain": [
       "array([[ 0,  4,  8],\n",
       "       [ 1,  5,  9],\n",
       "       [ 2,  6, 10],\n",
       "       [ 3,  7, 11]])"
      ]
     },
     "execution_count": 13,
     "metadata": {},
     "output_type": "execute_result"
    }
   ],
   "source": [
    "arr1.transpose()"
   ]
  },
  {
   "cell_type": "markdown",
   "id": "f19d73d9",
   "metadata": {},
   "source": [
    "## numpy concatenate"
   ]
  },
  {
   "cell_type": "code",
   "execution_count": 14,
   "id": "85e40550",
   "metadata": {},
   "outputs": [],
   "source": [
    "ar1 = np.array([\n",
    "    [1,2],\n",
    "    [3,5]\n",
    "])"
   ]
  },
  {
   "cell_type": "code",
   "execution_count": 15,
   "id": "61b70dec",
   "metadata": {},
   "outputs": [
    {
     "data": {
      "text/plain": [
       "array([[1, 2],\n",
       "       [3, 5]])"
      ]
     },
     "execution_count": 15,
     "metadata": {},
     "output_type": "execute_result"
    }
   ],
   "source": [
    "ar1"
   ]
  },
  {
   "cell_type": "code",
   "execution_count": 16,
   "id": "374b6f34",
   "metadata": {},
   "outputs": [],
   "source": [
    "ar2 = np.array([\n",
    "    [5,6],\n",
    "    [7,8]\n",
    "])"
   ]
  },
  {
   "cell_type": "code",
   "execution_count": 17,
   "id": "dc578ab0",
   "metadata": {},
   "outputs": [
    {
     "data": {
      "text/plain": [
       "array([[5, 6],\n",
       "       [7, 8]])"
      ]
     },
     "execution_count": 17,
     "metadata": {},
     "output_type": "execute_result"
    }
   ],
   "source": [
    "ar2"
   ]
  },
  {
   "cell_type": "code",
   "execution_count": 19,
   "id": "df0ac1c1",
   "metadata": {},
   "outputs": [
    {
     "data": {
      "text/plain": [
       "array([[1, 2],\n",
       "       [3, 5]])"
      ]
     },
     "execution_count": 19,
     "metadata": {},
     "output_type": "execute_result"
    }
   ],
   "source": [
    "ar1"
   ]
  },
  {
   "cell_type": "code",
   "execution_count": 20,
   "id": "ec5382da",
   "metadata": {},
   "outputs": [
    {
     "data": {
      "text/plain": [
       "array([[5, 6],\n",
       "       [7, 8]])"
      ]
     },
     "execution_count": 20,
     "metadata": {},
     "output_type": "execute_result"
    }
   ],
   "source": [
    "ar2"
   ]
  },
  {
   "cell_type": "code",
   "execution_count": 18,
   "id": "b25b8087",
   "metadata": {},
   "outputs": [
    {
     "data": {
      "text/plain": [
       "array([[1, 2],\n",
       "       [3, 5],\n",
       "       [5, 6],\n",
       "       [7, 8]])"
      ]
     },
     "execution_count": 18,
     "metadata": {},
     "output_type": "execute_result"
    }
   ],
   "source": [
    "np.concatenate((ar1,ar2))  #default axis is 0 ---> row wise"
   ]
  },
  {
   "cell_type": "code",
   "execution_count": 21,
   "id": "7d2aa128",
   "metadata": {},
   "outputs": [
    {
     "data": {
      "text/plain": [
       "array([[1, 2],\n",
       "       [3, 5]])"
      ]
     },
     "execution_count": 21,
     "metadata": {},
     "output_type": "execute_result"
    }
   ],
   "source": [
    "ar1"
   ]
  },
  {
   "cell_type": "code",
   "execution_count": 22,
   "id": "a4365dd9",
   "metadata": {},
   "outputs": [
    {
     "data": {
      "text/plain": [
       "array([[5, 6],\n",
       "       [7, 8]])"
      ]
     },
     "execution_count": 22,
     "metadata": {},
     "output_type": "execute_result"
    }
   ],
   "source": [
    "ar2"
   ]
  },
  {
   "cell_type": "code",
   "execution_count": 23,
   "id": "4131578f",
   "metadata": {},
   "outputs": [
    {
     "data": {
      "text/plain": [
       "array([[1, 2, 5, 6],\n",
       "       [3, 5, 7, 8]])"
      ]
     },
     "execution_count": 23,
     "metadata": {},
     "output_type": "execute_result"
    }
   ],
   "source": [
    "np.concatenate((ar1,ar2),axis=1)  #column wise concatenation"
   ]
  },
  {
   "cell_type": "code",
   "execution_count": null,
   "id": "1408f70d",
   "metadata": {},
   "outputs": [],
   "source": []
  },
  {
   "cell_type": "code",
   "execution_count": 24,
   "id": "70ce505e",
   "metadata": {},
   "outputs": [
    {
     "data": {
      "text/plain": [
       "array([[1, 2, 5, 6],\n",
       "       [3, 5, 7, 8]])"
      ]
     },
     "execution_count": 24,
     "metadata": {},
     "output_type": "execute_result"
    }
   ],
   "source": [
    "np.hstack((ar1,ar2))"
   ]
  },
  {
   "cell_type": "code",
   "execution_count": 25,
   "id": "6de315a6",
   "metadata": {},
   "outputs": [
    {
     "data": {
      "text/plain": [
       "array([[1, 2],\n",
       "       [3, 5],\n",
       "       [5, 6],\n",
       "       [7, 8]])"
      ]
     },
     "execution_count": 25,
     "metadata": {},
     "output_type": "execute_result"
    }
   ],
   "source": [
    "np.vstack((ar1,ar2))"
   ]
  },
  {
   "cell_type": "code",
   "execution_count": null,
   "id": "2db709c1",
   "metadata": {},
   "outputs": [],
   "source": []
  },
  {
   "cell_type": "markdown",
   "id": "e9dd920d",
   "metadata": {},
   "source": [
    "## splitting "
   ]
  },
  {
   "cell_type": "code",
   "execution_count": 27,
   "id": "61bd901d",
   "metadata": {},
   "outputs": [],
   "source": [
    "ar4 = np.arange(16).reshape(4,4)"
   ]
  },
  {
   "cell_type": "code",
   "execution_count": 28,
   "id": "12c00520",
   "metadata": {},
   "outputs": [
    {
     "data": {
      "text/plain": [
       "array([[ 0,  1,  2,  3],\n",
       "       [ 4,  5,  6,  7],\n",
       "       [ 8,  9, 10, 11],\n",
       "       [12, 13, 14, 15]])"
      ]
     },
     "execution_count": 28,
     "metadata": {},
     "output_type": "execute_result"
    }
   ],
   "source": [
    "ar4"
   ]
  },
  {
   "cell_type": "code",
   "execution_count": 29,
   "id": "d7c7bb75",
   "metadata": {},
   "outputs": [
    {
     "data": {
      "text/plain": [
       "[array([[ 0,  1],\n",
       "        [ 4,  5],\n",
       "        [ 8,  9],\n",
       "        [12, 13]]),\n",
       " array([[ 2,  3],\n",
       "        [ 6,  7],\n",
       "        [10, 11],\n",
       "        [14, 15]])]"
      ]
     },
     "execution_count": 29,
     "metadata": {},
     "output_type": "execute_result"
    }
   ],
   "source": [
    "np.hsplit(ar4,2)"
   ]
  },
  {
   "cell_type": "code",
   "execution_count": 30,
   "id": "789fc947",
   "metadata": {},
   "outputs": [
    {
     "data": {
      "text/plain": [
       "[array([[0, 1, 2, 3],\n",
       "        [4, 5, 6, 7]]),\n",
       " array([[ 8,  9, 10, 11],\n",
       "        [12, 13, 14, 15]])]"
      ]
     },
     "execution_count": 30,
     "metadata": {},
     "output_type": "execute_result"
    }
   ],
   "source": [
    "np.vsplit(ar4,2)"
   ]
  },
  {
   "cell_type": "code",
   "execution_count": null,
   "id": "edd659e3",
   "metadata": {},
   "outputs": [],
   "source": []
  },
  {
   "cell_type": "code",
   "execution_count": 31,
   "id": "55859eeb",
   "metadata": {},
   "outputs": [],
   "source": [
    "arr5 = np.array([[1,2,3],[4,5,6]])"
   ]
  },
  {
   "cell_type": "code",
   "execution_count": 38,
   "id": "83da2be9",
   "metadata": {},
   "outputs": [
    {
     "data": {
      "text/plain": [
       "array([[1, 2, 3],\n",
       "       [4, 5, 6]])"
      ]
     },
     "execution_count": 38,
     "metadata": {},
     "output_type": "execute_result"
    }
   ],
   "source": [
    "arr5"
   ]
  },
  {
   "cell_type": "code",
   "execution_count": 35,
   "id": "7c193e29",
   "metadata": {},
   "outputs": [],
   "source": [
    "res = np.append(arr5,[100,200,300])"
   ]
  },
  {
   "cell_type": "code",
   "execution_count": 37,
   "id": "c3d88b2c",
   "metadata": {},
   "outputs": [
    {
     "data": {
      "text/plain": [
       "array([[  1,   2,   3],\n",
       "       [  4,   5,   6],\n",
       "       [100, 200, 300]])"
      ]
     },
     "execution_count": 37,
     "metadata": {},
     "output_type": "execute_result"
    }
   ],
   "source": [
    "res.reshape(3,3)"
   ]
  },
  {
   "cell_type": "code",
   "execution_count": null,
   "id": "f1870457",
   "metadata": {},
   "outputs": [],
   "source": []
  },
  {
   "cell_type": "code",
   "execution_count": null,
   "id": "681987e0",
   "metadata": {},
   "outputs": [],
   "source": []
  },
  {
   "cell_type": "code",
   "execution_count": 40,
   "id": "709c31be",
   "metadata": {},
   "outputs": [
    {
     "data": {
      "text/plain": [
       "array([[  1,   2,   3],\n",
       "       [  4,   5,   6],\n",
       "       [500, 600, 700]])"
      ]
     },
     "execution_count": 40,
     "metadata": {},
     "output_type": "execute_result"
    }
   ],
   "source": [
    "np.append(arr5,[[500,600,700]],axis=0)"
   ]
  },
  {
   "cell_type": "code",
   "execution_count": null,
   "id": "0bb3cce2",
   "metadata": {},
   "outputs": [],
   "source": []
  },
  {
   "cell_type": "code",
   "execution_count": 41,
   "id": "b498491a",
   "metadata": {},
   "outputs": [
    {
     "data": {
      "text/plain": [
       "array([[1, 2, 3],\n",
       "       [4, 5, 6]])"
      ]
     },
     "execution_count": 41,
     "metadata": {},
     "output_type": "execute_result"
    }
   ],
   "source": [
    "arr5"
   ]
  },
  {
   "cell_type": "code",
   "execution_count": null,
   "id": "3ed10843",
   "metadata": {},
   "outputs": [],
   "source": []
  },
  {
   "cell_type": "code",
   "execution_count": 42,
   "id": "661a63e8",
   "metadata": {},
   "outputs": [
    {
     "data": {
      "text/plain": [
       "array([[ 1,  2,  3, 13, 14],\n",
       "       [ 4,  5,  6, 15, 16]])"
      ]
     },
     "execution_count": 42,
     "metadata": {},
     "output_type": "execute_result"
    }
   ],
   "source": [
    "np.append(arr5,[[13,14],[15,16]],axis=1)"
   ]
  },
  {
   "cell_type": "code",
   "execution_count": null,
   "id": "26899471",
   "metadata": {},
   "outputs": [],
   "source": []
  },
  {
   "cell_type": "markdown",
   "id": "01d5925e",
   "metadata": {},
   "source": [
    "## deleting"
   ]
  },
  {
   "cell_type": "code",
   "execution_count": 43,
   "id": "367c13c3",
   "metadata": {},
   "outputs": [],
   "source": [
    "arr6 = np.array([10,11,12,13,14,15,16,17,18,19])"
   ]
  },
  {
   "cell_type": "code",
   "execution_count": 44,
   "id": "dff35e61",
   "metadata": {},
   "outputs": [
    {
     "data": {
      "text/plain": [
       "array([10, 11, 12, 13, 14, 15, 16, 17, 18, 19])"
      ]
     },
     "execution_count": 44,
     "metadata": {},
     "output_type": "execute_result"
    }
   ],
   "source": [
    "arr6"
   ]
  },
  {
   "cell_type": "code",
   "execution_count": 45,
   "id": "5ff3b433",
   "metadata": {},
   "outputs": [
    {
     "data": {
      "text/plain": [
       "array([10, 11, 13, 14, 15, 16, 17, 18, 19])"
      ]
     },
     "execution_count": 45,
     "metadata": {},
     "output_type": "execute_result"
    }
   ],
   "source": [
    "np.delete(arr6,2)"
   ]
  },
  {
   "cell_type": "code",
   "execution_count": 46,
   "id": "0f3a5676",
   "metadata": {},
   "outputs": [
    {
     "data": {
      "text/plain": [
       "array([10, 11, 12, 13, 14, 15, 16, 17, 18, 19])"
      ]
     },
     "execution_count": 46,
     "metadata": {},
     "output_type": "execute_result"
    }
   ],
   "source": [
    "arr6"
   ]
  },
  {
   "cell_type": "code",
   "execution_count": 48,
   "id": "b0194170",
   "metadata": {},
   "outputs": [
    {
     "data": {
      "text/plain": [
       "array([12, 13, 14, 15, 16, 17, 18, 19])"
      ]
     },
     "execution_count": 48,
     "metadata": {},
     "output_type": "execute_result"
    }
   ],
   "source": [
    "np.delete(arr6,np.s_[0:2])"
   ]
  },
  {
   "cell_type": "code",
   "execution_count": 49,
   "id": "e6d1b8ea",
   "metadata": {},
   "outputs": [
    {
     "data": {
      "text/plain": [
       "array([10, 12, 14, 16, 17, 18, 19])"
      ]
     },
     "execution_count": 49,
     "metadata": {},
     "output_type": "execute_result"
    }
   ],
   "source": [
    "np.delete(arr6,[1,3,5])"
   ]
  },
  {
   "cell_type": "code",
   "execution_count": 51,
   "id": "042dcfa9",
   "metadata": {},
   "outputs": [
    {
     "data": {
      "text/plain": [
       "10"
      ]
     },
     "execution_count": 51,
     "metadata": {},
     "output_type": "execute_result"
    }
   ],
   "source": [
    "len(arr6)"
   ]
  },
  {
   "cell_type": "code",
   "execution_count": 52,
   "id": "29eb3d15",
   "metadata": {},
   "outputs": [],
   "source": [
    "arr7 = arr6.reshape(5,2)"
   ]
  },
  {
   "cell_type": "code",
   "execution_count": 53,
   "id": "54fcf758",
   "metadata": {},
   "outputs": [
    {
     "data": {
      "text/plain": [
       "array([[10, 11],\n",
       "       [12, 13],\n",
       "       [14, 15],\n",
       "       [16, 17],\n",
       "       [18, 19]])"
      ]
     },
     "execution_count": 53,
     "metadata": {},
     "output_type": "execute_result"
    }
   ],
   "source": [
    "arr7"
   ]
  },
  {
   "cell_type": "code",
   "execution_count": 54,
   "id": "3c901272",
   "metadata": {},
   "outputs": [
    {
     "data": {
      "text/plain": [
       "array([[10, 11],\n",
       "       [14, 15],\n",
       "       [16, 17],\n",
       "       [18, 19]])"
      ]
     },
     "execution_count": 54,
     "metadata": {},
     "output_type": "execute_result"
    }
   ],
   "source": [
    "np.delete(arr7,1,axis=0)  #row wise deletion"
   ]
  },
  {
   "cell_type": "code",
   "execution_count": 55,
   "id": "5736c756",
   "metadata": {},
   "outputs": [
    {
     "data": {
      "text/plain": [
       "array([[11],\n",
       "       [13],\n",
       "       [15],\n",
       "       [17],\n",
       "       [19]])"
      ]
     },
     "execution_count": 55,
     "metadata": {},
     "output_type": "execute_result"
    }
   ],
   "source": [
    "np.delete(arr7,0,axis=1)  #col wise deletion"
   ]
  },
  {
   "cell_type": "code",
   "execution_count": null,
   "id": "5f82e6f3",
   "metadata": {},
   "outputs": [],
   "source": []
  },
  {
   "cell_type": "code",
   "execution_count": 56,
   "id": "15904f1c",
   "metadata": {},
   "outputs": [
    {
     "data": {
      "text/plain": [
       "array([[10, 11],\n",
       "       [12, 13],\n",
       "       [14, 15],\n",
       "       [16, 17],\n",
       "       [18, 19]])"
      ]
     },
     "execution_count": 56,
     "metadata": {},
     "output_type": "execute_result"
    }
   ],
   "source": [
    "arr7"
   ]
  },
  {
   "cell_type": "code",
   "execution_count": 58,
   "id": "2936132c",
   "metadata": {},
   "outputs": [],
   "source": [
    "new_data =arr7.tolist()"
   ]
  },
  {
   "cell_type": "code",
   "execution_count": 59,
   "id": "5abf18bc",
   "metadata": {},
   "outputs": [
    {
     "data": {
      "text/plain": [
       "list"
      ]
     },
     "execution_count": 59,
     "metadata": {},
     "output_type": "execute_result"
    }
   ],
   "source": [
    "type(new_data)"
   ]
  },
  {
   "cell_type": "code",
   "execution_count": 60,
   "id": "9bcbcc3a",
   "metadata": {},
   "outputs": [
    {
     "data": {
      "text/plain": [
       "[[10, 11], [12, 13], [14, 15], [16, 17], [18, 19]]"
      ]
     },
     "execution_count": 60,
     "metadata": {},
     "output_type": "execute_result"
    }
   ],
   "source": [
    "new_data"
   ]
  },
  {
   "cell_type": "code",
   "execution_count": null,
   "id": "bd44ff94",
   "metadata": {},
   "outputs": [],
   "source": []
  },
  {
   "cell_type": "code",
   "execution_count": 61,
   "id": "ce99ae47",
   "metadata": {},
   "outputs": [],
   "source": [
    "arr = np.array([\n",
    "    [2,4,6],\n",
    "    [1,3,5],\n",
    "    [9,7,8]\n",
    "])"
   ]
  },
  {
   "cell_type": "code",
   "execution_count": 62,
   "id": "378f4492",
   "metadata": {},
   "outputs": [
    {
     "data": {
      "text/plain": [
       "array([[2, 4, 6],\n",
       "       [1, 3, 5],\n",
       "       [9, 7, 8]])"
      ]
     },
     "execution_count": 62,
     "metadata": {},
     "output_type": "execute_result"
    }
   ],
   "source": [
    "arr"
   ]
  },
  {
   "cell_type": "code",
   "execution_count": 63,
   "id": "2c94f3c9",
   "metadata": {},
   "outputs": [],
   "source": [
    "def calc_data(x):\n",
    "    return (x[0] - x[-1])"
   ]
  },
  {
   "cell_type": "code",
   "execution_count": 66,
   "id": "d74be528",
   "metadata": {},
   "outputs": [],
   "source": [
    "result = np.apply_along_axis(calc_data,1,arr)"
   ]
  },
  {
   "cell_type": "code",
   "execution_count": 67,
   "id": "02a32af9",
   "metadata": {},
   "outputs": [
    {
     "data": {
      "text/plain": [
       "array([-4, -4,  1])"
      ]
     },
     "execution_count": 67,
     "metadata": {},
     "output_type": "execute_result"
    }
   ],
   "source": [
    "result"
   ]
  },
  {
   "cell_type": "code",
   "execution_count": 68,
   "id": "11977261",
   "metadata": {},
   "outputs": [
    {
     "data": {
      "text/plain": [
       "numpy.ndarray"
      ]
     },
     "execution_count": 68,
     "metadata": {},
     "output_type": "execute_result"
    }
   ],
   "source": [
    "type(result)"
   ]
  },
  {
   "cell_type": "code",
   "execution_count": null,
   "id": "e13ca1e6",
   "metadata": {},
   "outputs": [],
   "source": []
  },
  {
   "cell_type": "code",
   "execution_count": 69,
   "id": "2f70d235",
   "metadata": {},
   "outputs": [],
   "source": [
    "arr8 = np.array([4,5,6,7,8,9,4,5,6,7])"
   ]
  },
  {
   "cell_type": "code",
   "execution_count": 70,
   "id": "4fd5ce3e",
   "metadata": {},
   "outputs": [
    {
     "data": {
      "text/plain": [
       "array([4, 5, 6, 7, 8, 9, 4, 5, 6, 7])"
      ]
     },
     "execution_count": 70,
     "metadata": {},
     "output_type": "execute_result"
    }
   ],
   "source": [
    "arr8"
   ]
  },
  {
   "cell_type": "code",
   "execution_count": 71,
   "id": "81670f09",
   "metadata": {},
   "outputs": [
    {
     "data": {
      "text/plain": [
       "array([4, 5, 6, 7, 8, 9])"
      ]
     },
     "execution_count": 71,
     "metadata": {},
     "output_type": "execute_result"
    }
   ],
   "source": [
    "np.unique(arr8)"
   ]
  },
  {
   "cell_type": "code",
   "execution_count": null,
   "id": "3db70c2a",
   "metadata": {},
   "outputs": [],
   "source": []
  },
  {
   "cell_type": "code",
   "execution_count": 72,
   "id": "175fda92",
   "metadata": {},
   "outputs": [
    {
     "data": {
      "text/plain": [
       "(array([4, 5, 6, 7, 8, 9]), array([0, 1, 2, 3, 4, 5]))"
      ]
     },
     "execution_count": 72,
     "metadata": {},
     "output_type": "execute_result"
    }
   ],
   "source": [
    "np.unique(arr8,return_index=True)"
   ]
  },
  {
   "cell_type": "code",
   "execution_count": null,
   "id": "f43b19af",
   "metadata": {},
   "outputs": [],
   "source": []
  },
  {
   "cell_type": "markdown",
   "id": "b58917e4",
   "metadata": {},
   "source": [
    "## mathematical functions"
   ]
  },
  {
   "cell_type": "code",
   "execution_count": 73,
   "id": "f7960b16",
   "metadata": {},
   "outputs": [],
   "source": [
    "num = np.array([[0,30,45,60,90],[30,45,90,180,270]])"
   ]
  },
  {
   "cell_type": "code",
   "execution_count": 74,
   "id": "452d34f5",
   "metadata": {},
   "outputs": [
    {
     "data": {
      "text/plain": [
       "array([[  0,  30,  45,  60,  90],\n",
       "       [ 30,  45,  90, 180, 270]])"
      ]
     },
     "execution_count": 74,
     "metadata": {},
     "output_type": "execute_result"
    }
   ],
   "source": [
    "num"
   ]
  },
  {
   "cell_type": "code",
   "execution_count": 75,
   "id": "995289e6",
   "metadata": {},
   "outputs": [
    {
     "data": {
      "text/plain": [
       "array([[ 0.        , -0.98803162,  0.85090352, -0.30481062,  0.89399666],\n",
       "       [-0.98803162,  0.85090352,  0.89399666, -0.80115264, -0.17604595]])"
      ]
     },
     "execution_count": 75,
     "metadata": {},
     "output_type": "execute_result"
    }
   ],
   "source": [
    "np.sin(num)"
   ]
  },
  {
   "cell_type": "code",
   "execution_count": 76,
   "id": "dc28135c",
   "metadata": {},
   "outputs": [
    {
     "data": {
      "text/plain": [
       "array([[ 1.        ,  0.15425145,  0.52532199, -0.95241298, -0.44807362],\n",
       "       [ 0.15425145,  0.52532199, -0.44807362, -0.59846007,  0.98438195]])"
      ]
     },
     "execution_count": 76,
     "metadata": {},
     "output_type": "execute_result"
    }
   ],
   "source": [
    "np.cos(num)"
   ]
  },
  {
   "cell_type": "code",
   "execution_count": 77,
   "id": "cbe96b5a",
   "metadata": {},
   "outputs": [
    {
     "data": {
      "text/plain": [
       "array([[ 0.        , -6.4053312 ,  1.61977519,  0.32004039, -1.99520041],\n",
       "       [-6.4053312 ,  1.61977519, -1.99520041,  1.33869021, -0.17883906]])"
      ]
     },
     "execution_count": 77,
     "metadata": {},
     "output_type": "execute_result"
    }
   ],
   "source": [
    "np.tan(num)"
   ]
  },
  {
   "cell_type": "code",
   "execution_count": null,
   "id": "15972e03",
   "metadata": {},
   "outputs": [],
   "source": []
  },
  {
   "cell_type": "code",
   "execution_count": 78,
   "id": "22b7751a",
   "metadata": {},
   "outputs": [],
   "source": [
    "arr9 = np.arange(9).reshape(3,3)"
   ]
  },
  {
   "cell_type": "code",
   "execution_count": 79,
   "id": "c1218908",
   "metadata": {},
   "outputs": [
    {
     "data": {
      "text/plain": [
       "array([[0, 1, 2],\n",
       "       [3, 4, 5],\n",
       "       [6, 7, 8]])"
      ]
     },
     "execution_count": 79,
     "metadata": {},
     "output_type": "execute_result"
    }
   ],
   "source": [
    "arr9"
   ]
  },
  {
   "cell_type": "code",
   "execution_count": 80,
   "id": "0c89570c",
   "metadata": {},
   "outputs": [],
   "source": [
    "arr10 = np.array([1,2,3])"
   ]
  },
  {
   "cell_type": "code",
   "execution_count": 81,
   "id": "facba258",
   "metadata": {},
   "outputs": [
    {
     "data": {
      "text/plain": [
       "array([1, 2, 3])"
      ]
     },
     "execution_count": 81,
     "metadata": {},
     "output_type": "execute_result"
    }
   ],
   "source": [
    "arr10"
   ]
  },
  {
   "cell_type": "code",
   "execution_count": null,
   "id": "d79c52f5",
   "metadata": {},
   "outputs": [],
   "source": []
  },
  {
   "cell_type": "code",
   "execution_count": 82,
   "id": "c633aaf7",
   "metadata": {},
   "outputs": [
    {
     "data": {
      "text/plain": [
       "array([[0, 1, 2],\n",
       "       [0, 0, 2],\n",
       "       [0, 1, 2]])"
      ]
     },
     "execution_count": 82,
     "metadata": {},
     "output_type": "execute_result"
    }
   ],
   "source": [
    "np.mod(arr9,arr10)"
   ]
  },
  {
   "cell_type": "code",
   "execution_count": 86,
   "id": "d3126cb2",
   "metadata": {},
   "outputs": [
    {
     "data": {
      "text/plain": [
       "array([[0, 1, 2],\n",
       "       [0, 0, 2],\n",
       "       [0, 1, 2]])"
      ]
     },
     "execution_count": 86,
     "metadata": {},
     "output_type": "execute_result"
    }
   ],
   "source": [
    "np.remainder(arr9,arr10)"
   ]
  },
  {
   "cell_type": "code",
   "execution_count": 87,
   "id": "dc09ed23",
   "metadata": {},
   "outputs": [
    {
     "data": {
      "text/plain": [
       "array([[ 1,  3,  5],\n",
       "       [ 4,  6,  8],\n",
       "       [ 7,  9, 11]])"
      ]
     },
     "execution_count": 87,
     "metadata": {},
     "output_type": "execute_result"
    }
   ],
   "source": [
    "np.add(arr9,arr10)"
   ]
  },
  {
   "cell_type": "code",
   "execution_count": 89,
   "id": "95939c8f",
   "metadata": {},
   "outputs": [
    {
     "data": {
      "text/plain": [
       "array([[-1, -1, -1],\n",
       "       [ 2,  2,  2],\n",
       "       [ 5,  5,  5]])"
      ]
     },
     "execution_count": 89,
     "metadata": {},
     "output_type": "execute_result"
    }
   ],
   "source": [
    "np.subtract(arr9,arr10)"
   ]
  },
  {
   "cell_type": "code",
   "execution_count": 90,
   "id": "b2b91523",
   "metadata": {},
   "outputs": [
    {
     "data": {
      "text/plain": [
       "array([[ 0,  2,  6],\n",
       "       [ 3,  8, 15],\n",
       "       [ 6, 14, 24]])"
      ]
     },
     "execution_count": 90,
     "metadata": {},
     "output_type": "execute_result"
    }
   ],
   "source": [
    "np.multiply(arr9,arr10)"
   ]
  },
  {
   "cell_type": "code",
   "execution_count": 91,
   "id": "872ef2cb",
   "metadata": {},
   "outputs": [
    {
     "data": {
      "text/plain": [
       "array([[0.        , 0.5       , 0.66666667],\n",
       "       [3.        , 2.        , 1.66666667],\n",
       "       [6.        , 3.5       , 2.66666667]])"
      ]
     },
     "execution_count": 91,
     "metadata": {},
     "output_type": "execute_result"
    }
   ],
   "source": [
    "np.divide(arr9,arr10)"
   ]
  },
  {
   "cell_type": "code",
   "execution_count": 2,
   "id": "0580e13f",
   "metadata": {},
   "outputs": [],
   "source": [
    "arr1 = np.array([\n",
    "    [3,7,5],\n",
    "    [8,4,3],\n",
    "    [2,4,9]\n",
    "])"
   ]
  },
  {
   "cell_type": "code",
   "execution_count": 3,
   "id": "b2e69aa8",
   "metadata": {},
   "outputs": [
    {
     "data": {
      "text/plain": [
       "array([[3, 7, 5],\n",
       "       [8, 4, 3],\n",
       "       [2, 4, 9]])"
      ]
     },
     "execution_count": 3,
     "metadata": {},
     "output_type": "execute_result"
    }
   ],
   "source": [
    "arr1"
   ]
  },
  {
   "cell_type": "code",
   "execution_count": 4,
   "id": "d60cac3f",
   "metadata": {},
   "outputs": [
    {
     "data": {
      "text/plain": [
       "2"
      ]
     },
     "execution_count": 4,
     "metadata": {},
     "output_type": "execute_result"
    }
   ],
   "source": [
    "np.min(arr1)"
   ]
  },
  {
   "cell_type": "code",
   "execution_count": 5,
   "id": "9ae6e365",
   "metadata": {},
   "outputs": [
    {
     "data": {
      "text/plain": [
       "9"
      ]
     },
     "execution_count": 5,
     "metadata": {},
     "output_type": "execute_result"
    }
   ],
   "source": [
    "np.max(arr1)"
   ]
  },
  {
   "cell_type": "code",
   "execution_count": 6,
   "id": "03f2e3b1",
   "metadata": {},
   "outputs": [],
   "source": [
    "arr2 = np.array([\n",
    "    [1,2,3,4,5],\n",
    "    [6,7,8,9,10]\n",
    "])"
   ]
  },
  {
   "cell_type": "code",
   "execution_count": 7,
   "id": "08c88d1b",
   "metadata": {},
   "outputs": [
    {
     "data": {
      "text/plain": [
       "array([[ 1,  2,  3,  4,  5],\n",
       "       [ 6,  7,  8,  9, 10]])"
      ]
     },
     "execution_count": 7,
     "metadata": {},
     "output_type": "execute_result"
    }
   ],
   "source": [
    "arr2"
   ]
  },
  {
   "cell_type": "code",
   "execution_count": 8,
   "id": "0335125e",
   "metadata": {},
   "outputs": [
    {
     "data": {
      "text/plain": [
       "array([1, 2, 3, 4, 5])"
      ]
     },
     "execution_count": 8,
     "metadata": {},
     "output_type": "execute_result"
    }
   ],
   "source": [
    "np.min(arr2,axis=0)"
   ]
  },
  {
   "cell_type": "code",
   "execution_count": 9,
   "id": "b4277145",
   "metadata": {},
   "outputs": [
    {
     "data": {
      "text/plain": [
       "array([ 6,  7,  8,  9, 10])"
      ]
     },
     "execution_count": 9,
     "metadata": {},
     "output_type": "execute_result"
    }
   ],
   "source": [
    "np.max(arr2,axis=0)"
   ]
  },
  {
   "cell_type": "code",
   "execution_count": 10,
   "id": "ae526429",
   "metadata": {},
   "outputs": [
    {
     "data": {
      "text/plain": [
       "array([1, 6])"
      ]
     },
     "execution_count": 10,
     "metadata": {},
     "output_type": "execute_result"
    }
   ],
   "source": [
    "np.min(arr2,axis=1)"
   ]
  },
  {
   "cell_type": "code",
   "execution_count": 11,
   "id": "bb1485e8",
   "metadata": {},
   "outputs": [
    {
     "data": {
      "text/plain": [
       "array([ 5, 10])"
      ]
     },
     "execution_count": 11,
     "metadata": {},
     "output_type": "execute_result"
    }
   ],
   "source": [
    "np.max(arr2,axis=1)"
   ]
  },
  {
   "cell_type": "code",
   "execution_count": 13,
   "id": "f918fb0a",
   "metadata": {},
   "outputs": [
    {
     "data": {
      "text/plain": [
       "array([[ 1,  2,  3,  4,  5],\n",
       "       [ 6,  7,  8,  9, 10]])"
      ]
     },
     "execution_count": 13,
     "metadata": {},
     "output_type": "execute_result"
    }
   ],
   "source": [
    "arr2"
   ]
  },
  {
   "cell_type": "code",
   "execution_count": 12,
   "id": "5092c92d",
   "metadata": {},
   "outputs": [
    {
     "data": {
      "text/plain": [
       "5.5"
      ]
     },
     "execution_count": 12,
     "metadata": {},
     "output_type": "execute_result"
    }
   ],
   "source": [
    "np.mean(arr2)"
   ]
  },
  {
   "cell_type": "code",
   "execution_count": 14,
   "id": "91710f63",
   "metadata": {},
   "outputs": [
    {
     "data": {
      "text/plain": [
       "array([3.5, 4.5, 5.5, 6.5, 7.5])"
      ]
     },
     "execution_count": 14,
     "metadata": {},
     "output_type": "execute_result"
    }
   ],
   "source": [
    "np.mean(arr2,axis=0)  # axis 0 ---> columns"
   ]
  },
  {
   "cell_type": "code",
   "execution_count": 15,
   "id": "c660ec3c",
   "metadata": {},
   "outputs": [
    {
     "data": {
      "text/plain": [
       "array([3., 8.])"
      ]
     },
     "execution_count": 15,
     "metadata": {},
     "output_type": "execute_result"
    }
   ],
   "source": [
    "np.mean(arr2,axis=1)   # axis 1----> row wise"
   ]
  },
  {
   "cell_type": "code",
   "execution_count": 17,
   "id": "ade1117b",
   "metadata": {},
   "outputs": [
    {
     "data": {
      "text/plain": [
       "array([[ 1,  2,  3,  4,  5],\n",
       "       [ 6,  7,  8,  9, 10]])"
      ]
     },
     "execution_count": 17,
     "metadata": {},
     "output_type": "execute_result"
    }
   ],
   "source": [
    "arr2"
   ]
  },
  {
   "cell_type": "code",
   "execution_count": 16,
   "id": "a8341a6c",
   "metadata": {},
   "outputs": [
    {
     "data": {
      "text/plain": [
       "5.5"
      ]
     },
     "execution_count": 16,
     "metadata": {},
     "output_type": "execute_result"
    }
   ],
   "source": [
    "np.median(arr2)"
   ]
  },
  {
   "cell_type": "code",
   "execution_count": null,
   "id": "d3c9c6d8",
   "metadata": {},
   "outputs": [],
   "source": []
  },
  {
   "cell_type": "code",
   "execution_count": 18,
   "id": "5c122ad7",
   "metadata": {},
   "outputs": [],
   "source": [
    "arr = np.arange(6)"
   ]
  },
  {
   "cell_type": "code",
   "execution_count": 19,
   "id": "e127ecc3",
   "metadata": {},
   "outputs": [
    {
     "data": {
      "text/plain": [
       "array([0, 1, 2, 3, 4, 5])"
      ]
     },
     "execution_count": 19,
     "metadata": {},
     "output_type": "execute_result"
    }
   ],
   "source": [
    "arr"
   ]
  },
  {
   "cell_type": "code",
   "execution_count": 20,
   "id": "dc577efa",
   "metadata": {},
   "outputs": [
    {
     "data": {
      "text/plain": [
       "140585050502896"
      ]
     },
     "execution_count": 20,
     "metadata": {},
     "output_type": "execute_result"
    }
   ],
   "source": [
    "id(arr)"
   ]
  },
  {
   "cell_type": "code",
   "execution_count": 21,
   "id": "d21f970a",
   "metadata": {},
   "outputs": [],
   "source": [
    "arr2 = arr"
   ]
  },
  {
   "cell_type": "code",
   "execution_count": 23,
   "id": "c6e4d770",
   "metadata": {},
   "outputs": [
    {
     "data": {
      "text/plain": [
       "True"
      ]
     },
     "execution_count": 23,
     "metadata": {},
     "output_type": "execute_result"
    }
   ],
   "source": [
    "id(arr2) == id(arr)"
   ]
  },
  {
   "cell_type": "code",
   "execution_count": 24,
   "id": "855a597e",
   "metadata": {},
   "outputs": [
    {
     "data": {
      "text/plain": [
       "array([0, 2, 3, 4, 5])"
      ]
     },
     "execution_count": 24,
     "metadata": {},
     "output_type": "execute_result"
    }
   ],
   "source": [
    "np.delete(arr,1)"
   ]
  },
  {
   "cell_type": "code",
   "execution_count": 25,
   "id": "f94dd7c6",
   "metadata": {},
   "outputs": [
    {
     "data": {
      "text/plain": [
       "array([0, 1, 2, 3, 4, 5])"
      ]
     },
     "execution_count": 25,
     "metadata": {},
     "output_type": "execute_result"
    }
   ],
   "source": []
  },
  {
   "cell_type": "code",
   "execution_count": 27,
   "id": "7f0d9bdc",
   "metadata": {},
   "outputs": [
    {
     "name": "stdout",
     "output_type": "stream",
     "text": [
      "140585050502896\n"
     ]
    }
   ],
   "source": [
    "print(id(arr2))"
   ]
  },
  {
   "cell_type": "code",
   "execution_count": null,
   "id": "42848dde",
   "metadata": {},
   "outputs": [],
   "source": []
  },
  {
   "cell_type": "code",
   "execution_count": 28,
   "id": "081e8090",
   "metadata": {},
   "outputs": [
    {
     "data": {
      "text/plain": [
       "array([0, 1, 2, 3, 4, 5])"
      ]
     },
     "execution_count": 28,
     "metadata": {},
     "output_type": "execute_result"
    }
   ],
   "source": [
    "arr"
   ]
  },
  {
   "cell_type": "code",
   "execution_count": 29,
   "id": "47d00f88",
   "metadata": {},
   "outputs": [],
   "source": [
    "arr.shape = 3,2"
   ]
  },
  {
   "cell_type": "code",
   "execution_count": 30,
   "id": "c6fa9903",
   "metadata": {},
   "outputs": [
    {
     "data": {
      "text/plain": [
       "array([[0, 1],\n",
       "       [2, 3],\n",
       "       [4, 5]])"
      ]
     },
     "execution_count": 30,
     "metadata": {},
     "output_type": "execute_result"
    }
   ],
   "source": [
    "arr"
   ]
  },
  {
   "cell_type": "code",
   "execution_count": 31,
   "id": "3e529bb3",
   "metadata": {},
   "outputs": [
    {
     "data": {
      "text/plain": [
       "array([[0, 1],\n",
       "       [2, 3],\n",
       "       [4, 5]])"
      ]
     },
     "execution_count": 31,
     "metadata": {},
     "output_type": "execute_result"
    }
   ],
   "source": [
    "arr2"
   ]
  },
  {
   "cell_type": "code",
   "execution_count": null,
   "id": "3b1cb912",
   "metadata": {},
   "outputs": [],
   "source": []
  },
  {
   "cell_type": "code",
   "execution_count": 32,
   "id": "8d0a97b0",
   "metadata": {},
   "outputs": [],
   "source": [
    "arr3 = np.arange(10,20)"
   ]
  },
  {
   "cell_type": "code",
   "execution_count": 33,
   "id": "dd3995b9",
   "metadata": {},
   "outputs": [
    {
     "data": {
      "text/plain": [
       "array([10, 11, 12, 13, 14, 15, 16, 17, 18, 19])"
      ]
     },
     "execution_count": 33,
     "metadata": {},
     "output_type": "execute_result"
    }
   ],
   "source": [
    "arr3"
   ]
  },
  {
   "cell_type": "code",
   "execution_count": 34,
   "id": "1130af13",
   "metadata": {},
   "outputs": [],
   "source": [
    "arr4 = np.copy(arr3)"
   ]
  },
  {
   "cell_type": "code",
   "execution_count": 35,
   "id": "3fa3a146",
   "metadata": {},
   "outputs": [
    {
     "data": {
      "text/plain": [
       "140585052448112"
      ]
     },
     "execution_count": 35,
     "metadata": {},
     "output_type": "execute_result"
    }
   ],
   "source": [
    "id(arr4)"
   ]
  },
  {
   "cell_type": "code",
   "execution_count": 36,
   "id": "793d0a26",
   "metadata": {},
   "outputs": [
    {
     "data": {
      "text/plain": [
       "140585050502608"
      ]
     },
     "execution_count": 36,
     "metadata": {},
     "output_type": "execute_result"
    }
   ],
   "source": [
    "id(arr3)"
   ]
  },
  {
   "cell_type": "markdown",
   "id": "7c1cad62",
   "metadata": {},
   "source": [
    "## sort"
   ]
  },
  {
   "cell_type": "code",
   "execution_count": 37,
   "id": "0ff8ef70",
   "metadata": {},
   "outputs": [],
   "source": [
    "arr6 = np.array([\n",
    "    [3,4],\n",
    "    [9,1]\n",
    "])"
   ]
  },
  {
   "cell_type": "code",
   "execution_count": 38,
   "id": "485fa6e4",
   "metadata": {},
   "outputs": [
    {
     "data": {
      "text/plain": [
       "array([[3, 4],\n",
       "       [9, 1]])"
      ]
     },
     "execution_count": 38,
     "metadata": {},
     "output_type": "execute_result"
    }
   ],
   "source": [
    "arr6"
   ]
  },
  {
   "cell_type": "code",
   "execution_count": 40,
   "id": "1c2d6c1e",
   "metadata": {},
   "outputs": [
    {
     "data": {
      "text/plain": [
       "array([[3, 4],\n",
       "       [1, 9]])"
      ]
     },
     "execution_count": 40,
     "metadata": {},
     "output_type": "execute_result"
    }
   ],
   "source": [
    "np.sort(arr6)"
   ]
  },
  {
   "cell_type": "code",
   "execution_count": 42,
   "id": "374c0d91",
   "metadata": {},
   "outputs": [
    {
     "data": {
      "text/plain": [
       "array([[3, 4],\n",
       "       [9, 1]])"
      ]
     },
     "execution_count": 42,
     "metadata": {},
     "output_type": "execute_result"
    }
   ],
   "source": [
    "arr6"
   ]
  },
  {
   "cell_type": "code",
   "execution_count": 41,
   "id": "1a66be1f",
   "metadata": {},
   "outputs": [
    {
     "data": {
      "text/plain": [
       "array([[3, 1],\n",
       "       [9, 4]])"
      ]
     },
     "execution_count": 41,
     "metadata": {},
     "output_type": "execute_result"
    }
   ],
   "source": [
    "np.sort(arr6,axis=0)  # axis 0 --> column wise"
   ]
  },
  {
   "cell_type": "code",
   "execution_count": 43,
   "id": "f9ad4576",
   "metadata": {},
   "outputs": [
    {
     "data": {
      "text/plain": [
       "array([[3, 4],\n",
       "       [1, 9]])"
      ]
     },
     "execution_count": 43,
     "metadata": {},
     "output_type": "execute_result"
    }
   ],
   "source": [
    "np.sort(arr6,axis=1)  #axis 1 --> row wise"
   ]
  },
  {
   "cell_type": "code",
   "execution_count": null,
   "id": "6ff9c6e4",
   "metadata": {},
   "outputs": [],
   "source": []
  },
  {
   "cell_type": "code",
   "execution_count": 44,
   "id": "d3c940f3",
   "metadata": {},
   "outputs": [],
   "source": [
    "x = np.array([3,1,2])"
   ]
  },
  {
   "cell_type": "code",
   "execution_count": 45,
   "id": "f7c95fa8",
   "metadata": {},
   "outputs": [
    {
     "data": {
      "text/plain": [
       "array([3, 1, 2])"
      ]
     },
     "execution_count": 45,
     "metadata": {},
     "output_type": "execute_result"
    }
   ],
   "source": [
    "x"
   ]
  },
  {
   "cell_type": "code",
   "execution_count": 46,
   "id": "2106bfdf",
   "metadata": {},
   "outputs": [
    {
     "data": {
      "text/plain": [
       "array([1, 2, 0])"
      ]
     },
     "execution_count": 46,
     "metadata": {},
     "output_type": "execute_result"
    }
   ],
   "source": [
    "np.argsort(x)"
   ]
  },
  {
   "cell_type": "code",
   "execution_count": null,
   "id": "4a1b5891",
   "metadata": {},
   "outputs": [],
   "source": []
  },
  {
   "cell_type": "markdown",
   "id": "b179f86e",
   "metadata": {},
   "source": [
    "## where"
   ]
  },
  {
   "cell_type": "code",
   "execution_count": 48,
   "id": "d4af368c",
   "metadata": {},
   "outputs": [],
   "source": [
    "arr7 = np.arange(9).reshape(3,3)"
   ]
  },
  {
   "cell_type": "code",
   "execution_count": 49,
   "id": "eb9e95d8",
   "metadata": {},
   "outputs": [
    {
     "data": {
      "text/plain": [
       "array([[0, 1, 2],\n",
       "       [3, 4, 5],\n",
       "       [6, 7, 8]])"
      ]
     },
     "execution_count": 49,
     "metadata": {},
     "output_type": "execute_result"
    }
   ],
   "source": [
    "arr7"
   ]
  },
  {
   "cell_type": "code",
   "execution_count": 50,
   "id": "431e9c57",
   "metadata": {},
   "outputs": [
    {
     "data": {
      "text/plain": [
       "array([6, 7, 8])"
      ]
     },
     "execution_count": 50,
     "metadata": {},
     "output_type": "execute_result"
    }
   ],
   "source": [
    "arr7[arr7>5]"
   ]
  },
  {
   "cell_type": "code",
   "execution_count": 52,
   "id": "5a2fe604",
   "metadata": {},
   "outputs": [],
   "source": [
    "y = np.where(arr7>5)"
   ]
  },
  {
   "cell_type": "code",
   "execution_count": 53,
   "id": "e997d73e",
   "metadata": {},
   "outputs": [
    {
     "data": {
      "text/plain": [
       "(array([2, 2, 2]), array([0, 1, 2]))"
      ]
     },
     "execution_count": 53,
     "metadata": {},
     "output_type": "execute_result"
    }
   ],
   "source": [
    "y"
   ]
  },
  {
   "cell_type": "code",
   "execution_count": 54,
   "id": "2e251050",
   "metadata": {},
   "outputs": [
    {
     "data": {
      "text/plain": [
       "array([6, 7, 8])"
      ]
     },
     "execution_count": 54,
     "metadata": {},
     "output_type": "execute_result"
    }
   ],
   "source": [
    "arr7[y]"
   ]
  },
  {
   "cell_type": "code",
   "execution_count": null,
   "id": "d8d2a240",
   "metadata": {},
   "outputs": [],
   "source": []
  },
  {
   "cell_type": "code",
   "execution_count": null,
   "id": "0b0b5f43",
   "metadata": {},
   "outputs": [],
   "source": []
  },
  {
   "cell_type": "code",
   "execution_count": 55,
   "id": "b9997ffe",
   "metadata": {},
   "outputs": [
    {
     "data": {
      "text/plain": [
       "array([[0, 1, 2],\n",
       "       [3, 4, 5],\n",
       "       [6, 7, 8]])"
      ]
     },
     "execution_count": 55,
     "metadata": {},
     "output_type": "execute_result"
    }
   ],
   "source": [
    "arr7"
   ]
  },
  {
   "cell_type": "code",
   "execution_count": 56,
   "id": "b7d2c85e",
   "metadata": {},
   "outputs": [],
   "source": [
    "condition = np.mod(arr7,2) == 0"
   ]
  },
  {
   "cell_type": "code",
   "execution_count": 57,
   "id": "99be523f",
   "metadata": {},
   "outputs": [
    {
     "data": {
      "text/plain": [
       "array([0, 2, 4, 6, 8])"
      ]
     },
     "execution_count": 57,
     "metadata": {},
     "output_type": "execute_result"
    }
   ],
   "source": [
    "np.extract(condition,arr7)"
   ]
  },
  {
   "cell_type": "code",
   "execution_count": null,
   "id": "791a8727",
   "metadata": {},
   "outputs": [],
   "source": []
  },
  {
   "cell_type": "code",
   "execution_count": null,
   "id": "60905513",
   "metadata": {},
   "outputs": [],
   "source": []
  },
  {
   "cell_type": "markdown",
   "id": "4fb1e483",
   "metadata": {},
   "source": [
    "## Numpy Strings"
   ]
  },
  {
   "cell_type": "code",
   "execution_count": 60,
   "id": "066aa9ab",
   "metadata": {},
   "outputs": [],
   "source": [
    "res = np.char.add(['hello'],['welcome'])"
   ]
  },
  {
   "cell_type": "code",
   "execution_count": 61,
   "id": "23fb6ee0",
   "metadata": {},
   "outputs": [
    {
     "data": {
      "text/plain": [
       "array(['hellowelcome'], dtype='<U12')"
      ]
     },
     "execution_count": 61,
     "metadata": {},
     "output_type": "execute_result"
    }
   ],
   "source": [
    "res"
   ]
  },
  {
   "cell_type": "code",
   "execution_count": 63,
   "id": "0c5cf172",
   "metadata": {},
   "outputs": [
    {
     "data": {
      "text/plain": [
       "array(['hellohellohellohellohello'], dtype='<U25')"
      ]
     },
     "execution_count": 63,
     "metadata": {},
     "output_type": "execute_result"
    }
   ],
   "source": [
    "np.char.multiply(['hello'],5)"
   ]
  },
  {
   "cell_type": "code",
   "execution_count": null,
   "id": "8d68c104",
   "metadata": {},
   "outputs": [],
   "source": []
  },
  {
   "cell_type": "code",
   "execution_count": 64,
   "id": "dff4ba7e",
   "metadata": {},
   "outputs": [],
   "source": [
    "fruit= 'pineapple'"
   ]
  },
  {
   "cell_type": "code",
   "execution_count": 65,
   "id": "d96bab24",
   "metadata": {},
   "outputs": [
    {
     "data": {
      "text/plain": [
       "'                    pineapple                     '"
      ]
     },
     "execution_count": 65,
     "metadata": {},
     "output_type": "execute_result"
    }
   ],
   "source": [
    "fruit.center(50)"
   ]
  },
  {
   "cell_type": "code",
   "execution_count": 67,
   "id": "df6cc584",
   "metadata": {},
   "outputs": [
    {
     "data": {
      "text/plain": [
       "array(['**********************Python**********************'], dtype='<U50')"
      ]
     },
     "execution_count": 67,
     "metadata": {},
     "output_type": "execute_result"
    }
   ],
   "source": [
    "np.char.center(['Python'],50,fillchar='*')"
   ]
  },
  {
   "cell_type": "code",
   "execution_count": 68,
   "id": "7cf61f20",
   "metadata": {},
   "outputs": [
    {
     "data": {
      "text/plain": [
       "array(list(['Python', 'Java', 'C++']), dtype=object)"
      ]
     },
     "execution_count": 68,
     "metadata": {},
     "output_type": "execute_result"
    }
   ],
   "source": [
    "np.char.split('Python Java C++')"
   ]
  },
  {
   "cell_type": "code",
   "execution_count": null,
   "id": "f0a0932d",
   "metadata": {},
   "outputs": [],
   "source": []
  },
  {
   "cell_type": "code",
   "execution_count": 69,
   "id": "a37f7e1b",
   "metadata": {},
   "outputs": [
    {
     "data": {
      "text/plain": [
       "array(['100', '200', '300', '400', 'hi', 'bye'], dtype='<U21')"
      ]
     },
     "execution_count": 69,
     "metadata": {},
     "output_type": "execute_result"
    }
   ],
   "source": [
    "np.array([100,200,300,400,'hi','bye'])"
   ]
  },
  {
   "cell_type": "code",
   "execution_count": 70,
   "id": "d129aa6a",
   "metadata": {},
   "outputs": [],
   "source": [
    "lst = ['3 Poori with Subji', 'Chole Bhature [2 Pieces]', '2 Plain Paratha with Subji', '2 Aloo Paratha with Curd', '2 Paneer Paratha with Curd', '2 Onion Paratha with Curd', '2 Gobi Paratha with Curd', '2 Lachha Paratha with Curd', '4 Ghee Roti with Subji', 'Paneer Roll', 'Veg Roll', 'Aloo Roll', 'Paneer Aloo Roll', 'Veg Paneer Roll', 'Mushroom Paneer Roll', 'Bread Omelette [4 Pieces]', '2 Egg Paratha with Curd', 'Boiled Egg', 'Masala Omelette', 'Egg Roll', 'Double Egg Roll', 'Egg Aloo Roll', 'Egg Paneer Roll', 'Chicken Roll', 'Egg Chicken Roll', 'Tawa Roti', 'Ghee Roti', 'Plain Paratha', 'Laccha Paratha', 'Plain Rice', 'Sweet Lassi', 'Salt Lassi']"
   ]
  },
  {
   "cell_type": "code",
   "execution_count": null,
   "id": "992ff579",
   "metadata": {},
   "outputs": [],
   "source": [
    "lst"
   ]
  },
  {
   "cell_type": "code",
   "execution_count": null,
   "id": "ae4456c8",
   "metadata": {},
   "outputs": [],
   "source": []
  },
  {
   "cell_type": "code",
   "execution_count": 72,
   "id": "6905257b",
   "metadata": {},
   "outputs": [
    {
     "data": {
      "text/plain": [
       "array([[1., 0., 0., 0., 0., 0.],\n",
       "       [0., 1., 0., 0., 0., 0.],\n",
       "       [0., 0., 1., 0., 0., 0.],\n",
       "       [0., 0., 0., 1., 0., 0.],\n",
       "       [0., 0., 0., 0., 1., 0.],\n",
       "       [0., 0., 0., 0., 0., 1.]])"
      ]
     },
     "execution_count": 72,
     "metadata": {},
     "output_type": "execute_result"
    }
   ],
   "source": [
    "np.eye(6)"
   ]
  },
  {
   "cell_type": "code",
   "execution_count": 74,
   "id": "f2405687",
   "metadata": {},
   "outputs": [
    {
     "data": {
      "text/plain": [
       "array([ 0.29180805, -0.29488176, -0.888097  ,  1.16488976, -0.71914076,\n",
       "       -2.03272289,  0.98356963,  1.69039115, -0.01542435,  0.55517392,\n",
       "        1.43021939, -0.93190369,  1.29652811,  0.50602039, -0.52565417,\n",
       "       -1.21519424, -1.4373158 ,  1.64482045, -1.60688252,  0.32268732,\n",
       "        1.40683683,  2.22651831,  0.14376639,  1.73165021,  0.48139028])"
      ]
     },
     "execution_count": 74,
     "metadata": {},
     "output_type": "execute_result"
    }
   ],
   "source": [
    "np.random.normal(0,1,25)"
   ]
  },
  {
   "cell_type": "code",
   "execution_count": 77,
   "id": "96b4abb4",
   "metadata": {},
   "outputs": [
    {
     "data": {
      "text/plain": [
       "array([[0.01, 0.02, 0.03, 0.04, 0.05, 0.06, 0.07, 0.08, 0.09, 0.1 ],\n",
       "       [0.11, 0.12, 0.13, 0.14, 0.15, 0.16, 0.17, 0.18, 0.19, 0.2 ],\n",
       "       [0.21, 0.22, 0.23, 0.24, 0.25, 0.26, 0.27, 0.28, 0.29, 0.3 ],\n",
       "       [0.31, 0.32, 0.33, 0.34, 0.35, 0.36, 0.37, 0.38, 0.39, 0.4 ],\n",
       "       [0.41, 0.42, 0.43, 0.44, 0.45, 0.46, 0.47, 0.48, 0.49, 0.5 ],\n",
       "       [0.51, 0.52, 0.53, 0.54, 0.55, 0.56, 0.57, 0.58, 0.59, 0.6 ],\n",
       "       [0.61, 0.62, 0.63, 0.64, 0.65, 0.66, 0.67, 0.68, 0.69, 0.7 ],\n",
       "       [0.71, 0.72, 0.73, 0.74, 0.75, 0.76, 0.77, 0.78, 0.79, 0.8 ],\n",
       "       [0.81, 0.82, 0.83, 0.84, 0.85, 0.86, 0.87, 0.88, 0.89, 0.9 ],\n",
       "       [0.91, 0.92, 0.93, 0.94, 0.95, 0.96, 0.97, 0.98, 0.99, 1.  ]])"
      ]
     },
     "execution_count": 77,
     "metadata": {},
     "output_type": "execute_result"
    }
   ],
   "source": [
    "np.arange(1,101).reshape(10,10) / 100"
   ]
  },
  {
   "cell_type": "code",
   "execution_count": null,
   "id": "ebcc9fe2",
   "metadata": {},
   "outputs": [],
   "source": []
  },
  {
   "cell_type": "code",
   "execution_count": null,
   "id": "2d6425d9",
   "metadata": {},
   "outputs": [],
   "source": []
  }
 ],
 "metadata": {
  "kernelspec": {
   "display_name": "Python 3 (ipykernel)",
   "language": "python",
   "name": "python3"
  },
  "language_info": {
   "codemirror_mode": {
    "name": "ipython",
    "version": 3
   },
   "file_extension": ".py",
   "mimetype": "text/x-python",
   "name": "python",
   "nbconvert_exporter": "python",
   "pygments_lexer": "ipython3",
   "version": "3.8.8"
  }
 },
 "nbformat": 4,
 "nbformat_minor": 5
}
