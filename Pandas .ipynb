{
 "cells": [
  {
   "cell_type": "markdown",
   "id": "a16f3bdb",
   "metadata": {},
   "source": [
    "## Pandas"
   ]
  },
  {
   "cell_type": "markdown",
   "id": "d475a947",
   "metadata": {},
   "source": [
    "* Pandas is used to analyse data & big data, and make conclusion based on stastistical theories\n",
    "\n",
    "* Pandas is typically used to clean messy data & make them readable & simple to access.\n",
    "\n",
    "* It can also help in finding the relationship between coloumns (co-relation)\n",
    "\n",
    "* It can also be used in doing all statistical methodologies as well as plotting & creating graphs\n",
    "\n",
    "* It can handle multiple type pf data structures (Excel,CSV,Json,RDBMS,html,pdf etc.. )"
   ]
  },
  {
   "cell_type": "code",
   "execution_count": 1,
   "id": "9c01c94b",
   "metadata": {},
   "outputs": [
    {
     "name": "stdout",
     "output_type": "stream",
     "text": [
      "Requirement already satisfied: pandas in c:\\users\\admin\\appdata\\local\\programs\\python\\python39\\lib\\site-packages (1.4.3)\n",
      "Requirement already satisfied: numpy>=1.18.5 in c:\\users\\admin\\appdata\\local\\programs\\python\\python39\\lib\\site-packages (from pandas) (1.23.1)\n",
      "Requirement already satisfied: pytz>=2020.1 in c:\\users\\admin\\appdata\\local\\programs\\python\\python39\\lib\\site-packages (from pandas) (2022.1)\n",
      "Requirement already satisfied: python-dateutil>=2.8.1 in c:\\users\\admin\\appdata\\local\\programs\\python\\python39\\lib\\site-packages (from pandas) (2.8.2)\n",
      "Requirement already satisfied: six>=1.5 in c:\\users\\admin\\appdata\\local\\programs\\python\\python39\\lib\\site-packages (from python-dateutil>=2.8.1->pandas) (1.16.0)\n",
      "Note: you may need to restart the kernel to use updated packages.\n"
     ]
    },
    {
     "name": "stderr",
     "output_type": "stream",
     "text": [
      "WARNING: You are using pip version 22.0.4; however, version 22.3.1 is available.\n",
      "You should consider upgrading via the 'C:\\Users\\admin\\AppData\\Local\\Programs\\Python\\Python39\\python.exe -m pip install --upgrade pip' command.\n"
     ]
    }
   ],
   "source": [
    "pip install pandas"
   ]
  },
  {
   "cell_type": "code",
   "execution_count": 2,
   "id": "c8c3b32b",
   "metadata": {},
   "outputs": [],
   "source": [
    "import pandas as pd"
   ]
  },
  {
   "cell_type": "code",
   "execution_count": 3,
   "id": "2e3596d5",
   "metadata": {},
   "outputs": [
    {
     "data": {
      "text/plain": [
       "'1.4.3'"
      ]
     },
     "execution_count": 3,
     "metadata": {},
     "output_type": "execute_result"
    }
   ],
   "source": [
    "pd.__version__"
   ]
  },
  {
   "cell_type": "markdown",
   "id": "eefda3f8",
   "metadata": {},
   "source": [
    "## Series"
   ]
  },
  {
   "cell_type": "markdown",
   "id": "465f8fc3",
   "metadata": {},
   "source": [
    "* A series is a **1-Dimensional Array like object** containing a sequence of values (of similar data types) and an associated array of data labels called as **indexes**"
   ]
  },
  {
   "cell_type": "code",
   "execution_count": 4,
   "id": "79d5f0d7",
   "metadata": {},
   "outputs": [],
   "source": [
    "ser1 = pd.Series([10,20,30,40,50])"
   ]
  },
  {
   "cell_type": "code",
   "execution_count": 5,
   "id": "45e7198b",
   "metadata": {},
   "outputs": [
    {
     "data": {
      "text/plain": [
       "0    10\n",
       "1    20\n",
       "2    30\n",
       "3    40\n",
       "4    50\n",
       "dtype: int64"
      ]
     },
     "execution_count": 5,
     "metadata": {},
     "output_type": "execute_result"
    }
   ],
   "source": [
    "ser1"
   ]
  },
  {
   "cell_type": "code",
   "execution_count": 6,
   "id": "ea64ba8e",
   "metadata": {},
   "outputs": [],
   "source": [
    "import numpy as np\n",
    "arr = np.array([100,200,300,400])"
   ]
  },
  {
   "cell_type": "code",
   "execution_count": 7,
   "id": "288c2bd2",
   "metadata": {},
   "outputs": [
    {
     "data": {
      "text/plain": [
       "array([100, 200, 300, 400])"
      ]
     },
     "execution_count": 7,
     "metadata": {},
     "output_type": "execute_result"
    }
   ],
   "source": [
    "arr"
   ]
  },
  {
   "cell_type": "code",
   "execution_count": null,
   "id": "bd5f7e4f",
   "metadata": {},
   "outputs": [],
   "source": []
  },
  {
   "cell_type": "markdown",
   "id": "ab2efd3d",
   "metadata": {},
   "source": [
    "## defining the indexes"
   ]
  },
  {
   "cell_type": "code",
   "execution_count": 8,
   "id": "4bb821b3",
   "metadata": {},
   "outputs": [],
   "source": [
    "ser2 = pd.Series([100,200,300,400,500],index=['d','b','a','c','e'])"
   ]
  },
  {
   "cell_type": "code",
   "execution_count": 9,
   "id": "6d87ffd2",
   "metadata": {},
   "outputs": [
    {
     "data": {
      "text/plain": [
       "d    100\n",
       "b    200\n",
       "a    300\n",
       "c    400\n",
       "e    500\n",
       "dtype: int64"
      ]
     },
     "execution_count": 9,
     "metadata": {},
     "output_type": "execute_result"
    }
   ],
   "source": [
    "ser2"
   ]
  },
  {
   "cell_type": "code",
   "execution_count": 10,
   "id": "2cbfb0f7",
   "metadata": {},
   "outputs": [
    {
     "data": {
      "text/plain": [
       "300"
      ]
     },
     "execution_count": 10,
     "metadata": {},
     "output_type": "execute_result"
    }
   ],
   "source": [
    "ser2['a']"
   ]
  },
  {
   "cell_type": "code",
   "execution_count": 11,
   "id": "f8218180",
   "metadata": {},
   "outputs": [
    {
     "data": {
      "text/plain": [
       "300"
      ]
     },
     "execution_count": 11,
     "metadata": {},
     "output_type": "execute_result"
    }
   ],
   "source": [
    "ser2[2]"
   ]
  },
  {
   "cell_type": "code",
   "execution_count": 12,
   "id": "437f52e9",
   "metadata": {},
   "outputs": [],
   "source": [
    "ser3 = pd.Series([100,200,300],index=['1','2','3'])"
   ]
  },
  {
   "cell_type": "code",
   "execution_count": 13,
   "id": "c163279d",
   "metadata": {},
   "outputs": [
    {
     "data": {
      "text/plain": [
       "1    100\n",
       "2    200\n",
       "3    300\n",
       "dtype: int64"
      ]
     },
     "execution_count": 13,
     "metadata": {},
     "output_type": "execute_result"
    }
   ],
   "source": [
    "ser3"
   ]
  },
  {
   "cell_type": "code",
   "execution_count": 14,
   "id": "10cb5da6",
   "metadata": {},
   "outputs": [
    {
     "data": {
      "text/plain": [
       "300"
      ]
     },
     "execution_count": 14,
     "metadata": {},
     "output_type": "execute_result"
    }
   ],
   "source": [
    "ser3[2]"
   ]
  },
  {
   "cell_type": "code",
   "execution_count": 15,
   "id": "4608678a",
   "metadata": {},
   "outputs": [
    {
     "data": {
      "text/plain": [
       "d    100\n",
       "b    200\n",
       "a    300\n",
       "c    400\n",
       "e    500\n",
       "dtype: int64"
      ]
     },
     "execution_count": 15,
     "metadata": {},
     "output_type": "execute_result"
    }
   ],
   "source": [
    "ser2"
   ]
  },
  {
   "cell_type": "code",
   "execution_count": 16,
   "id": "51367631",
   "metadata": {},
   "outputs": [
    {
     "data": {
      "text/plain": [
       "Index(['d', 'b', 'a', 'c', 'e'], dtype='object')"
      ]
     },
     "execution_count": 16,
     "metadata": {},
     "output_type": "execute_result"
    }
   ],
   "source": [
    "ser2.index"
   ]
  },
  {
   "cell_type": "code",
   "execution_count": 17,
   "id": "0842433d",
   "metadata": {},
   "outputs": [
    {
     "data": {
      "text/plain": [
       "0    10\n",
       "1    20\n",
       "2    30\n",
       "3    40\n",
       "4    50\n",
       "dtype: int64"
      ]
     },
     "execution_count": 17,
     "metadata": {},
     "output_type": "execute_result"
    }
   ],
   "source": [
    "ser1"
   ]
  },
  {
   "cell_type": "code",
   "execution_count": 18,
   "id": "0a54b495",
   "metadata": {},
   "outputs": [
    {
     "data": {
      "text/plain": [
       "RangeIndex(start=0, stop=5, step=1)"
      ]
     },
     "execution_count": 18,
     "metadata": {},
     "output_type": "execute_result"
    }
   ],
   "source": [
    "ser1.index"
   ]
  },
  {
   "cell_type": "code",
   "execution_count": null,
   "id": "88e138ae",
   "metadata": {},
   "outputs": [],
   "source": []
  },
  {
   "cell_type": "code",
   "execution_count": 19,
   "id": "38422f11",
   "metadata": {},
   "outputs": [
    {
     "data": {
      "text/plain": [
       "0    10\n",
       "1    20\n",
       "2    30\n",
       "3    40\n",
       "4    50\n",
       "dtype: int64"
      ]
     },
     "execution_count": 19,
     "metadata": {},
     "output_type": "execute_result"
    }
   ],
   "source": [
    "ser1"
   ]
  },
  {
   "cell_type": "code",
   "execution_count": 20,
   "id": "5fedc3fe",
   "metadata": {},
   "outputs": [
    {
     "data": {
      "text/plain": [
       "1    20\n",
       "2    30\n",
       "dtype: int64"
      ]
     },
     "execution_count": 20,
     "metadata": {},
     "output_type": "execute_result"
    }
   ],
   "source": [
    "ser1[1:3]"
   ]
  },
  {
   "cell_type": "code",
   "execution_count": 21,
   "id": "31bb6905",
   "metadata": {},
   "outputs": [
    {
     "data": {
      "text/plain": [
       "d    100\n",
       "b    200\n",
       "a    300\n",
       "c    400\n",
       "e    500\n",
       "dtype: int64"
      ]
     },
     "execution_count": 21,
     "metadata": {},
     "output_type": "execute_result"
    }
   ],
   "source": [
    "ser2"
   ]
  },
  {
   "cell_type": "code",
   "execution_count": 22,
   "id": "233f7239",
   "metadata": {},
   "outputs": [
    {
     "data": {
      "text/plain": [
       "d    100\n",
       "b    200\n",
       "a    300\n",
       "dtype: int64"
      ]
     },
     "execution_count": 22,
     "metadata": {},
     "output_type": "execute_result"
    }
   ],
   "source": [
    "ser2['d':'a']"
   ]
  },
  {
   "cell_type": "code",
   "execution_count": 23,
   "id": "375cf8cc",
   "metadata": {},
   "outputs": [
    {
     "data": {
      "text/plain": [
       "1    100\n",
       "2    200\n",
       "3    300\n",
       "dtype: int64"
      ]
     },
     "execution_count": 23,
     "metadata": {},
     "output_type": "execute_result"
    }
   ],
   "source": [
    "ser3"
   ]
  },
  {
   "cell_type": "code",
   "execution_count": 24,
   "id": "dcd965e3",
   "metadata": {},
   "outputs": [
    {
     "data": {
      "text/plain": [
       "1    100\n",
       "2    200\n",
       "dtype: int64"
      ]
     },
     "execution_count": 24,
     "metadata": {},
     "output_type": "execute_result"
    }
   ],
   "source": [
    "ser3[0:2]"
   ]
  },
  {
   "cell_type": "code",
   "execution_count": 25,
   "id": "e1ee14cb",
   "metadata": {},
   "outputs": [
    {
     "data": {
      "text/plain": [
       "1    100\n",
       "2    200\n",
       "dtype: int64"
      ]
     },
     "execution_count": 25,
     "metadata": {},
     "output_type": "execute_result"
    }
   ],
   "source": [
    "ser3[0:2]"
   ]
  },
  {
   "cell_type": "code",
   "execution_count": 26,
   "id": "d3473c5d",
   "metadata": {},
   "outputs": [
    {
     "data": {
      "text/plain": [
       "1    100\n",
       "2    200\n",
       "3    300\n",
       "dtype: int64"
      ]
     },
     "execution_count": 26,
     "metadata": {},
     "output_type": "execute_result"
    }
   ],
   "source": [
    "ser3['1':'3']"
   ]
  },
  {
   "cell_type": "code",
   "execution_count": 27,
   "id": "7f83280b",
   "metadata": {},
   "outputs": [
    {
     "data": {
      "text/plain": [
       "1    100\n",
       "2    200\n",
       "3    300\n",
       "dtype: int64"
      ]
     },
     "execution_count": 27,
     "metadata": {},
     "output_type": "execute_result"
    }
   ],
   "source": [
    "ser3"
   ]
  },
  {
   "cell_type": "code",
   "execution_count": 28,
   "id": "de10670d",
   "metadata": {},
   "outputs": [
    {
     "data": {
      "text/plain": [
       "Index(['1', '2', '3'], dtype='object')"
      ]
     },
     "execution_count": 28,
     "metadata": {},
     "output_type": "execute_result"
    }
   ],
   "source": [
    "ser3.index"
   ]
  },
  {
   "cell_type": "code",
   "execution_count": 29,
   "id": "2086b74b",
   "metadata": {},
   "outputs": [
    {
     "data": {
      "text/plain": [
       "1    100\n",
       "2    200\n",
       "dtype: int64"
      ]
     },
     "execution_count": 29,
     "metadata": {},
     "output_type": "execute_result"
    }
   ],
   "source": [
    "ser3['1':'2']"
   ]
  },
  {
   "cell_type": "code",
   "execution_count": null,
   "id": "4636e6e1",
   "metadata": {},
   "outputs": [],
   "source": []
  },
  {
   "cell_type": "code",
   "execution_count": 30,
   "id": "d74af332",
   "metadata": {},
   "outputs": [
    {
     "data": {
      "text/plain": [
       "1    100\n",
       "2    200\n",
       "3    300\n",
       "dtype: int64"
      ]
     },
     "execution_count": 30,
     "metadata": {},
     "output_type": "execute_result"
    }
   ],
   "source": [
    "ser3[0:3]"
   ]
  },
  {
   "cell_type": "code",
   "execution_count": 31,
   "id": "e6d10f37",
   "metadata": {},
   "outputs": [
    {
     "data": {
      "text/plain": [
       "1    100\n",
       "2    200\n",
       "dtype: int64"
      ]
     },
     "execution_count": 31,
     "metadata": {},
     "output_type": "execute_result"
    }
   ],
   "source": [
    "ser3[0:2]"
   ]
  },
  {
   "cell_type": "code",
   "execution_count": null,
   "id": "8b6d31ea",
   "metadata": {},
   "outputs": [],
   "source": []
  },
  {
   "cell_type": "code",
   "execution_count": 32,
   "id": "2d54ef0f",
   "metadata": {},
   "outputs": [
    {
     "data": {
      "text/plain": [
       "2    200\n",
       "dtype: int64"
      ]
     },
     "execution_count": 32,
     "metadata": {},
     "output_type": "execute_result"
    }
   ],
   "source": [
    "ser3[1:2]"
   ]
  },
  {
   "cell_type": "code",
   "execution_count": null,
   "id": "9eee9ce3",
   "metadata": {},
   "outputs": [],
   "source": []
  },
  {
   "cell_type": "code",
   "execution_count": 33,
   "id": "42597456",
   "metadata": {},
   "outputs": [
    {
     "data": {
      "text/plain": [
       "d    100\n",
       "b    200\n",
       "a    300\n",
       "c    400\n",
       "e    500\n",
       "dtype: int64"
      ]
     },
     "execution_count": 33,
     "metadata": {},
     "output_type": "execute_result"
    }
   ],
   "source": [
    "ser2"
   ]
  },
  {
   "cell_type": "code",
   "execution_count": 34,
   "id": "6ca2811f",
   "metadata": {},
   "outputs": [
    {
     "data": {
      "text/plain": [
       "0    10\n",
       "1    20\n",
       "2    30\n",
       "3    40\n",
       "4    50\n",
       "dtype: int64"
      ]
     },
     "execution_count": 34,
     "metadata": {},
     "output_type": "execute_result"
    }
   ],
   "source": [
    "ser1"
   ]
  },
  {
   "cell_type": "code",
   "execution_count": 35,
   "id": "86b1383b",
   "metadata": {},
   "outputs": [
    {
     "data": {
      "text/plain": [
       "10"
      ]
     },
     "execution_count": 35,
     "metadata": {},
     "output_type": "execute_result"
    }
   ],
   "source": [
    "ser1[0]"
   ]
  },
  {
   "cell_type": "code",
   "execution_count": 36,
   "id": "1fdc5e4f",
   "metadata": {},
   "outputs": [
    {
     "data": {
      "text/plain": [
       "0    10\n",
       "3    40\n",
       "4    50\n",
       "dtype: int64"
      ]
     },
     "execution_count": 36,
     "metadata": {},
     "output_type": "execute_result"
    }
   ],
   "source": [
    "ser1[[0,3,4]]"
   ]
  },
  {
   "cell_type": "code",
   "execution_count": 37,
   "id": "cb6c0502",
   "metadata": {},
   "outputs": [
    {
     "data": {
      "text/plain": [
       "d    100\n",
       "b    200\n",
       "a    300\n",
       "c    400\n",
       "e    500\n",
       "dtype: int64"
      ]
     },
     "execution_count": 37,
     "metadata": {},
     "output_type": "execute_result"
    }
   ],
   "source": [
    "ser2"
   ]
  },
  {
   "cell_type": "code",
   "execution_count": 38,
   "id": "340f3249",
   "metadata": {},
   "outputs": [
    {
     "data": {
      "text/plain": [
       "b    200\n",
       "c    400\n",
       "e    500\n",
       "dtype: int64"
      ]
     },
     "execution_count": 38,
     "metadata": {},
     "output_type": "execute_result"
    }
   ],
   "source": [
    "ser2[['b','c','e']]"
   ]
  },
  {
   "cell_type": "code",
   "execution_count": null,
   "id": "9f420452",
   "metadata": {},
   "outputs": [],
   "source": []
  },
  {
   "cell_type": "code",
   "execution_count": 39,
   "id": "ccde8726",
   "metadata": {},
   "outputs": [
    {
     "data": {
      "text/plain": [
       "0    10\n",
       "1    20\n",
       "2    30\n",
       "3    40\n",
       "4    50\n",
       "dtype: int64"
      ]
     },
     "execution_count": 39,
     "metadata": {},
     "output_type": "execute_result"
    }
   ],
   "source": [
    "ser1"
   ]
  },
  {
   "cell_type": "code",
   "execution_count": 40,
   "id": "ebb8954f",
   "metadata": {},
   "outputs": [
    {
     "data": {
      "text/plain": [
       "0    False\n",
       "1    False\n",
       "2     True\n",
       "3     True\n",
       "4     True\n",
       "dtype: bool"
      ]
     },
     "execution_count": 40,
     "metadata": {},
     "output_type": "execute_result"
    }
   ],
   "source": [
    "ser1 > 20"
   ]
  },
  {
   "cell_type": "code",
   "execution_count": 41,
   "id": "f7e1e263",
   "metadata": {},
   "outputs": [
    {
     "data": {
      "text/plain": [
       "2    30\n",
       "3    40\n",
       "4    50\n",
       "dtype: int64"
      ]
     },
     "execution_count": 41,
     "metadata": {},
     "output_type": "execute_result"
    }
   ],
   "source": [
    "ser1[ser1>20]"
   ]
  },
  {
   "cell_type": "code",
   "execution_count": 42,
   "id": "4d5ed269",
   "metadata": {},
   "outputs": [
    {
     "data": {
      "text/plain": [
       "pandas.core.series.Series"
      ]
     },
     "execution_count": 42,
     "metadata": {},
     "output_type": "execute_result"
    }
   ],
   "source": [
    "type(ser1)"
   ]
  },
  {
   "cell_type": "code",
   "execution_count": 43,
   "id": "4428dadd",
   "metadata": {},
   "outputs": [
    {
     "data": {
      "text/plain": [
       "0    10\n",
       "1    20\n",
       "2    30\n",
       "3    40\n",
       "4    50\n",
       "dtype: int64"
      ]
     },
     "execution_count": 43,
     "metadata": {},
     "output_type": "execute_result"
    }
   ],
   "source": [
    "ser1"
   ]
  },
  {
   "cell_type": "code",
   "execution_count": 44,
   "id": "539b56f2",
   "metadata": {},
   "outputs": [
    {
     "data": {
      "text/plain": [
       "0     60\n",
       "1     70\n",
       "2     80\n",
       "3     90\n",
       "4    100\n",
       "dtype: int64"
      ]
     },
     "execution_count": 44,
     "metadata": {},
     "output_type": "execute_result"
    }
   ],
   "source": [
    "ser1+50"
   ]
  },
  {
   "cell_type": "code",
   "execution_count": 45,
   "id": "2446d7fa",
   "metadata": {},
   "outputs": [
    {
     "data": {
      "text/plain": [
       "0    10\n",
       "1    20\n",
       "2    30\n",
       "3    40\n",
       "4    50\n",
       "dtype: int64"
      ]
     },
     "execution_count": 45,
     "metadata": {},
     "output_type": "execute_result"
    }
   ],
   "source": [
    "ser1"
   ]
  },
  {
   "cell_type": "code",
   "execution_count": 46,
   "id": "dd0651cd",
   "metadata": {},
   "outputs": [
    {
     "data": {
      "text/plain": [
       "0     500\n",
       "1    1000\n",
       "2    1500\n",
       "3    2000\n",
       "4    2500\n",
       "dtype: int64"
      ]
     },
     "execution_count": 46,
     "metadata": {},
     "output_type": "execute_result"
    }
   ],
   "source": [
    "ser1 * 50"
   ]
  },
  {
   "cell_type": "code",
   "execution_count": 47,
   "id": "0f52927f",
   "metadata": {},
   "outputs": [
    {
     "data": {
      "text/plain": [
       "0    0.2\n",
       "1    0.4\n",
       "2    0.6\n",
       "3    0.8\n",
       "4    1.0\n",
       "dtype: float64"
      ]
     },
     "execution_count": 47,
     "metadata": {},
     "output_type": "execute_result"
    }
   ],
   "source": [
    "ser1/50"
   ]
  },
  {
   "cell_type": "code",
   "execution_count": 48,
   "id": "bf15012e",
   "metadata": {},
   "outputs": [
    {
     "data": {
      "text/plain": [
       "0    0\n",
       "1    0\n",
       "2    0\n",
       "3    0\n",
       "4    1\n",
       "dtype: int64"
      ]
     },
     "execution_count": 48,
     "metadata": {},
     "output_type": "execute_result"
    }
   ],
   "source": [
    "ser1//50"
   ]
  },
  {
   "cell_type": "code",
   "execution_count": 49,
   "id": "e2a70f54",
   "metadata": {},
   "outputs": [
    {
     "data": {
      "text/plain": [
       "0     100\n",
       "1     400\n",
       "2     900\n",
       "3    1600\n",
       "4    2500\n",
       "dtype: int64"
      ]
     },
     "execution_count": 49,
     "metadata": {},
     "output_type": "execute_result"
    }
   ],
   "source": [
    "ser1 ** 2"
   ]
  },
  {
   "cell_type": "code",
   "execution_count": 50,
   "id": "de075b98",
   "metadata": {},
   "outputs": [
    {
     "data": {
      "text/plain": [
       "1    600\n",
       "2    900\n",
       "dtype: int64"
      ]
     },
     "execution_count": 50,
     "metadata": {},
     "output_type": "execute_result"
    }
   ],
   "source": [
    "ser1[1:3]*30"
   ]
  },
  {
   "cell_type": "code",
   "execution_count": null,
   "id": "45dc300a",
   "metadata": {},
   "outputs": [],
   "source": []
  },
  {
   "cell_type": "code",
   "execution_count": 51,
   "id": "7c859eee",
   "metadata": {},
   "outputs": [],
   "source": [
    "data = {\n",
    "    'Mumbai':1700,\n",
    "    'Delhi':3000,\n",
    "    'Nagpur':5000,\n",
    "    'Chennai':['hello','hi','bye']\n",
    "}"
   ]
  },
  {
   "cell_type": "code",
   "execution_count": 52,
   "id": "85ea8392",
   "metadata": {},
   "outputs": [
    {
     "data": {
      "text/plain": [
       "{'Mumbai': 1700,\n",
       " 'Delhi': 3000,\n",
       " 'Nagpur': 5000,\n",
       " 'Chennai': ['hello', 'hi', 'bye']}"
      ]
     },
     "execution_count": 52,
     "metadata": {},
     "output_type": "execute_result"
    }
   ],
   "source": [
    "data"
   ]
  },
  {
   "cell_type": "code",
   "execution_count": 53,
   "id": "2568affe",
   "metadata": {},
   "outputs": [],
   "source": [
    "ser5 = pd.Series(data)"
   ]
  },
  {
   "cell_type": "code",
   "execution_count": 54,
   "id": "bcf69141",
   "metadata": {},
   "outputs": [
    {
     "data": {
      "text/plain": [
       "Mumbai                 1700\n",
       "Delhi                  3000\n",
       "Nagpur                 5000\n",
       "Chennai    [hello, hi, bye]\n",
       "dtype: object"
      ]
     },
     "execution_count": 54,
     "metadata": {},
     "output_type": "execute_result"
    }
   ],
   "source": [
    "ser5"
   ]
  },
  {
   "cell_type": "code",
   "execution_count": 55,
   "id": "2abd1228",
   "metadata": {},
   "outputs": [
    {
     "data": {
      "text/plain": [
       "Index(['Mumbai', 'Delhi', 'Nagpur', 'Chennai'], dtype='object')"
      ]
     },
     "execution_count": 55,
     "metadata": {},
     "output_type": "execute_result"
    }
   ],
   "source": [
    "ser5.index"
   ]
  },
  {
   "cell_type": "code",
   "execution_count": 56,
   "id": "c67e2105",
   "metadata": {},
   "outputs": [
    {
     "data": {
      "text/plain": [
       "1700"
      ]
     },
     "execution_count": 56,
     "metadata": {},
     "output_type": "execute_result"
    }
   ],
   "source": [
    "ser5['Mumbai']"
   ]
  },
  {
   "cell_type": "code",
   "execution_count": 57,
   "id": "1f7abb50",
   "metadata": {},
   "outputs": [
    {
     "data": {
      "text/plain": [
       "1700"
      ]
     },
     "execution_count": 57,
     "metadata": {},
     "output_type": "execute_result"
    }
   ],
   "source": [
    "ser5[0]"
   ]
  },
  {
   "cell_type": "code",
   "execution_count": 58,
   "id": "3cb7ef00",
   "metadata": {},
   "outputs": [
    {
     "data": {
      "text/plain": [
       "{'Mumbai': 1700,\n",
       " 'Delhi': 3000,\n",
       " 'Nagpur': 5000,\n",
       " 'Chennai': ['hello', 'hi', 'bye']}"
      ]
     },
     "execution_count": 58,
     "metadata": {},
     "output_type": "execute_result"
    }
   ],
   "source": [
    "data"
   ]
  },
  {
   "cell_type": "code",
   "execution_count": 59,
   "id": "875d5202",
   "metadata": {},
   "outputs": [],
   "source": [
    "ser8 = pd.Series(data)"
   ]
  },
  {
   "cell_type": "code",
   "execution_count": 60,
   "id": "63b3f923",
   "metadata": {},
   "outputs": [
    {
     "data": {
      "text/plain": [
       "Mumbai                 1700\n",
       "Delhi                  3000\n",
       "Nagpur                 5000\n",
       "Chennai    [hello, hi, bye]\n",
       "dtype: object"
      ]
     },
     "execution_count": 60,
     "metadata": {},
     "output_type": "execute_result"
    }
   ],
   "source": [
    "ser8"
   ]
  },
  {
   "cell_type": "code",
   "execution_count": 61,
   "id": "36279b47",
   "metadata": {},
   "outputs": [
    {
     "data": {
      "text/plain": [
       "['hello', 'hi']"
      ]
     },
     "execution_count": 61,
     "metadata": {},
     "output_type": "execute_result"
    }
   ],
   "source": [
    "ser8['Chennai'][0:2]"
   ]
  },
  {
   "cell_type": "code",
   "execution_count": 62,
   "id": "38dc8f1b",
   "metadata": {},
   "outputs": [],
   "source": [
    "data = {\n",
    "    'Mumbai':1700,\n",
    "    'Delhi':3000,\n",
    "    'Nagpur':5000,\n",
    "    'Chennai':3212\n",
    "}"
   ]
  },
  {
   "cell_type": "code",
   "execution_count": 63,
   "id": "8cc559e9",
   "metadata": {},
   "outputs": [
    {
     "data": {
      "text/plain": [
       "{'Mumbai': 1700, 'Delhi': 3000, 'Nagpur': 5000, 'Chennai': 3212}"
      ]
     },
     "execution_count": 63,
     "metadata": {},
     "output_type": "execute_result"
    }
   ],
   "source": [
    "data"
   ]
  },
  {
   "cell_type": "code",
   "execution_count": 64,
   "id": "49e1b7dd",
   "metadata": {},
   "outputs": [],
   "source": [
    "city = ['Mumbai','Delhi','Nagpur','Chennai','Ahemdabad']"
   ]
  },
  {
   "cell_type": "code",
   "execution_count": 65,
   "id": "1f66cc42",
   "metadata": {},
   "outputs": [],
   "source": [
    "ser1 = pd.Series(data,index=city)"
   ]
  },
  {
   "cell_type": "code",
   "execution_count": 66,
   "id": "dc5da34c",
   "metadata": {},
   "outputs": [
    {
     "data": {
      "text/plain": [
       "Mumbai       1700.0\n",
       "Delhi        3000.0\n",
       "Nagpur       5000.0\n",
       "Chennai      3212.0\n",
       "Ahemdabad       NaN\n",
       "dtype: float64"
      ]
     },
     "execution_count": 66,
     "metadata": {},
     "output_type": "execute_result"
    }
   ],
   "source": [
    "ser1"
   ]
  },
  {
   "cell_type": "code",
   "execution_count": 67,
   "id": "c21df94f",
   "metadata": {},
   "outputs": [
    {
     "data": {
      "text/plain": [
       "Mumbai        True\n",
       "Delhi         True\n",
       "Nagpur        True\n",
       "Chennai       True\n",
       "Ahemdabad    False\n",
       "dtype: bool"
      ]
     },
     "execution_count": 67,
     "metadata": {},
     "output_type": "execute_result"
    }
   ],
   "source": [
    "pd.notnull(ser1)"
   ]
  },
  {
   "cell_type": "code",
   "execution_count": 68,
   "id": "16b85f68",
   "metadata": {},
   "outputs": [
    {
     "data": {
      "text/plain": [
       "Mumbai       False\n",
       "Delhi        False\n",
       "Nagpur       False\n",
       "Chennai      False\n",
       "Ahemdabad     True\n",
       "dtype: bool"
      ]
     },
     "execution_count": 68,
     "metadata": {},
     "output_type": "execute_result"
    }
   ],
   "source": [
    "pd.isnull(ser1)"
   ]
  },
  {
   "cell_type": "code",
   "execution_count": 69,
   "id": "32b14e4e",
   "metadata": {},
   "outputs": [
    {
     "data": {
      "text/plain": [
       "Mumbai       1700.0\n",
       "Delhi        3000.0\n",
       "Nagpur       5000.0\n",
       "Chennai      3212.0\n",
       "Ahemdabad       NaN\n",
       "dtype: float64"
      ]
     },
     "execution_count": 69,
     "metadata": {},
     "output_type": "execute_result"
    }
   ],
   "source": [
    "ser1"
   ]
  },
  {
   "cell_type": "code",
   "execution_count": 70,
   "id": "c04cca4e",
   "metadata": {},
   "outputs": [
    {
     "data": {
      "text/plain": [
       "Mumbai     1700.0\n",
       "Delhi      3000.0\n",
       "Nagpur     5000.0\n",
       "Chennai    3212.0\n",
       "dtype: float64"
      ]
     },
     "execution_count": 70,
     "metadata": {},
     "output_type": "execute_result"
    }
   ],
   "source": [
    "ser1[pd.notnull(ser1)]"
   ]
  },
  {
   "cell_type": "code",
   "execution_count": null,
   "id": "b97051dd",
   "metadata": {},
   "outputs": [],
   "source": []
  },
  {
   "cell_type": "code",
   "execution_count": 71,
   "id": "04028ea5",
   "metadata": {},
   "outputs": [],
   "source": [
    "s1 = pd.Series(10,index=['test'])"
   ]
  },
  {
   "cell_type": "code",
   "execution_count": 72,
   "id": "45bbdf47",
   "metadata": {},
   "outputs": [
    {
     "data": {
      "text/plain": [
       "test    10\n",
       "dtype: int64"
      ]
     },
     "execution_count": 72,
     "metadata": {},
     "output_type": "execute_result"
    }
   ],
   "source": [
    "s1"
   ]
  },
  {
   "cell_type": "code",
   "execution_count": 73,
   "id": "c0958369",
   "metadata": {},
   "outputs": [],
   "source": [
    "s2 = pd.Series(20,index=['Test'])"
   ]
  },
  {
   "cell_type": "code",
   "execution_count": 74,
   "id": "861fb344",
   "metadata": {},
   "outputs": [
    {
     "data": {
      "text/plain": [
       "Test    20\n",
       "dtype: int64"
      ]
     },
     "execution_count": 74,
     "metadata": {},
     "output_type": "execute_result"
    }
   ],
   "source": [
    "s2"
   ]
  },
  {
   "cell_type": "code",
   "execution_count": 75,
   "id": "6ac0b8ee",
   "metadata": {},
   "outputs": [
    {
     "data": {
      "text/plain": [
       "Test   NaN\n",
       "test   NaN\n",
       "dtype: float64"
      ]
     },
     "execution_count": 75,
     "metadata": {},
     "output_type": "execute_result"
    }
   ],
   "source": [
    "s1+s2"
   ]
  },
  {
   "cell_type": "code",
   "execution_count": null,
   "id": "301ffb0a",
   "metadata": {},
   "outputs": [],
   "source": []
  },
  {
   "cell_type": "markdown",
   "id": "a03105f4",
   "metadata": {},
   "source": [
    "**Data Frame**\n",
    "\n",
    "\n",
    "* A dataframe represents a rectangular table of data & consists ordered collections of columns which can be of different data-types\n",
    "\n",
    "* The DataFrame has both rows & columns index, it can be thought as a dictionary of series, all sharing same indexes\n",
    "\n",
    "* The data is stored in **one or more 2-D block**"
   ]
  },
  {
   "cell_type": "markdown",
   "id": "523daa06",
   "metadata": {},
   "source": [
    "<img src=\"https://media.geeksforgeeks.org/wp-content/uploads/finallpandas.png\" width=\"550\" height=\"450\">"
   ]
  },
  {
   "cell_type": "code",
   "execution_count": 76,
   "id": "3121291f",
   "metadata": {},
   "outputs": [],
   "source": [
    "data1 = {\n",
    "    'State' : ['Mumbai','Pune','Chennai','Delhi','Nagpur'],\n",
    "    'year' : [2001,2011,2018,2019,2020],\n",
    "    'population':[1.5,1.7,3.6,6.2,3.2]\n",
    "}"
   ]
  },
  {
   "cell_type": "code",
   "execution_count": 77,
   "id": "21404293",
   "metadata": {},
   "outputs": [
    {
     "data": {
      "text/plain": [
       "{'State': ['Mumbai', 'Pune', 'Chennai', 'Delhi', 'Nagpur'],\n",
       " 'year': [2001, 2011, 2018, 2019, 2020],\n",
       " 'population': [1.5, 1.7, 3.6, 6.2, 3.2]}"
      ]
     },
     "execution_count": 77,
     "metadata": {},
     "output_type": "execute_result"
    }
   ],
   "source": [
    "data1"
   ]
  },
  {
   "cell_type": "code",
   "execution_count": 78,
   "id": "7aceb317",
   "metadata": {},
   "outputs": [
    {
     "data": {
      "text/plain": [
       "State         [Mumbai, Pune, Chennai, Delhi, Nagpur]\n",
       "year                  [2001, 2011, 2018, 2019, 2020]\n",
       "population                 [1.5, 1.7, 3.6, 6.2, 3.2]\n",
       "dtype: object"
      ]
     },
     "execution_count": 78,
     "metadata": {},
     "output_type": "execute_result"
    }
   ],
   "source": [
    "pd.Series(data1)"
   ]
  },
  {
   "cell_type": "code",
   "execution_count": 79,
   "id": "25ab5c5c",
   "metadata": {},
   "outputs": [],
   "source": [
    "df = pd.DataFrame(data1)"
   ]
  },
  {
   "cell_type": "code",
   "execution_count": 80,
   "id": "011b1446",
   "metadata": {},
   "outputs": [
    {
     "data": {
      "text/html": [
       "<div>\n",
       "<style scoped>\n",
       "    .dataframe tbody tr th:only-of-type {\n",
       "        vertical-align: middle;\n",
       "    }\n",
       "\n",
       "    .dataframe tbody tr th {\n",
       "        vertical-align: top;\n",
       "    }\n",
       "\n",
       "    .dataframe thead th {\n",
       "        text-align: right;\n",
       "    }\n",
       "</style>\n",
       "<table border=\"1\" class=\"dataframe\">\n",
       "  <thead>\n",
       "    <tr style=\"text-align: right;\">\n",
       "      <th></th>\n",
       "      <th>State</th>\n",
       "      <th>year</th>\n",
       "      <th>population</th>\n",
       "    </tr>\n",
       "  </thead>\n",
       "  <tbody>\n",
       "    <tr>\n",
       "      <th>0</th>\n",
       "      <td>Mumbai</td>\n",
       "      <td>2001</td>\n",
       "      <td>1.5</td>\n",
       "    </tr>\n",
       "    <tr>\n",
       "      <th>1</th>\n",
       "      <td>Pune</td>\n",
       "      <td>2011</td>\n",
       "      <td>1.7</td>\n",
       "    </tr>\n",
       "    <tr>\n",
       "      <th>2</th>\n",
       "      <td>Chennai</td>\n",
       "      <td>2018</td>\n",
       "      <td>3.6</td>\n",
       "    </tr>\n",
       "    <tr>\n",
       "      <th>3</th>\n",
       "      <td>Delhi</td>\n",
       "      <td>2019</td>\n",
       "      <td>6.2</td>\n",
       "    </tr>\n",
       "    <tr>\n",
       "      <th>4</th>\n",
       "      <td>Nagpur</td>\n",
       "      <td>2020</td>\n",
       "      <td>3.2</td>\n",
       "    </tr>\n",
       "  </tbody>\n",
       "</table>\n",
       "</div>"
      ],
      "text/plain": [
       "     State  year  population\n",
       "0   Mumbai  2001         1.5\n",
       "1     Pune  2011         1.7\n",
       "2  Chennai  2018         3.6\n",
       "3    Delhi  2019         6.2\n",
       "4   Nagpur  2020         3.2"
      ]
     },
     "execution_count": 80,
     "metadata": {},
     "output_type": "execute_result"
    }
   ],
   "source": [
    "df"
   ]
  },
  {
   "cell_type": "code",
   "execution_count": 81,
   "id": "5b2c806e",
   "metadata": {},
   "outputs": [
    {
     "data": {
      "text/html": [
       "<div>\n",
       "<style scoped>\n",
       "    .dataframe tbody tr th:only-of-type {\n",
       "        vertical-align: middle;\n",
       "    }\n",
       "\n",
       "    .dataframe tbody tr th {\n",
       "        vertical-align: top;\n",
       "    }\n",
       "\n",
       "    .dataframe thead th {\n",
       "        text-align: right;\n",
       "    }\n",
       "</style>\n",
       "<table border=\"1\" class=\"dataframe\">\n",
       "  <thead>\n",
       "    <tr style=\"text-align: right;\">\n",
       "      <th></th>\n",
       "      <th>State</th>\n",
       "      <th>year</th>\n",
       "      <th>population</th>\n",
       "    </tr>\n",
       "  </thead>\n",
       "  <tbody>\n",
       "    <tr>\n",
       "      <th>0</th>\n",
       "      <td>Mumbai</td>\n",
       "      <td>2001</td>\n",
       "      <td>1.5</td>\n",
       "    </tr>\n",
       "    <tr>\n",
       "      <th>1</th>\n",
       "      <td>Pune</td>\n",
       "      <td>2011</td>\n",
       "      <td>1.7</td>\n",
       "    </tr>\n",
       "    <tr>\n",
       "      <th>2</th>\n",
       "      <td>Chennai</td>\n",
       "      <td>2018</td>\n",
       "      <td>3.6</td>\n",
       "    </tr>\n",
       "  </tbody>\n",
       "</table>\n",
       "</div>"
      ],
      "text/plain": [
       "     State  year  population\n",
       "0   Mumbai  2001         1.5\n",
       "1     Pune  2011         1.7\n",
       "2  Chennai  2018         3.6"
      ]
     },
     "execution_count": 81,
     "metadata": {},
     "output_type": "execute_result"
    }
   ],
   "source": [
    "df.head(3)  #if you are not providing any argument then the default value is 5"
   ]
  },
  {
   "cell_type": "code",
   "execution_count": 82,
   "id": "92fca9bf",
   "metadata": {},
   "outputs": [
    {
     "data": {
      "text/html": [
       "<div>\n",
       "<style scoped>\n",
       "    .dataframe tbody tr th:only-of-type {\n",
       "        vertical-align: middle;\n",
       "    }\n",
       "\n",
       "    .dataframe tbody tr th {\n",
       "        vertical-align: top;\n",
       "    }\n",
       "\n",
       "    .dataframe thead th {\n",
       "        text-align: right;\n",
       "    }\n",
       "</style>\n",
       "<table border=\"1\" class=\"dataframe\">\n",
       "  <thead>\n",
       "    <tr style=\"text-align: right;\">\n",
       "      <th></th>\n",
       "      <th>State</th>\n",
       "      <th>year</th>\n",
       "      <th>population</th>\n",
       "    </tr>\n",
       "  </thead>\n",
       "  <tbody>\n",
       "    <tr>\n",
       "      <th>3</th>\n",
       "      <td>Delhi</td>\n",
       "      <td>2019</td>\n",
       "      <td>6.2</td>\n",
       "    </tr>\n",
       "    <tr>\n",
       "      <th>4</th>\n",
       "      <td>Nagpur</td>\n",
       "      <td>2020</td>\n",
       "      <td>3.2</td>\n",
       "    </tr>\n",
       "  </tbody>\n",
       "</table>\n",
       "</div>"
      ],
      "text/plain": [
       "    State  year  population\n",
       "3   Delhi  2019         6.2\n",
       "4  Nagpur  2020         3.2"
      ]
     },
     "execution_count": 82,
     "metadata": {},
     "output_type": "execute_result"
    }
   ],
   "source": [
    "df.tail(2) #it will show you the data from below, and the default value is 5"
   ]
  },
  {
   "cell_type": "code",
   "execution_count": 83,
   "id": "ad34ff20",
   "metadata": {},
   "outputs": [
    {
     "data": {
      "text/html": [
       "<div>\n",
       "<style scoped>\n",
       "    .dataframe tbody tr th:only-of-type {\n",
       "        vertical-align: middle;\n",
       "    }\n",
       "\n",
       "    .dataframe tbody tr th {\n",
       "        vertical-align: top;\n",
       "    }\n",
       "\n",
       "    .dataframe thead th {\n",
       "        text-align: right;\n",
       "    }\n",
       "</style>\n",
       "<table border=\"1\" class=\"dataframe\">\n",
       "  <thead>\n",
       "    <tr style=\"text-align: right;\">\n",
       "      <th></th>\n",
       "      <th>State</th>\n",
       "      <th>year</th>\n",
       "      <th>population</th>\n",
       "    </tr>\n",
       "  </thead>\n",
       "  <tbody>\n",
       "    <tr>\n",
       "      <th>0</th>\n",
       "      <td>Mumbai</td>\n",
       "      <td>2001</td>\n",
       "      <td>1.5</td>\n",
       "    </tr>\n",
       "    <tr>\n",
       "      <th>1</th>\n",
       "      <td>Pune</td>\n",
       "      <td>2011</td>\n",
       "      <td>1.7</td>\n",
       "    </tr>\n",
       "    <tr>\n",
       "      <th>2</th>\n",
       "      <td>Chennai</td>\n",
       "      <td>2018</td>\n",
       "      <td>3.6</td>\n",
       "    </tr>\n",
       "    <tr>\n",
       "      <th>3</th>\n",
       "      <td>Delhi</td>\n",
       "      <td>2019</td>\n",
       "      <td>6.2</td>\n",
       "    </tr>\n",
       "    <tr>\n",
       "      <th>4</th>\n",
       "      <td>Nagpur</td>\n",
       "      <td>2020</td>\n",
       "      <td>3.2</td>\n",
       "    </tr>\n",
       "  </tbody>\n",
       "</table>\n",
       "</div>"
      ],
      "text/plain": [
       "     State  year  population\n",
       "0   Mumbai  2001         1.5\n",
       "1     Pune  2011         1.7\n",
       "2  Chennai  2018         3.6\n",
       "3    Delhi  2019         6.2\n",
       "4   Nagpur  2020         3.2"
      ]
     },
     "execution_count": 83,
     "metadata": {},
     "output_type": "execute_result"
    }
   ],
   "source": [
    "df"
   ]
  },
  {
   "cell_type": "code",
   "execution_count": null,
   "id": "c6bc607c",
   "metadata": {},
   "outputs": [],
   "source": []
  },
  {
   "cell_type": "code",
   "execution_count": 84,
   "id": "29552db2",
   "metadata": {},
   "outputs": [],
   "source": [
    "df2 = pd.DataFrame(data1,index=['one','two','three','four','five'],columns=['State','year','population','debt'])"
   ]
  },
  {
   "cell_type": "code",
   "execution_count": 85,
   "id": "ecdd9e47",
   "metadata": {},
   "outputs": [
    {
     "data": {
      "text/html": [
       "<div>\n",
       "<style scoped>\n",
       "    .dataframe tbody tr th:only-of-type {\n",
       "        vertical-align: middle;\n",
       "    }\n",
       "\n",
       "    .dataframe tbody tr th {\n",
       "        vertical-align: top;\n",
       "    }\n",
       "\n",
       "    .dataframe thead th {\n",
       "        text-align: right;\n",
       "    }\n",
       "</style>\n",
       "<table border=\"1\" class=\"dataframe\">\n",
       "  <thead>\n",
       "    <tr style=\"text-align: right;\">\n",
       "      <th></th>\n",
       "      <th>State</th>\n",
       "      <th>year</th>\n",
       "      <th>population</th>\n",
       "      <th>debt</th>\n",
       "    </tr>\n",
       "  </thead>\n",
       "  <tbody>\n",
       "    <tr>\n",
       "      <th>one</th>\n",
       "      <td>Mumbai</td>\n",
       "      <td>2001</td>\n",
       "      <td>1.5</td>\n",
       "      <td>NaN</td>\n",
       "    </tr>\n",
       "    <tr>\n",
       "      <th>two</th>\n",
       "      <td>Pune</td>\n",
       "      <td>2011</td>\n",
       "      <td>1.7</td>\n",
       "      <td>NaN</td>\n",
       "    </tr>\n",
       "    <tr>\n",
       "      <th>three</th>\n",
       "      <td>Chennai</td>\n",
       "      <td>2018</td>\n",
       "      <td>3.6</td>\n",
       "      <td>NaN</td>\n",
       "    </tr>\n",
       "    <tr>\n",
       "      <th>four</th>\n",
       "      <td>Delhi</td>\n",
       "      <td>2019</td>\n",
       "      <td>6.2</td>\n",
       "      <td>NaN</td>\n",
       "    </tr>\n",
       "    <tr>\n",
       "      <th>five</th>\n",
       "      <td>Nagpur</td>\n",
       "      <td>2020</td>\n",
       "      <td>3.2</td>\n",
       "      <td>NaN</td>\n",
       "    </tr>\n",
       "  </tbody>\n",
       "</table>\n",
       "</div>"
      ],
      "text/plain": [
       "         State  year  population debt\n",
       "one     Mumbai  2001         1.5  NaN\n",
       "two       Pune  2011         1.7  NaN\n",
       "three  Chennai  2018         3.6  NaN\n",
       "four     Delhi  2019         6.2  NaN\n",
       "five    Nagpur  2020         3.2  NaN"
      ]
     },
     "execution_count": 85,
     "metadata": {},
     "output_type": "execute_result"
    }
   ],
   "source": [
    "df2"
   ]
  },
  {
   "cell_type": "code",
   "execution_count": 86,
   "id": "5a0a51a3",
   "metadata": {},
   "outputs": [
    {
     "data": {
      "text/plain": [
       "Index(['State', 'year', 'population', 'debt'], dtype='object')"
      ]
     },
     "execution_count": 86,
     "metadata": {},
     "output_type": "execute_result"
    }
   ],
   "source": [
    "df2.columns"
   ]
  },
  {
   "cell_type": "code",
   "execution_count": 87,
   "id": "ee5932ee",
   "metadata": {},
   "outputs": [],
   "source": [
    "df2.columns = ['STATE','YEAR','POPULATION','DEBT']"
   ]
  },
  {
   "cell_type": "code",
   "execution_count": 88,
   "id": "8859f11b",
   "metadata": {},
   "outputs": [
    {
     "data": {
      "text/html": [
       "<div>\n",
       "<style scoped>\n",
       "    .dataframe tbody tr th:only-of-type {\n",
       "        vertical-align: middle;\n",
       "    }\n",
       "\n",
       "    .dataframe tbody tr th {\n",
       "        vertical-align: top;\n",
       "    }\n",
       "\n",
       "    .dataframe thead th {\n",
       "        text-align: right;\n",
       "    }\n",
       "</style>\n",
       "<table border=\"1\" class=\"dataframe\">\n",
       "  <thead>\n",
       "    <tr style=\"text-align: right;\">\n",
       "      <th></th>\n",
       "      <th>STATE</th>\n",
       "      <th>YEAR</th>\n",
       "      <th>POPULATION</th>\n",
       "      <th>DEBT</th>\n",
       "    </tr>\n",
       "  </thead>\n",
       "  <tbody>\n",
       "    <tr>\n",
       "      <th>one</th>\n",
       "      <td>Mumbai</td>\n",
       "      <td>2001</td>\n",
       "      <td>1.5</td>\n",
       "      <td>NaN</td>\n",
       "    </tr>\n",
       "    <tr>\n",
       "      <th>two</th>\n",
       "      <td>Pune</td>\n",
       "      <td>2011</td>\n",
       "      <td>1.7</td>\n",
       "      <td>NaN</td>\n",
       "    </tr>\n",
       "    <tr>\n",
       "      <th>three</th>\n",
       "      <td>Chennai</td>\n",
       "      <td>2018</td>\n",
       "      <td>3.6</td>\n",
       "      <td>NaN</td>\n",
       "    </tr>\n",
       "    <tr>\n",
       "      <th>four</th>\n",
       "      <td>Delhi</td>\n",
       "      <td>2019</td>\n",
       "      <td>6.2</td>\n",
       "      <td>NaN</td>\n",
       "    </tr>\n",
       "    <tr>\n",
       "      <th>five</th>\n",
       "      <td>Nagpur</td>\n",
       "      <td>2020</td>\n",
       "      <td>3.2</td>\n",
       "      <td>NaN</td>\n",
       "    </tr>\n",
       "  </tbody>\n",
       "</table>\n",
       "</div>"
      ],
      "text/plain": [
       "         STATE  YEAR  POPULATION DEBT\n",
       "one     Mumbai  2001         1.5  NaN\n",
       "two       Pune  2011         1.7  NaN\n",
       "three  Chennai  2018         3.6  NaN\n",
       "four     Delhi  2019         6.2  NaN\n",
       "five    Nagpur  2020         3.2  NaN"
      ]
     },
     "execution_count": 88,
     "metadata": {},
     "output_type": "execute_result"
    }
   ],
   "source": [
    "df2"
   ]
  },
  {
   "cell_type": "code",
   "execution_count": 89,
   "id": "a2f4b393",
   "metadata": {},
   "outputs": [
    {
     "data": {
      "text/plain": [
       "one       Mumbai\n",
       "two         Pune\n",
       "three    Chennai\n",
       "four       Delhi\n",
       "five      Nagpur\n",
       "Name: STATE, dtype: object"
      ]
     },
     "execution_count": 89,
     "metadata": {},
     "output_type": "execute_result"
    }
   ],
   "source": [
    "df2['STATE']"
   ]
  },
  {
   "cell_type": "code",
   "execution_count": 90,
   "id": "c1ddbf49",
   "metadata": {},
   "outputs": [
    {
     "data": {
      "text/html": [
       "<div>\n",
       "<style scoped>\n",
       "    .dataframe tbody tr th:only-of-type {\n",
       "        vertical-align: middle;\n",
       "    }\n",
       "\n",
       "    .dataframe tbody tr th {\n",
       "        vertical-align: top;\n",
       "    }\n",
       "\n",
       "    .dataframe thead th {\n",
       "        text-align: right;\n",
       "    }\n",
       "</style>\n",
       "<table border=\"1\" class=\"dataframe\">\n",
       "  <thead>\n",
       "    <tr style=\"text-align: right;\">\n",
       "      <th></th>\n",
       "      <th>STATE</th>\n",
       "      <th>POPULATION</th>\n",
       "    </tr>\n",
       "  </thead>\n",
       "  <tbody>\n",
       "    <tr>\n",
       "      <th>one</th>\n",
       "      <td>Mumbai</td>\n",
       "      <td>1.5</td>\n",
       "    </tr>\n",
       "    <tr>\n",
       "      <th>two</th>\n",
       "      <td>Pune</td>\n",
       "      <td>1.7</td>\n",
       "    </tr>\n",
       "    <tr>\n",
       "      <th>three</th>\n",
       "      <td>Chennai</td>\n",
       "      <td>3.6</td>\n",
       "    </tr>\n",
       "    <tr>\n",
       "      <th>four</th>\n",
       "      <td>Delhi</td>\n",
       "      <td>6.2</td>\n",
       "    </tr>\n",
       "    <tr>\n",
       "      <th>five</th>\n",
       "      <td>Nagpur</td>\n",
       "      <td>3.2</td>\n",
       "    </tr>\n",
       "  </tbody>\n",
       "</table>\n",
       "</div>"
      ],
      "text/plain": [
       "         STATE  POPULATION\n",
       "one     Mumbai         1.5\n",
       "two       Pune         1.7\n",
       "three  Chennai         3.6\n",
       "four     Delhi         6.2\n",
       "five    Nagpur         3.2"
      ]
     },
     "execution_count": 90,
     "metadata": {},
     "output_type": "execute_result"
    }
   ],
   "source": [
    "df2[['STATE','POPULATION']]  #fetching multiple columns"
   ]
  },
  {
   "cell_type": "code",
   "execution_count": 91,
   "id": "3b284159",
   "metadata": {},
   "outputs": [
    {
     "data": {
      "text/plain": [
       "one      NaN\n",
       "two      NaN\n",
       "three    NaN\n",
       "four     NaN\n",
       "five     NaN\n",
       "Name: DEBT, dtype: object"
      ]
     },
     "execution_count": 91,
     "metadata": {},
     "output_type": "execute_result"
    }
   ],
   "source": [
    "df2['DEBT']"
   ]
  },
  {
   "cell_type": "code",
   "execution_count": 92,
   "id": "753f7600",
   "metadata": {},
   "outputs": [],
   "source": [
    "df2['DEBT'] = 0"
   ]
  },
  {
   "cell_type": "code",
   "execution_count": 93,
   "id": "2a3f5363",
   "metadata": {},
   "outputs": [
    {
     "data": {
      "text/html": [
       "<div>\n",
       "<style scoped>\n",
       "    .dataframe tbody tr th:only-of-type {\n",
       "        vertical-align: middle;\n",
       "    }\n",
       "\n",
       "    .dataframe tbody tr th {\n",
       "        vertical-align: top;\n",
       "    }\n",
       "\n",
       "    .dataframe thead th {\n",
       "        text-align: right;\n",
       "    }\n",
       "</style>\n",
       "<table border=\"1\" class=\"dataframe\">\n",
       "  <thead>\n",
       "    <tr style=\"text-align: right;\">\n",
       "      <th></th>\n",
       "      <th>STATE</th>\n",
       "      <th>YEAR</th>\n",
       "      <th>POPULATION</th>\n",
       "      <th>DEBT</th>\n",
       "    </tr>\n",
       "  </thead>\n",
       "  <tbody>\n",
       "    <tr>\n",
       "      <th>one</th>\n",
       "      <td>Mumbai</td>\n",
       "      <td>2001</td>\n",
       "      <td>1.5</td>\n",
       "      <td>0</td>\n",
       "    </tr>\n",
       "    <tr>\n",
       "      <th>two</th>\n",
       "      <td>Pune</td>\n",
       "      <td>2011</td>\n",
       "      <td>1.7</td>\n",
       "      <td>0</td>\n",
       "    </tr>\n",
       "    <tr>\n",
       "      <th>three</th>\n",
       "      <td>Chennai</td>\n",
       "      <td>2018</td>\n",
       "      <td>3.6</td>\n",
       "      <td>0</td>\n",
       "    </tr>\n",
       "    <tr>\n",
       "      <th>four</th>\n",
       "      <td>Delhi</td>\n",
       "      <td>2019</td>\n",
       "      <td>6.2</td>\n",
       "      <td>0</td>\n",
       "    </tr>\n",
       "    <tr>\n",
       "      <th>five</th>\n",
       "      <td>Nagpur</td>\n",
       "      <td>2020</td>\n",
       "      <td>3.2</td>\n",
       "      <td>0</td>\n",
       "    </tr>\n",
       "  </tbody>\n",
       "</table>\n",
       "</div>"
      ],
      "text/plain": [
       "         STATE  YEAR  POPULATION  DEBT\n",
       "one     Mumbai  2001         1.5     0\n",
       "two       Pune  2011         1.7     0\n",
       "three  Chennai  2018         3.6     0\n",
       "four     Delhi  2019         6.2     0\n",
       "five    Nagpur  2020         3.2     0"
      ]
     },
     "execution_count": 93,
     "metadata": {},
     "output_type": "execute_result"
    }
   ],
   "source": [
    "df2"
   ]
  },
  {
   "cell_type": "code",
   "execution_count": 94,
   "id": "e18e84b6",
   "metadata": {},
   "outputs": [],
   "source": [
    "df2['DEBT'] = np.arange(1,6)"
   ]
  },
  {
   "cell_type": "code",
   "execution_count": 95,
   "id": "9f4afa4f",
   "metadata": {},
   "outputs": [
    {
     "data": {
      "text/html": [
       "<div>\n",
       "<style scoped>\n",
       "    .dataframe tbody tr th:only-of-type {\n",
       "        vertical-align: middle;\n",
       "    }\n",
       "\n",
       "    .dataframe tbody tr th {\n",
       "        vertical-align: top;\n",
       "    }\n",
       "\n",
       "    .dataframe thead th {\n",
       "        text-align: right;\n",
       "    }\n",
       "</style>\n",
       "<table border=\"1\" class=\"dataframe\">\n",
       "  <thead>\n",
       "    <tr style=\"text-align: right;\">\n",
       "      <th></th>\n",
       "      <th>STATE</th>\n",
       "      <th>YEAR</th>\n",
       "      <th>POPULATION</th>\n",
       "      <th>DEBT</th>\n",
       "    </tr>\n",
       "  </thead>\n",
       "  <tbody>\n",
       "    <tr>\n",
       "      <th>one</th>\n",
       "      <td>Mumbai</td>\n",
       "      <td>2001</td>\n",
       "      <td>1.5</td>\n",
       "      <td>1</td>\n",
       "    </tr>\n",
       "    <tr>\n",
       "      <th>two</th>\n",
       "      <td>Pune</td>\n",
       "      <td>2011</td>\n",
       "      <td>1.7</td>\n",
       "      <td>2</td>\n",
       "    </tr>\n",
       "    <tr>\n",
       "      <th>three</th>\n",
       "      <td>Chennai</td>\n",
       "      <td>2018</td>\n",
       "      <td>3.6</td>\n",
       "      <td>3</td>\n",
       "    </tr>\n",
       "    <tr>\n",
       "      <th>four</th>\n",
       "      <td>Delhi</td>\n",
       "      <td>2019</td>\n",
       "      <td>6.2</td>\n",
       "      <td>4</td>\n",
       "    </tr>\n",
       "    <tr>\n",
       "      <th>five</th>\n",
       "      <td>Nagpur</td>\n",
       "      <td>2020</td>\n",
       "      <td>3.2</td>\n",
       "      <td>5</td>\n",
       "    </tr>\n",
       "  </tbody>\n",
       "</table>\n",
       "</div>"
      ],
      "text/plain": [
       "         STATE  YEAR  POPULATION  DEBT\n",
       "one     Mumbai  2001         1.5     1\n",
       "two       Pune  2011         1.7     2\n",
       "three  Chennai  2018         3.6     3\n",
       "four     Delhi  2019         6.2     4\n",
       "five    Nagpur  2020         3.2     5"
      ]
     },
     "execution_count": 95,
     "metadata": {},
     "output_type": "execute_result"
    }
   ],
   "source": [
    "df2"
   ]
  },
  {
   "cell_type": "code",
   "execution_count": 96,
   "id": "04826f05",
   "metadata": {},
   "outputs": [
    {
     "data": {
      "text/plain": [
       "STATE         Chennai\n",
       "YEAR             2018\n",
       "POPULATION        3.6\n",
       "DEBT                3\n",
       "Name: three, dtype: object"
      ]
     },
     "execution_count": 96,
     "metadata": {},
     "output_type": "execute_result"
    }
   ],
   "source": [
    "df2.loc['three']"
   ]
  },
  {
   "cell_type": "code",
   "execution_count": 97,
   "id": "91f70902",
   "metadata": {},
   "outputs": [
    {
     "data": {
      "text/plain": [
       "STATE         Chennai\n",
       "YEAR             2018\n",
       "POPULATION        3.6\n",
       "DEBT                3\n",
       "Name: three, dtype: object"
      ]
     },
     "execution_count": 97,
     "metadata": {},
     "output_type": "execute_result"
    }
   ],
   "source": [
    "df2.iloc[2]"
   ]
  },
  {
   "cell_type": "code",
   "execution_count": 98,
   "id": "7823eae7",
   "metadata": {},
   "outputs": [
    {
     "data": {
      "text/html": [
       "<div>\n",
       "<style scoped>\n",
       "    .dataframe tbody tr th:only-of-type {\n",
       "        vertical-align: middle;\n",
       "    }\n",
       "\n",
       "    .dataframe tbody tr th {\n",
       "        vertical-align: top;\n",
       "    }\n",
       "\n",
       "    .dataframe thead th {\n",
       "        text-align: right;\n",
       "    }\n",
       "</style>\n",
       "<table border=\"1\" class=\"dataframe\">\n",
       "  <thead>\n",
       "    <tr style=\"text-align: right;\">\n",
       "      <th></th>\n",
       "      <th>STATE</th>\n",
       "      <th>YEAR</th>\n",
       "      <th>POPULATION</th>\n",
       "      <th>DEBT</th>\n",
       "    </tr>\n",
       "  </thead>\n",
       "  <tbody>\n",
       "    <tr>\n",
       "      <th>one</th>\n",
       "      <td>Mumbai</td>\n",
       "      <td>2001</td>\n",
       "      <td>1.5</td>\n",
       "      <td>1</td>\n",
       "    </tr>\n",
       "    <tr>\n",
       "      <th>four</th>\n",
       "      <td>Delhi</td>\n",
       "      <td>2019</td>\n",
       "      <td>6.2</td>\n",
       "      <td>4</td>\n",
       "    </tr>\n",
       "  </tbody>\n",
       "</table>\n",
       "</div>"
      ],
      "text/plain": [
       "       STATE  YEAR  POPULATION  DEBT\n",
       "one   Mumbai  2001         1.5     1\n",
       "four   Delhi  2019         6.2     4"
      ]
     },
     "execution_count": 98,
     "metadata": {},
     "output_type": "execute_result"
    }
   ],
   "source": [
    "\n",
    "df2.loc[['one','four']]  ## fetching multiple rows."
   ]
  },
  {
   "cell_type": "code",
   "execution_count": 99,
   "id": "6436ec42",
   "metadata": {},
   "outputs": [
    {
     "data": {
      "text/html": [
       "<div>\n",
       "<style scoped>\n",
       "    .dataframe tbody tr th:only-of-type {\n",
       "        vertical-align: middle;\n",
       "    }\n",
       "\n",
       "    .dataframe tbody tr th {\n",
       "        vertical-align: top;\n",
       "    }\n",
       "\n",
       "    .dataframe thead th {\n",
       "        text-align: right;\n",
       "    }\n",
       "</style>\n",
       "<table border=\"1\" class=\"dataframe\">\n",
       "  <thead>\n",
       "    <tr style=\"text-align: right;\">\n",
       "      <th></th>\n",
       "      <th>STATE</th>\n",
       "      <th>YEAR</th>\n",
       "      <th>POPULATION</th>\n",
       "      <th>DEBT</th>\n",
       "    </tr>\n",
       "  </thead>\n",
       "  <tbody>\n",
       "    <tr>\n",
       "      <th>one</th>\n",
       "      <td>Mumbai</td>\n",
       "      <td>2001</td>\n",
       "      <td>1.5</td>\n",
       "      <td>1</td>\n",
       "    </tr>\n",
       "    <tr>\n",
       "      <th>three</th>\n",
       "      <td>Chennai</td>\n",
       "      <td>2018</td>\n",
       "      <td>3.6</td>\n",
       "      <td>3</td>\n",
       "    </tr>\n",
       "    <tr>\n",
       "      <th>five</th>\n",
       "      <td>Nagpur</td>\n",
       "      <td>2020</td>\n",
       "      <td>3.2</td>\n",
       "      <td>5</td>\n",
       "    </tr>\n",
       "  </tbody>\n",
       "</table>\n",
       "</div>"
      ],
      "text/plain": [
       "         STATE  YEAR  POPULATION  DEBT\n",
       "one     Mumbai  2001         1.5     1\n",
       "three  Chennai  2018         3.6     3\n",
       "five    Nagpur  2020         3.2     5"
      ]
     },
     "execution_count": 99,
     "metadata": {},
     "output_type": "execute_result"
    }
   ],
   "source": [
    "df2.iloc[[0,2,4]]"
   ]
  },
  {
   "cell_type": "code",
   "execution_count": null,
   "id": "ad7ef973",
   "metadata": {},
   "outputs": [],
   "source": []
  },
  {
   "cell_type": "code",
   "execution_count": 100,
   "id": "8a0df0d0",
   "metadata": {},
   "outputs": [
    {
     "data": {
      "text/plain": [
       "STATE         Chennai\n",
       "YEAR             2018\n",
       "POPULATION        3.6\n",
       "DEBT                3\n",
       "Name: three, dtype: object"
      ]
     },
     "execution_count": 100,
     "metadata": {},
     "output_type": "execute_result"
    }
   ],
   "source": [
    "df2.iloc[2]"
   ]
  },
  {
   "cell_type": "code",
   "execution_count": 101,
   "id": "474efa4f",
   "metadata": {},
   "outputs": [
    {
     "data": {
      "text/html": [
       "<div>\n",
       "<style scoped>\n",
       "    .dataframe tbody tr th:only-of-type {\n",
       "        vertical-align: middle;\n",
       "    }\n",
       "\n",
       "    .dataframe tbody tr th {\n",
       "        vertical-align: top;\n",
       "    }\n",
       "\n",
       "    .dataframe thead th {\n",
       "        text-align: right;\n",
       "    }\n",
       "</style>\n",
       "<table border=\"1\" class=\"dataframe\">\n",
       "  <thead>\n",
       "    <tr style=\"text-align: right;\">\n",
       "      <th></th>\n",
       "      <th>STATE</th>\n",
       "      <th>YEAR</th>\n",
       "      <th>POPULATION</th>\n",
       "      <th>DEBT</th>\n",
       "    </tr>\n",
       "  </thead>\n",
       "  <tbody>\n",
       "    <tr>\n",
       "      <th>one</th>\n",
       "      <td>Mumbai</td>\n",
       "      <td>2001</td>\n",
       "      <td>1.5</td>\n",
       "      <td>1</td>\n",
       "    </tr>\n",
       "    <tr>\n",
       "      <th>two</th>\n",
       "      <td>Pune</td>\n",
       "      <td>2011</td>\n",
       "      <td>1.7</td>\n",
       "      <td>2</td>\n",
       "    </tr>\n",
       "    <tr>\n",
       "      <th>three</th>\n",
       "      <td>Chennai</td>\n",
       "      <td>2018</td>\n",
       "      <td>3.6</td>\n",
       "      <td>3</td>\n",
       "    </tr>\n",
       "    <tr>\n",
       "      <th>four</th>\n",
       "      <td>Delhi</td>\n",
       "      <td>2019</td>\n",
       "      <td>6.2</td>\n",
       "      <td>4</td>\n",
       "    </tr>\n",
       "    <tr>\n",
       "      <th>five</th>\n",
       "      <td>Nagpur</td>\n",
       "      <td>2020</td>\n",
       "      <td>3.2</td>\n",
       "      <td>5</td>\n",
       "    </tr>\n",
       "  </tbody>\n",
       "</table>\n",
       "</div>"
      ],
      "text/plain": [
       "         STATE  YEAR  POPULATION  DEBT\n",
       "one     Mumbai  2001         1.5     1\n",
       "two       Pune  2011         1.7     2\n",
       "three  Chennai  2018         3.6     3\n",
       "four     Delhi  2019         6.2     4\n",
       "five    Nagpur  2020         3.2     5"
      ]
     },
     "execution_count": 101,
     "metadata": {},
     "output_type": "execute_result"
    }
   ],
   "source": [
    "df2"
   ]
  },
  {
   "cell_type": "code",
   "execution_count": 102,
   "id": "6e527147",
   "metadata": {},
   "outputs": [
    {
     "data": {
      "text/html": [
       "<div>\n",
       "<style scoped>\n",
       "    .dataframe tbody tr th:only-of-type {\n",
       "        vertical-align: middle;\n",
       "    }\n",
       "\n",
       "    .dataframe tbody tr th {\n",
       "        vertical-align: top;\n",
       "    }\n",
       "\n",
       "    .dataframe thead th {\n",
       "        text-align: right;\n",
       "    }\n",
       "</style>\n",
       "<table border=\"1\" class=\"dataframe\">\n",
       "  <thead>\n",
       "    <tr style=\"text-align: right;\">\n",
       "      <th></th>\n",
       "      <th>STATE</th>\n",
       "      <th>YEAR</th>\n",
       "      <th>POPULATION</th>\n",
       "      <th>DEBT</th>\n",
       "    </tr>\n",
       "  </thead>\n",
       "  <tbody>\n",
       "    <tr>\n",
       "      <th>one</th>\n",
       "      <td>Mumbai</td>\n",
       "      <td>2001</td>\n",
       "      <td>1.5</td>\n",
       "      <td>1</td>\n",
       "    </tr>\n",
       "    <tr>\n",
       "      <th>two</th>\n",
       "      <td>Pune</td>\n",
       "      <td>2011</td>\n",
       "      <td>1.7</td>\n",
       "      <td>2</td>\n",
       "    </tr>\n",
       "    <tr>\n",
       "      <th>three</th>\n",
       "      <td>Chennai</td>\n",
       "      <td>2018</td>\n",
       "      <td>3.6</td>\n",
       "      <td>3</td>\n",
       "    </tr>\n",
       "    <tr>\n",
       "      <th>four</th>\n",
       "      <td>Delhi</td>\n",
       "      <td>2019</td>\n",
       "      <td>6.2</td>\n",
       "      <td>4</td>\n",
       "    </tr>\n",
       "    <tr>\n",
       "      <th>five</th>\n",
       "      <td>Nagpur</td>\n",
       "      <td>2020</td>\n",
       "      <td>3.2</td>\n",
       "      <td>5</td>\n",
       "    </tr>\n",
       "  </tbody>\n",
       "</table>\n",
       "</div>"
      ],
      "text/plain": [
       "         STATE  YEAR  POPULATION  DEBT\n",
       "one     Mumbai  2001         1.5     1\n",
       "two       Pune  2011         1.7     2\n",
       "three  Chennai  2018         3.6     3\n",
       "four     Delhi  2019         6.2     4\n",
       "five    Nagpur  2020         3.2     5"
      ]
     },
     "execution_count": 102,
     "metadata": {},
     "output_type": "execute_result"
    }
   ],
   "source": [
    "df2"
   ]
  },
  {
   "cell_type": "code",
   "execution_count": 103,
   "id": "d056d089",
   "metadata": {
    "scrolled": true
   },
   "outputs": [
    {
     "data": {
      "text/html": [
       "<div>\n",
       "<style scoped>\n",
       "    .dataframe tbody tr th:only-of-type {\n",
       "        vertical-align: middle;\n",
       "    }\n",
       "\n",
       "    .dataframe tbody tr th {\n",
       "        vertical-align: top;\n",
       "    }\n",
       "\n",
       "    .dataframe thead th {\n",
       "        text-align: right;\n",
       "    }\n",
       "</style>\n",
       "<table border=\"1\" class=\"dataframe\">\n",
       "  <thead>\n",
       "    <tr style=\"text-align: right;\">\n",
       "      <th></th>\n",
       "      <th>STATE</th>\n",
       "      <th>YEAR</th>\n",
       "      <th>POPULATION</th>\n",
       "      <th>DEBT</th>\n",
       "    </tr>\n",
       "  </thead>\n",
       "  <tbody>\n",
       "    <tr>\n",
       "      <th>one</th>\n",
       "      <td>Mumbai</td>\n",
       "      <td>2001</td>\n",
       "      <td>1.5</td>\n",
       "      <td>1</td>\n",
       "    </tr>\n",
       "    <tr>\n",
       "      <th>two</th>\n",
       "      <td>Pune</td>\n",
       "      <td>2011</td>\n",
       "      <td>1.7</td>\n",
       "      <td>2</td>\n",
       "    </tr>\n",
       "    <tr>\n",
       "      <th>three</th>\n",
       "      <td>Chennai</td>\n",
       "      <td>2018</td>\n",
       "      <td>3.6</td>\n",
       "      <td>3</td>\n",
       "    </tr>\n",
       "    <tr>\n",
       "      <th>four</th>\n",
       "      <td>Delhi</td>\n",
       "      <td>2019</td>\n",
       "      <td>6.2</td>\n",
       "      <td>4</td>\n",
       "    </tr>\n",
       "    <tr>\n",
       "      <th>five</th>\n",
       "      <td>Nagpur</td>\n",
       "      <td>2020</td>\n",
       "      <td>3.2</td>\n",
       "      <td>5</td>\n",
       "    </tr>\n",
       "  </tbody>\n",
       "</table>\n",
       "</div>"
      ],
      "text/plain": [
       "         STATE  YEAR  POPULATION  DEBT\n",
       "one     Mumbai  2001         1.5     1\n",
       "two       Pune  2011         1.7     2\n",
       "three  Chennai  2018         3.6     3\n",
       "four     Delhi  2019         6.2     4\n",
       "five    Nagpur  2020         3.2     5"
      ]
     },
     "execution_count": 103,
     "metadata": {},
     "output_type": "execute_result"
    }
   ],
   "source": [
    "df2"
   ]
  },
  {
   "cell_type": "code",
   "execution_count": 104,
   "id": "9dd11b2c",
   "metadata": {},
   "outputs": [],
   "source": [
    "# df2['year']['two'] = 2022"
   ]
  },
  {
   "cell_type": "code",
   "execution_count": 105,
   "id": "714729f0",
   "metadata": {},
   "outputs": [
    {
     "data": {
      "text/html": [
       "<div>\n",
       "<style scoped>\n",
       "    .dataframe tbody tr th:only-of-type {\n",
       "        vertical-align: middle;\n",
       "    }\n",
       "\n",
       "    .dataframe tbody tr th {\n",
       "        vertical-align: top;\n",
       "    }\n",
       "\n",
       "    .dataframe thead th {\n",
       "        text-align: right;\n",
       "    }\n",
       "</style>\n",
       "<table border=\"1\" class=\"dataframe\">\n",
       "  <thead>\n",
       "    <tr style=\"text-align: right;\">\n",
       "      <th></th>\n",
       "      <th>STATE</th>\n",
       "      <th>YEAR</th>\n",
       "      <th>POPULATION</th>\n",
       "      <th>DEBT</th>\n",
       "    </tr>\n",
       "  </thead>\n",
       "  <tbody>\n",
       "    <tr>\n",
       "      <th>one</th>\n",
       "      <td>Mumbai</td>\n",
       "      <td>2001</td>\n",
       "      <td>1.5</td>\n",
       "      <td>1</td>\n",
       "    </tr>\n",
       "    <tr>\n",
       "      <th>two</th>\n",
       "      <td>Pune</td>\n",
       "      <td>2011</td>\n",
       "      <td>1.7</td>\n",
       "      <td>2</td>\n",
       "    </tr>\n",
       "    <tr>\n",
       "      <th>three</th>\n",
       "      <td>Chennai</td>\n",
       "      <td>2018</td>\n",
       "      <td>3.6</td>\n",
       "      <td>3</td>\n",
       "    </tr>\n",
       "    <tr>\n",
       "      <th>four</th>\n",
       "      <td>Delhi</td>\n",
       "      <td>2019</td>\n",
       "      <td>6.2</td>\n",
       "      <td>4</td>\n",
       "    </tr>\n",
       "    <tr>\n",
       "      <th>five</th>\n",
       "      <td>Nagpur</td>\n",
       "      <td>2020</td>\n",
       "      <td>3.2</td>\n",
       "      <td>5</td>\n",
       "    </tr>\n",
       "  </tbody>\n",
       "</table>\n",
       "</div>"
      ],
      "text/plain": [
       "         STATE  YEAR  POPULATION  DEBT\n",
       "one     Mumbai  2001         1.5     1\n",
       "two       Pune  2011         1.7     2\n",
       "three  Chennai  2018         3.6     3\n",
       "four     Delhi  2019         6.2     4\n",
       "five    Nagpur  2020         3.2     5"
      ]
     },
     "execution_count": 105,
     "metadata": {},
     "output_type": "execute_result"
    }
   ],
   "source": [
    "df2"
   ]
  },
  {
   "cell_type": "code",
   "execution_count": 106,
   "id": "a13bc123",
   "metadata": {},
   "outputs": [],
   "source": [
    "# df2['year']['five'] "
   ]
  },
  {
   "cell_type": "code",
   "execution_count": null,
   "id": "934d7fcb",
   "metadata": {},
   "outputs": [],
   "source": []
  },
  {
   "cell_type": "markdown",
   "id": "dc49bf44",
   "metadata": {},
   "source": [
    "## index objects"
   ]
  },
  {
   "cell_type": "code",
   "execution_count": 107,
   "id": "2ef4b4bd",
   "metadata": {},
   "outputs": [],
   "source": [
    "obj = pd.Series(range(3),index=['a','b','c'])"
   ]
  },
  {
   "cell_type": "code",
   "execution_count": 108,
   "id": "72933ddd",
   "metadata": {},
   "outputs": [
    {
     "data": {
      "text/plain": [
       "Index(['a', 'b', 'c'], dtype='object')"
      ]
     },
     "execution_count": 108,
     "metadata": {},
     "output_type": "execute_result"
    }
   ],
   "source": [
    "obj\n",
    "obj.index"
   ]
  },
  {
   "cell_type": "code",
   "execution_count": 109,
   "id": "dd62cfb3",
   "metadata": {},
   "outputs": [],
   "source": [
    "my_index = obj.index"
   ]
  },
  {
   "cell_type": "code",
   "execution_count": 110,
   "id": "028dc0eb",
   "metadata": {},
   "outputs": [
    {
     "data": {
      "text/plain": [
       "Index(['a', 'b', 'c'], dtype='object')"
      ]
     },
     "execution_count": 110,
     "metadata": {},
     "output_type": "execute_result"
    }
   ],
   "source": [
    "my_index"
   ]
  },
  {
   "cell_type": "code",
   "execution_count": 111,
   "id": "7e09f9a7",
   "metadata": {},
   "outputs": [
    {
     "data": {
      "text/plain": [
       "'a'"
      ]
     },
     "execution_count": 111,
     "metadata": {},
     "output_type": "execute_result"
    }
   ],
   "source": [
    "my_index[0]"
   ]
  },
  {
   "cell_type": "code",
   "execution_count": 112,
   "id": "cc10942c",
   "metadata": {},
   "outputs": [],
   "source": [
    "# my_index[0] = 'x'"
   ]
  },
  {
   "cell_type": "code",
   "execution_count": 113,
   "id": "fb67c378",
   "metadata": {},
   "outputs": [],
   "source": [
    "obj2 = pd.Series([4.1,7.5,-8.3,3.6],index=['d','a','b','c'])"
   ]
  },
  {
   "cell_type": "code",
   "execution_count": 114,
   "id": "4dd9809f",
   "metadata": {},
   "outputs": [
    {
     "data": {
      "text/plain": [
       "d    4.1\n",
       "a    7.5\n",
       "b   -8.3\n",
       "c    3.6\n",
       "dtype: float64"
      ]
     },
     "execution_count": 114,
     "metadata": {},
     "output_type": "execute_result"
    }
   ],
   "source": [
    "obj2"
   ]
  },
  {
   "cell_type": "code",
   "execution_count": 115,
   "id": "406ae8f6",
   "metadata": {},
   "outputs": [],
   "source": [
    "res = obj2.reindex(['a','b','c','d'])"
   ]
  },
  {
   "cell_type": "code",
   "execution_count": 116,
   "id": "6690f07e",
   "metadata": {},
   "outputs": [
    {
     "data": {
      "text/plain": [
       "a    7.5\n",
       "b   -8.3\n",
       "c    3.6\n",
       "d    4.1\n",
       "dtype: float64"
      ]
     },
     "execution_count": 116,
     "metadata": {},
     "output_type": "execute_result"
    }
   ],
   "source": [
    "res"
   ]
  },
  {
   "cell_type": "code",
   "execution_count": 117,
   "id": "ea3fe0b5",
   "metadata": {},
   "outputs": [
    {
     "data": {
      "text/plain": [
       "d    4.1\n",
       "a    7.5\n",
       "b   -8.3\n",
       "c    3.6\n",
       "dtype: float64"
      ]
     },
     "execution_count": 117,
     "metadata": {},
     "output_type": "execute_result"
    }
   ],
   "source": [
    "obj2"
   ]
  },
  {
   "cell_type": "code",
   "execution_count": 118,
   "id": "a3bbbdd3",
   "metadata": {},
   "outputs": [
    {
     "data": {
      "text/plain": [
       "a    7.5\n",
       "b   -8.3\n",
       "c    3.6\n",
       "d    4.1\n",
       "dtype: float64"
      ]
     },
     "execution_count": 118,
     "metadata": {},
     "output_type": "execute_result"
    }
   ],
   "source": [
    "obj2.reindex(['a','b','c','d'])"
   ]
  },
  {
   "cell_type": "code",
   "execution_count": null,
   "id": "819787f3",
   "metadata": {},
   "outputs": [],
   "source": []
  },
  {
   "cell_type": "code",
   "execution_count": 119,
   "id": "98a0ec40",
   "metadata": {},
   "outputs": [],
   "source": [
    "obj3 = pd.Series(['blue','purple','red'],index=[0,2,4])"
   ]
  },
  {
   "cell_type": "code",
   "execution_count": 120,
   "id": "279a6626",
   "metadata": {},
   "outputs": [
    {
     "data": {
      "text/plain": [
       "0      blue\n",
       "2    purple\n",
       "4       red\n",
       "dtype: object"
      ]
     },
     "execution_count": 120,
     "metadata": {},
     "output_type": "execute_result"
    }
   ],
   "source": [
    "obj3"
   ]
  },
  {
   "cell_type": "code",
   "execution_count": 121,
   "id": "b46e6c0c",
   "metadata": {},
   "outputs": [],
   "source": [
    "res1 = obj3.reindex(range(7),method='ffill')"
   ]
  },
  {
   "cell_type": "code",
   "execution_count": 122,
   "id": "1ea3974a",
   "metadata": {},
   "outputs": [
    {
     "data": {
      "text/plain": [
       "0      blue\n",
       "1      blue\n",
       "2    purple\n",
       "3    purple\n",
       "4       red\n",
       "5       red\n",
       "6       red\n",
       "dtype: object"
      ]
     },
     "execution_count": 122,
     "metadata": {},
     "output_type": "execute_result"
    }
   ],
   "source": [
    "res1"
   ]
  },
  {
   "cell_type": "code",
   "execution_count": null,
   "id": "786daabb",
   "metadata": {},
   "outputs": [],
   "source": []
  },
  {
   "cell_type": "code",
   "execution_count": 123,
   "id": "46198eed",
   "metadata": {},
   "outputs": [
    {
     "data": {
      "text/plain": [
       "0      blue\n",
       "2    purple\n",
       "4       red\n",
       "dtype: object"
      ]
     },
     "execution_count": 123,
     "metadata": {},
     "output_type": "execute_result"
    }
   ],
   "source": [
    "obj3"
   ]
  },
  {
   "cell_type": "code",
   "execution_count": 124,
   "id": "f19002fb",
   "metadata": {},
   "outputs": [
    {
     "data": {
      "text/plain": [
       "0      blue\n",
       "1    purple\n",
       "2    purple\n",
       "3       red\n",
       "4       red\n",
       "5       NaN\n",
       "dtype: object"
      ]
     },
     "execution_count": 124,
     "metadata": {},
     "output_type": "execute_result"
    }
   ],
   "source": [
    "obj3.reindex(range(6),method='bfill')"
   ]
  },
  {
   "cell_type": "code",
   "execution_count": null,
   "id": "bbe76509",
   "metadata": {},
   "outputs": [],
   "source": []
  },
  {
   "cell_type": "markdown",
   "id": "73b4bb67",
   "metadata": {},
   "source": [
    "## dropping entries in series\n"
   ]
  },
  {
   "cell_type": "code",
   "execution_count": 125,
   "id": "053117af",
   "metadata": {},
   "outputs": [],
   "source": [
    "obj4 = pd.Series(np.arange(5),index=['a','b','c','d','e'])"
   ]
  },
  {
   "cell_type": "code",
   "execution_count": 126,
   "id": "26483900",
   "metadata": {},
   "outputs": [
    {
     "data": {
      "text/plain": [
       "a    0\n",
       "b    1\n",
       "c    2\n",
       "d    3\n",
       "e    4\n",
       "dtype: int32"
      ]
     },
     "execution_count": 126,
     "metadata": {},
     "output_type": "execute_result"
    }
   ],
   "source": [
    "obj4"
   ]
  },
  {
   "cell_type": "code",
   "execution_count": 127,
   "id": "0f4cb8d3",
   "metadata": {},
   "outputs": [
    {
     "data": {
      "text/plain": [
       "a    0\n",
       "b    1\n",
       "d    3\n",
       "e    4\n",
       "dtype: int32"
      ]
     },
     "execution_count": 127,
     "metadata": {},
     "output_type": "execute_result"
    }
   ],
   "source": [
    "obj4.drop('c')"
   ]
  },
  {
   "cell_type": "code",
   "execution_count": 128,
   "id": "a57b9860",
   "metadata": {},
   "outputs": [
    {
     "data": {
      "text/plain": [
       "a    0\n",
       "b    1\n",
       "c    2\n",
       "d    3\n",
       "e    4\n",
       "dtype: int32"
      ]
     },
     "execution_count": 128,
     "metadata": {},
     "output_type": "execute_result"
    }
   ],
   "source": [
    "obj4"
   ]
  },
  {
   "cell_type": "code",
   "execution_count": 129,
   "id": "5ae91b89",
   "metadata": {},
   "outputs": [
    {
     "data": {
      "text/plain": [
       "b    1\n",
       "c    2\n",
       "dtype: int32"
      ]
     },
     "execution_count": 129,
     "metadata": {},
     "output_type": "execute_result"
    }
   ],
   "source": [
    "obj4.drop(['a','d','e'])"
   ]
  },
  {
   "cell_type": "code",
   "execution_count": null,
   "id": "3eebc982",
   "metadata": {},
   "outputs": [],
   "source": []
  },
  {
   "cell_type": "code",
   "execution_count": null,
   "id": "0268ff7d",
   "metadata": {},
   "outputs": [],
   "source": []
  },
  {
   "cell_type": "code",
   "execution_count": 130,
   "id": "b8c9196a",
   "metadata": {},
   "outputs": [],
   "source": [
    "df3 = pd.DataFrame(np.arange(16).reshape(4,4),\n",
    "                  index=['Mumbai','Pune','Chennai','Delhi'],\n",
    "                  columns=['one','two','three','four'])"
   ]
  },
  {
   "cell_type": "code",
   "execution_count": 131,
   "id": "4cb5254a",
   "metadata": {},
   "outputs": [
    {
     "data": {
      "text/html": [
       "<div>\n",
       "<style scoped>\n",
       "    .dataframe tbody tr th:only-of-type {\n",
       "        vertical-align: middle;\n",
       "    }\n",
       "\n",
       "    .dataframe tbody tr th {\n",
       "        vertical-align: top;\n",
       "    }\n",
       "\n",
       "    .dataframe thead th {\n",
       "        text-align: right;\n",
       "    }\n",
       "</style>\n",
       "<table border=\"1\" class=\"dataframe\">\n",
       "  <thead>\n",
       "    <tr style=\"text-align: right;\">\n",
       "      <th></th>\n",
       "      <th>one</th>\n",
       "      <th>two</th>\n",
       "      <th>three</th>\n",
       "      <th>four</th>\n",
       "    </tr>\n",
       "  </thead>\n",
       "  <tbody>\n",
       "    <tr>\n",
       "      <th>Mumbai</th>\n",
       "      <td>0</td>\n",
       "      <td>1</td>\n",
       "      <td>2</td>\n",
       "      <td>3</td>\n",
       "    </tr>\n",
       "    <tr>\n",
       "      <th>Pune</th>\n",
       "      <td>4</td>\n",
       "      <td>5</td>\n",
       "      <td>6</td>\n",
       "      <td>7</td>\n",
       "    </tr>\n",
       "    <tr>\n",
       "      <th>Chennai</th>\n",
       "      <td>8</td>\n",
       "      <td>9</td>\n",
       "      <td>10</td>\n",
       "      <td>11</td>\n",
       "    </tr>\n",
       "    <tr>\n",
       "      <th>Delhi</th>\n",
       "      <td>12</td>\n",
       "      <td>13</td>\n",
       "      <td>14</td>\n",
       "      <td>15</td>\n",
       "    </tr>\n",
       "  </tbody>\n",
       "</table>\n",
       "</div>"
      ],
      "text/plain": [
       "         one  two  three  four\n",
       "Mumbai     0    1      2     3\n",
       "Pune       4    5      6     7\n",
       "Chennai    8    9     10    11\n",
       "Delhi     12   13     14    15"
      ]
     },
     "execution_count": 131,
     "metadata": {},
     "output_type": "execute_result"
    }
   ],
   "source": [
    "df3"
   ]
  },
  {
   "cell_type": "code",
   "execution_count": 132,
   "id": "a537ac9b",
   "metadata": {},
   "outputs": [
    {
     "data": {
      "text/html": [
       "<div>\n",
       "<style scoped>\n",
       "    .dataframe tbody tr th:only-of-type {\n",
       "        vertical-align: middle;\n",
       "    }\n",
       "\n",
       "    .dataframe tbody tr th {\n",
       "        vertical-align: top;\n",
       "    }\n",
       "\n",
       "    .dataframe thead th {\n",
       "        text-align: right;\n",
       "    }\n",
       "</style>\n",
       "<table border=\"1\" class=\"dataframe\">\n",
       "  <thead>\n",
       "    <tr style=\"text-align: right;\">\n",
       "      <th></th>\n",
       "      <th>one</th>\n",
       "      <th>two</th>\n",
       "      <th>three</th>\n",
       "      <th>four</th>\n",
       "    </tr>\n",
       "  </thead>\n",
       "  <tbody>\n",
       "    <tr>\n",
       "      <th>Mumbai</th>\n",
       "      <td>0</td>\n",
       "      <td>1</td>\n",
       "      <td>2</td>\n",
       "      <td>3</td>\n",
       "    </tr>\n",
       "    <tr>\n",
       "      <th>Chennai</th>\n",
       "      <td>8</td>\n",
       "      <td>9</td>\n",
       "      <td>10</td>\n",
       "      <td>11</td>\n",
       "    </tr>\n",
       "  </tbody>\n",
       "</table>\n",
       "</div>"
      ],
      "text/plain": [
       "         one  two  three  four\n",
       "Mumbai     0    1      2     3\n",
       "Chennai    8    9     10    11"
      ]
     },
     "execution_count": 132,
     "metadata": {},
     "output_type": "execute_result"
    }
   ],
   "source": [
    "df3.drop(['Pune','Delhi'])"
   ]
  },
  {
   "cell_type": "code",
   "execution_count": 133,
   "id": "e2b67fb4",
   "metadata": {},
   "outputs": [
    {
     "data": {
      "text/html": [
       "<div>\n",
       "<style scoped>\n",
       "    .dataframe tbody tr th:only-of-type {\n",
       "        vertical-align: middle;\n",
       "    }\n",
       "\n",
       "    .dataframe tbody tr th {\n",
       "        vertical-align: top;\n",
       "    }\n",
       "\n",
       "    .dataframe thead th {\n",
       "        text-align: right;\n",
       "    }\n",
       "</style>\n",
       "<table border=\"1\" class=\"dataframe\">\n",
       "  <thead>\n",
       "    <tr style=\"text-align: right;\">\n",
       "      <th></th>\n",
       "      <th>one</th>\n",
       "      <th>two</th>\n",
       "      <th>three</th>\n",
       "      <th>four</th>\n",
       "    </tr>\n",
       "  </thead>\n",
       "  <tbody>\n",
       "    <tr>\n",
       "      <th>Mumbai</th>\n",
       "      <td>0</td>\n",
       "      <td>1</td>\n",
       "      <td>2</td>\n",
       "      <td>3</td>\n",
       "    </tr>\n",
       "    <tr>\n",
       "      <th>Pune</th>\n",
       "      <td>4</td>\n",
       "      <td>5</td>\n",
       "      <td>6</td>\n",
       "      <td>7</td>\n",
       "    </tr>\n",
       "    <tr>\n",
       "      <th>Chennai</th>\n",
       "      <td>8</td>\n",
       "      <td>9</td>\n",
       "      <td>10</td>\n",
       "      <td>11</td>\n",
       "    </tr>\n",
       "    <tr>\n",
       "      <th>Delhi</th>\n",
       "      <td>12</td>\n",
       "      <td>13</td>\n",
       "      <td>14</td>\n",
       "      <td>15</td>\n",
       "    </tr>\n",
       "  </tbody>\n",
       "</table>\n",
       "</div>"
      ],
      "text/plain": [
       "         one  two  three  four\n",
       "Mumbai     0    1      2     3\n",
       "Pune       4    5      6     7\n",
       "Chennai    8    9     10    11\n",
       "Delhi     12   13     14    15"
      ]
     },
     "execution_count": 133,
     "metadata": {},
     "output_type": "execute_result"
    }
   ],
   "source": [
    "df3"
   ]
  },
  {
   "cell_type": "code",
   "execution_count": 134,
   "id": "f83fe69b",
   "metadata": {},
   "outputs": [
    {
     "data": {
      "text/html": [
       "<div>\n",
       "<style scoped>\n",
       "    .dataframe tbody tr th:only-of-type {\n",
       "        vertical-align: middle;\n",
       "    }\n",
       "\n",
       "    .dataframe tbody tr th {\n",
       "        vertical-align: top;\n",
       "    }\n",
       "\n",
       "    .dataframe thead th {\n",
       "        text-align: right;\n",
       "    }\n",
       "</style>\n",
       "<table border=\"1\" class=\"dataframe\">\n",
       "  <thead>\n",
       "    <tr style=\"text-align: right;\">\n",
       "      <th></th>\n",
       "      <th>one</th>\n",
       "      <th>two</th>\n",
       "      <th>four</th>\n",
       "    </tr>\n",
       "  </thead>\n",
       "  <tbody>\n",
       "    <tr>\n",
       "      <th>Mumbai</th>\n",
       "      <td>0</td>\n",
       "      <td>1</td>\n",
       "      <td>3</td>\n",
       "    </tr>\n",
       "    <tr>\n",
       "      <th>Pune</th>\n",
       "      <td>4</td>\n",
       "      <td>5</td>\n",
       "      <td>7</td>\n",
       "    </tr>\n",
       "    <tr>\n",
       "      <th>Chennai</th>\n",
       "      <td>8</td>\n",
       "      <td>9</td>\n",
       "      <td>11</td>\n",
       "    </tr>\n",
       "    <tr>\n",
       "      <th>Delhi</th>\n",
       "      <td>12</td>\n",
       "      <td>13</td>\n",
       "      <td>15</td>\n",
       "    </tr>\n",
       "  </tbody>\n",
       "</table>\n",
       "</div>"
      ],
      "text/plain": [
       "         one  two  four\n",
       "Mumbai     0    1     3\n",
       "Pune       4    5     7\n",
       "Chennai    8    9    11\n",
       "Delhi     12   13    15"
      ]
     },
     "execution_count": 134,
     "metadata": {},
     "output_type": "execute_result"
    }
   ],
   "source": [
    "df3.drop('three',axis=1)"
   ]
  },
  {
   "cell_type": "code",
   "execution_count": 135,
   "id": "3fce540b",
   "metadata": {},
   "outputs": [
    {
     "data": {
      "text/html": [
       "<div>\n",
       "<style scoped>\n",
       "    .dataframe tbody tr th:only-of-type {\n",
       "        vertical-align: middle;\n",
       "    }\n",
       "\n",
       "    .dataframe tbody tr th {\n",
       "        vertical-align: top;\n",
       "    }\n",
       "\n",
       "    .dataframe thead th {\n",
       "        text-align: right;\n",
       "    }\n",
       "</style>\n",
       "<table border=\"1\" class=\"dataframe\">\n",
       "  <thead>\n",
       "    <tr style=\"text-align: right;\">\n",
       "      <th></th>\n",
       "      <th>one</th>\n",
       "      <th>two</th>\n",
       "      <th>three</th>\n",
       "      <th>four</th>\n",
       "    </tr>\n",
       "  </thead>\n",
       "  <tbody>\n",
       "    <tr>\n",
       "      <th>Mumbai</th>\n",
       "      <td>0</td>\n",
       "      <td>1</td>\n",
       "      <td>2</td>\n",
       "      <td>3</td>\n",
       "    </tr>\n",
       "    <tr>\n",
       "      <th>Pune</th>\n",
       "      <td>4</td>\n",
       "      <td>5</td>\n",
       "      <td>6</td>\n",
       "      <td>7</td>\n",
       "    </tr>\n",
       "    <tr>\n",
       "      <th>Chennai</th>\n",
       "      <td>8</td>\n",
       "      <td>9</td>\n",
       "      <td>10</td>\n",
       "      <td>11</td>\n",
       "    </tr>\n",
       "    <tr>\n",
       "      <th>Delhi</th>\n",
       "      <td>12</td>\n",
       "      <td>13</td>\n",
       "      <td>14</td>\n",
       "      <td>15</td>\n",
       "    </tr>\n",
       "  </tbody>\n",
       "</table>\n",
       "</div>"
      ],
      "text/plain": [
       "         one  two  three  four\n",
       "Mumbai     0    1      2     3\n",
       "Pune       4    5      6     7\n",
       "Chennai    8    9     10    11\n",
       "Delhi     12   13     14    15"
      ]
     },
     "execution_count": 135,
     "metadata": {},
     "output_type": "execute_result"
    }
   ],
   "source": [
    "df3"
   ]
  },
  {
   "cell_type": "code",
   "execution_count": 136,
   "id": "91b9abe8",
   "metadata": {},
   "outputs": [
    {
     "data": {
      "text/html": [
       "<div>\n",
       "<style scoped>\n",
       "    .dataframe tbody tr th:only-of-type {\n",
       "        vertical-align: middle;\n",
       "    }\n",
       "\n",
       "    .dataframe tbody tr th {\n",
       "        vertical-align: top;\n",
       "    }\n",
       "\n",
       "    .dataframe thead th {\n",
       "        text-align: right;\n",
       "    }\n",
       "</style>\n",
       "<table border=\"1\" class=\"dataframe\">\n",
       "  <thead>\n",
       "    <tr style=\"text-align: right;\">\n",
       "      <th></th>\n",
       "      <th>two</th>\n",
       "      <th>three</th>\n",
       "    </tr>\n",
       "  </thead>\n",
       "  <tbody>\n",
       "    <tr>\n",
       "      <th>Mumbai</th>\n",
       "      <td>1</td>\n",
       "      <td>2</td>\n",
       "    </tr>\n",
       "    <tr>\n",
       "      <th>Pune</th>\n",
       "      <td>5</td>\n",
       "      <td>6</td>\n",
       "    </tr>\n",
       "    <tr>\n",
       "      <th>Chennai</th>\n",
       "      <td>9</td>\n",
       "      <td>10</td>\n",
       "    </tr>\n",
       "    <tr>\n",
       "      <th>Delhi</th>\n",
       "      <td>13</td>\n",
       "      <td>14</td>\n",
       "    </tr>\n",
       "  </tbody>\n",
       "</table>\n",
       "</div>"
      ],
      "text/plain": [
       "         two  three\n",
       "Mumbai     1      2\n",
       "Pune       5      6\n",
       "Chennai    9     10\n",
       "Delhi     13     14"
      ]
     },
     "execution_count": 136,
     "metadata": {},
     "output_type": "execute_result"
    }
   ],
   "source": [
    "df3.drop(['one','four'],axis=1)"
   ]
  },
  {
   "cell_type": "code",
   "execution_count": 137,
   "id": "4e1cfe8b",
   "metadata": {},
   "outputs": [
    {
     "data": {
      "text/html": [
       "<div>\n",
       "<style scoped>\n",
       "    .dataframe tbody tr th:only-of-type {\n",
       "        vertical-align: middle;\n",
       "    }\n",
       "\n",
       "    .dataframe tbody tr th {\n",
       "        vertical-align: top;\n",
       "    }\n",
       "\n",
       "    .dataframe thead th {\n",
       "        text-align: right;\n",
       "    }\n",
       "</style>\n",
       "<table border=\"1\" class=\"dataframe\">\n",
       "  <thead>\n",
       "    <tr style=\"text-align: right;\">\n",
       "      <th></th>\n",
       "      <th>one</th>\n",
       "      <th>two</th>\n",
       "      <th>three</th>\n",
       "      <th>four</th>\n",
       "    </tr>\n",
       "  </thead>\n",
       "  <tbody>\n",
       "    <tr>\n",
       "      <th>Mumbai</th>\n",
       "      <td>0</td>\n",
       "      <td>1</td>\n",
       "      <td>2</td>\n",
       "      <td>3</td>\n",
       "    </tr>\n",
       "    <tr>\n",
       "      <th>Pune</th>\n",
       "      <td>4</td>\n",
       "      <td>5</td>\n",
       "      <td>6</td>\n",
       "      <td>7</td>\n",
       "    </tr>\n",
       "    <tr>\n",
       "      <th>Chennai</th>\n",
       "      <td>8</td>\n",
       "      <td>9</td>\n",
       "      <td>10</td>\n",
       "      <td>11</td>\n",
       "    </tr>\n",
       "    <tr>\n",
       "      <th>Delhi</th>\n",
       "      <td>12</td>\n",
       "      <td>13</td>\n",
       "      <td>14</td>\n",
       "      <td>15</td>\n",
       "    </tr>\n",
       "  </tbody>\n",
       "</table>\n",
       "</div>"
      ],
      "text/plain": [
       "         one  two  three  four\n",
       "Mumbai     0    1      2     3\n",
       "Pune       4    5      6     7\n",
       "Chennai    8    9     10    11\n",
       "Delhi     12   13     14    15"
      ]
     },
     "execution_count": 137,
     "metadata": {},
     "output_type": "execute_result"
    }
   ],
   "source": [
    "df3"
   ]
  },
  {
   "cell_type": "code",
   "execution_count": 138,
   "id": "2013180e",
   "metadata": {},
   "outputs": [],
   "source": [
    "df4 = pd.DataFrame(np.arange(16).reshape(4,4),\n",
    "                  index=['Mumbai','Pune','Chennai','Delhi'],\n",
    "                  columns=['one','two','three','four'])"
   ]
  },
  {
   "cell_type": "code",
   "execution_count": 139,
   "id": "239026ea",
   "metadata": {},
   "outputs": [
    {
     "data": {
      "text/html": [
       "<div>\n",
       "<style scoped>\n",
       "    .dataframe tbody tr th:only-of-type {\n",
       "        vertical-align: middle;\n",
       "    }\n",
       "\n",
       "    .dataframe tbody tr th {\n",
       "        vertical-align: top;\n",
       "    }\n",
       "\n",
       "    .dataframe thead th {\n",
       "        text-align: right;\n",
       "    }\n",
       "</style>\n",
       "<table border=\"1\" class=\"dataframe\">\n",
       "  <thead>\n",
       "    <tr style=\"text-align: right;\">\n",
       "      <th></th>\n",
       "      <th>one</th>\n",
       "      <th>two</th>\n",
       "      <th>three</th>\n",
       "      <th>four</th>\n",
       "    </tr>\n",
       "  </thead>\n",
       "  <tbody>\n",
       "    <tr>\n",
       "      <th>Mumbai</th>\n",
       "      <td>0</td>\n",
       "      <td>1</td>\n",
       "      <td>2</td>\n",
       "      <td>3</td>\n",
       "    </tr>\n",
       "    <tr>\n",
       "      <th>Pune</th>\n",
       "      <td>4</td>\n",
       "      <td>5</td>\n",
       "      <td>6</td>\n",
       "      <td>7</td>\n",
       "    </tr>\n",
       "    <tr>\n",
       "      <th>Chennai</th>\n",
       "      <td>8</td>\n",
       "      <td>9</td>\n",
       "      <td>10</td>\n",
       "      <td>11</td>\n",
       "    </tr>\n",
       "    <tr>\n",
       "      <th>Delhi</th>\n",
       "      <td>12</td>\n",
       "      <td>13</td>\n",
       "      <td>14</td>\n",
       "      <td>15</td>\n",
       "    </tr>\n",
       "  </tbody>\n",
       "</table>\n",
       "</div>"
      ],
      "text/plain": [
       "         one  two  three  four\n",
       "Mumbai     0    1      2     3\n",
       "Pune       4    5      6     7\n",
       "Chennai    8    9     10    11\n",
       "Delhi     12   13     14    15"
      ]
     },
     "execution_count": 139,
     "metadata": {},
     "output_type": "execute_result"
    }
   ],
   "source": [
    "df4"
   ]
  },
  {
   "cell_type": "code",
   "execution_count": 140,
   "id": "35ca0c6b",
   "metadata": {},
   "outputs": [],
   "source": [
    "df4.drop(['one','four'],axis=1,inplace=True)"
   ]
  },
  {
   "cell_type": "code",
   "execution_count": 141,
   "id": "08f3c7b1",
   "metadata": {},
   "outputs": [
    {
     "data": {
      "text/html": [
       "<div>\n",
       "<style scoped>\n",
       "    .dataframe tbody tr th:only-of-type {\n",
       "        vertical-align: middle;\n",
       "    }\n",
       "\n",
       "    .dataframe tbody tr th {\n",
       "        vertical-align: top;\n",
       "    }\n",
       "\n",
       "    .dataframe thead th {\n",
       "        text-align: right;\n",
       "    }\n",
       "</style>\n",
       "<table border=\"1\" class=\"dataframe\">\n",
       "  <thead>\n",
       "    <tr style=\"text-align: right;\">\n",
       "      <th></th>\n",
       "      <th>two</th>\n",
       "      <th>three</th>\n",
       "    </tr>\n",
       "  </thead>\n",
       "  <tbody>\n",
       "    <tr>\n",
       "      <th>Mumbai</th>\n",
       "      <td>1</td>\n",
       "      <td>2</td>\n",
       "    </tr>\n",
       "    <tr>\n",
       "      <th>Pune</th>\n",
       "      <td>5</td>\n",
       "      <td>6</td>\n",
       "    </tr>\n",
       "    <tr>\n",
       "      <th>Chennai</th>\n",
       "      <td>9</td>\n",
       "      <td>10</td>\n",
       "    </tr>\n",
       "    <tr>\n",
       "      <th>Delhi</th>\n",
       "      <td>13</td>\n",
       "      <td>14</td>\n",
       "    </tr>\n",
       "  </tbody>\n",
       "</table>\n",
       "</div>"
      ],
      "text/plain": [
       "         two  three\n",
       "Mumbai     1      2\n",
       "Pune       5      6\n",
       "Chennai    9     10\n",
       "Delhi     13     14"
      ]
     },
     "execution_count": 141,
     "metadata": {},
     "output_type": "execute_result"
    }
   ],
   "source": [
    "df4"
   ]
  },
  {
   "cell_type": "code",
   "execution_count": 142,
   "id": "a473a800",
   "metadata": {},
   "outputs": [],
   "source": [
    "df5 = pd.DataFrame(np.arange(9).reshape(3,3),columns=['b','c','d'],index=['Mumbai','Pune','Nagpur'])"
   ]
  },
  {
   "cell_type": "code",
   "execution_count": 143,
   "id": "ba7708eb",
   "metadata": {},
   "outputs": [
    {
     "data": {
      "text/html": [
       "<div>\n",
       "<style scoped>\n",
       "    .dataframe tbody tr th:only-of-type {\n",
       "        vertical-align: middle;\n",
       "    }\n",
       "\n",
       "    .dataframe tbody tr th {\n",
       "        vertical-align: top;\n",
       "    }\n",
       "\n",
       "    .dataframe thead th {\n",
       "        text-align: right;\n",
       "    }\n",
       "</style>\n",
       "<table border=\"1\" class=\"dataframe\">\n",
       "  <thead>\n",
       "    <tr style=\"text-align: right;\">\n",
       "      <th></th>\n",
       "      <th>b</th>\n",
       "      <th>c</th>\n",
       "      <th>d</th>\n",
       "    </tr>\n",
       "  </thead>\n",
       "  <tbody>\n",
       "    <tr>\n",
       "      <th>Mumbai</th>\n",
       "      <td>0</td>\n",
       "      <td>1</td>\n",
       "      <td>2</td>\n",
       "    </tr>\n",
       "    <tr>\n",
       "      <th>Pune</th>\n",
       "      <td>3</td>\n",
       "      <td>4</td>\n",
       "      <td>5</td>\n",
       "    </tr>\n",
       "    <tr>\n",
       "      <th>Nagpur</th>\n",
       "      <td>6</td>\n",
       "      <td>7</td>\n",
       "      <td>8</td>\n",
       "    </tr>\n",
       "  </tbody>\n",
       "</table>\n",
       "</div>"
      ],
      "text/plain": [
       "        b  c  d\n",
       "Mumbai  0  1  2\n",
       "Pune    3  4  5\n",
       "Nagpur  6  7  8"
      ]
     },
     "execution_count": 143,
     "metadata": {},
     "output_type": "execute_result"
    }
   ],
   "source": [
    "df5"
   ]
  },
  {
   "cell_type": "code",
   "execution_count": 144,
   "id": "90eaa0b5",
   "metadata": {},
   "outputs": [],
   "source": [
    "df6 = pd.DataFrame(np.arange(12).reshape(4,3),columns=['b','d','e'],index=['Delhi','Mumbai','Pune','Chennai'])"
   ]
  },
  {
   "cell_type": "code",
   "execution_count": 145,
   "id": "8e281a3e",
   "metadata": {},
   "outputs": [
    {
     "data": {
      "text/html": [
       "<div>\n",
       "<style scoped>\n",
       "    .dataframe tbody tr th:only-of-type {\n",
       "        vertical-align: middle;\n",
       "    }\n",
       "\n",
       "    .dataframe tbody tr th {\n",
       "        vertical-align: top;\n",
       "    }\n",
       "\n",
       "    .dataframe thead th {\n",
       "        text-align: right;\n",
       "    }\n",
       "</style>\n",
       "<table border=\"1\" class=\"dataframe\">\n",
       "  <thead>\n",
       "    <tr style=\"text-align: right;\">\n",
       "      <th></th>\n",
       "      <th>b</th>\n",
       "      <th>d</th>\n",
       "      <th>e</th>\n",
       "    </tr>\n",
       "  </thead>\n",
       "  <tbody>\n",
       "    <tr>\n",
       "      <th>Delhi</th>\n",
       "      <td>0</td>\n",
       "      <td>1</td>\n",
       "      <td>2</td>\n",
       "    </tr>\n",
       "    <tr>\n",
       "      <th>Mumbai</th>\n",
       "      <td>3</td>\n",
       "      <td>4</td>\n",
       "      <td>5</td>\n",
       "    </tr>\n",
       "    <tr>\n",
       "      <th>Pune</th>\n",
       "      <td>6</td>\n",
       "      <td>7</td>\n",
       "      <td>8</td>\n",
       "    </tr>\n",
       "    <tr>\n",
       "      <th>Chennai</th>\n",
       "      <td>9</td>\n",
       "      <td>10</td>\n",
       "      <td>11</td>\n",
       "    </tr>\n",
       "  </tbody>\n",
       "</table>\n",
       "</div>"
      ],
      "text/plain": [
       "         b   d   e\n",
       "Delhi    0   1   2\n",
       "Mumbai   3   4   5\n",
       "Pune     6   7   8\n",
       "Chennai  9  10  11"
      ]
     },
     "execution_count": 145,
     "metadata": {},
     "output_type": "execute_result"
    }
   ],
   "source": [
    "df6"
   ]
  },
  {
   "cell_type": "code",
   "execution_count": 146,
   "id": "41026427",
   "metadata": {},
   "outputs": [
    {
     "data": {
      "text/html": [
       "<div>\n",
       "<style scoped>\n",
       "    .dataframe tbody tr th:only-of-type {\n",
       "        vertical-align: middle;\n",
       "    }\n",
       "\n",
       "    .dataframe tbody tr th {\n",
       "        vertical-align: top;\n",
       "    }\n",
       "\n",
       "    .dataframe thead th {\n",
       "        text-align: right;\n",
       "    }\n",
       "</style>\n",
       "<table border=\"1\" class=\"dataframe\">\n",
       "  <thead>\n",
       "    <tr style=\"text-align: right;\">\n",
       "      <th></th>\n",
       "      <th>b</th>\n",
       "      <th>c</th>\n",
       "      <th>d</th>\n",
       "      <th>e</th>\n",
       "    </tr>\n",
       "  </thead>\n",
       "  <tbody>\n",
       "    <tr>\n",
       "      <th>Chennai</th>\n",
       "      <td>NaN</td>\n",
       "      <td>NaN</td>\n",
       "      <td>NaN</td>\n",
       "      <td>NaN</td>\n",
       "    </tr>\n",
       "    <tr>\n",
       "      <th>Delhi</th>\n",
       "      <td>NaN</td>\n",
       "      <td>NaN</td>\n",
       "      <td>NaN</td>\n",
       "      <td>NaN</td>\n",
       "    </tr>\n",
       "    <tr>\n",
       "      <th>Mumbai</th>\n",
       "      <td>3.0</td>\n",
       "      <td>NaN</td>\n",
       "      <td>6.0</td>\n",
       "      <td>NaN</td>\n",
       "    </tr>\n",
       "    <tr>\n",
       "      <th>Nagpur</th>\n",
       "      <td>NaN</td>\n",
       "      <td>NaN</td>\n",
       "      <td>NaN</td>\n",
       "      <td>NaN</td>\n",
       "    </tr>\n",
       "    <tr>\n",
       "      <th>Pune</th>\n",
       "      <td>9.0</td>\n",
       "      <td>NaN</td>\n",
       "      <td>12.0</td>\n",
       "      <td>NaN</td>\n",
       "    </tr>\n",
       "  </tbody>\n",
       "</table>\n",
       "</div>"
      ],
      "text/plain": [
       "           b   c     d   e\n",
       "Chennai  NaN NaN   NaN NaN\n",
       "Delhi    NaN NaN   NaN NaN\n",
       "Mumbai   3.0 NaN   6.0 NaN\n",
       "Nagpur   NaN NaN   NaN NaN\n",
       "Pune     9.0 NaN  12.0 NaN"
      ]
     },
     "execution_count": 146,
     "metadata": {},
     "output_type": "execute_result"
    }
   ],
   "source": [
    "df5+df6"
   ]
  },
  {
   "cell_type": "code",
   "execution_count": 147,
   "id": "e89bd9e7",
   "metadata": {},
   "outputs": [],
   "source": [
    "df7 = df5.add(df6,fill_value=0)"
   ]
  },
  {
   "cell_type": "code",
   "execution_count": 148,
   "id": "b1ab830e",
   "metadata": {},
   "outputs": [
    {
     "data": {
      "text/html": [
       "<div>\n",
       "<style scoped>\n",
       "    .dataframe tbody tr th:only-of-type {\n",
       "        vertical-align: middle;\n",
       "    }\n",
       "\n",
       "    .dataframe tbody tr th {\n",
       "        vertical-align: top;\n",
       "    }\n",
       "\n",
       "    .dataframe thead th {\n",
       "        text-align: right;\n",
       "    }\n",
       "</style>\n",
       "<table border=\"1\" class=\"dataframe\">\n",
       "  <thead>\n",
       "    <tr style=\"text-align: right;\">\n",
       "      <th></th>\n",
       "      <th>b</th>\n",
       "      <th>c</th>\n",
       "      <th>d</th>\n",
       "      <th>e</th>\n",
       "    </tr>\n",
       "  </thead>\n",
       "  <tbody>\n",
       "    <tr>\n",
       "      <th>Chennai</th>\n",
       "      <td>9.0</td>\n",
       "      <td>NaN</td>\n",
       "      <td>10.0</td>\n",
       "      <td>11.0</td>\n",
       "    </tr>\n",
       "    <tr>\n",
       "      <th>Delhi</th>\n",
       "      <td>0.0</td>\n",
       "      <td>NaN</td>\n",
       "      <td>1.0</td>\n",
       "      <td>2.0</td>\n",
       "    </tr>\n",
       "    <tr>\n",
       "      <th>Mumbai</th>\n",
       "      <td>3.0</td>\n",
       "      <td>1.0</td>\n",
       "      <td>6.0</td>\n",
       "      <td>5.0</td>\n",
       "    </tr>\n",
       "    <tr>\n",
       "      <th>Nagpur</th>\n",
       "      <td>6.0</td>\n",
       "      <td>7.0</td>\n",
       "      <td>8.0</td>\n",
       "      <td>NaN</td>\n",
       "    </tr>\n",
       "    <tr>\n",
       "      <th>Pune</th>\n",
       "      <td>9.0</td>\n",
       "      <td>4.0</td>\n",
       "      <td>12.0</td>\n",
       "      <td>8.0</td>\n",
       "    </tr>\n",
       "  </tbody>\n",
       "</table>\n",
       "</div>"
      ],
      "text/plain": [
       "           b    c     d     e\n",
       "Chennai  9.0  NaN  10.0  11.0\n",
       "Delhi    0.0  NaN   1.0   2.0\n",
       "Mumbai   3.0  1.0   6.0   5.0\n",
       "Nagpur   6.0  7.0   8.0   NaN\n",
       "Pune     9.0  4.0  12.0   8.0"
      ]
     },
     "execution_count": 148,
     "metadata": {},
     "output_type": "execute_result"
    }
   ],
   "source": [
    "df7"
   ]
  },
  {
   "cell_type": "code",
   "execution_count": 149,
   "id": "b2ff8eff",
   "metadata": {},
   "outputs": [
    {
     "data": {
      "text/html": [
       "<div>\n",
       "<style scoped>\n",
       "    .dataframe tbody tr th:only-of-type {\n",
       "        vertical-align: middle;\n",
       "    }\n",
       "\n",
       "    .dataframe tbody tr th {\n",
       "        vertical-align: top;\n",
       "    }\n",
       "\n",
       "    .dataframe thead th {\n",
       "        text-align: right;\n",
       "    }\n",
       "</style>\n",
       "<table border=\"1\" class=\"dataframe\">\n",
       "  <thead>\n",
       "    <tr style=\"text-align: right;\">\n",
       "      <th></th>\n",
       "      <th>b</th>\n",
       "      <th>c</th>\n",
       "      <th>d</th>\n",
       "      <th>e</th>\n",
       "    </tr>\n",
       "  </thead>\n",
       "  <tbody>\n",
       "    <tr>\n",
       "      <th>Chennai</th>\n",
       "      <td>9.0</td>\n",
       "      <td>0.0</td>\n",
       "      <td>10.0</td>\n",
       "      <td>11.0</td>\n",
       "    </tr>\n",
       "    <tr>\n",
       "      <th>Delhi</th>\n",
       "      <td>0.0</td>\n",
       "      <td>0.0</td>\n",
       "      <td>1.0</td>\n",
       "      <td>2.0</td>\n",
       "    </tr>\n",
       "    <tr>\n",
       "      <th>Mumbai</th>\n",
       "      <td>3.0</td>\n",
       "      <td>1.0</td>\n",
       "      <td>6.0</td>\n",
       "      <td>5.0</td>\n",
       "    </tr>\n",
       "    <tr>\n",
       "      <th>Nagpur</th>\n",
       "      <td>6.0</td>\n",
       "      <td>7.0</td>\n",
       "      <td>8.0</td>\n",
       "      <td>0.0</td>\n",
       "    </tr>\n",
       "    <tr>\n",
       "      <th>Pune</th>\n",
       "      <td>9.0</td>\n",
       "      <td>4.0</td>\n",
       "      <td>12.0</td>\n",
       "      <td>8.0</td>\n",
       "    </tr>\n",
       "  </tbody>\n",
       "</table>\n",
       "</div>"
      ],
      "text/plain": [
       "           b    c     d     e\n",
       "Chennai  9.0  0.0  10.0  11.0\n",
       "Delhi    0.0  0.0   1.0   2.0\n",
       "Mumbai   3.0  1.0   6.0   5.0\n",
       "Nagpur   6.0  7.0   8.0   0.0\n",
       "Pune     9.0  4.0  12.0   8.0"
      ]
     },
     "execution_count": 149,
     "metadata": {},
     "output_type": "execute_result"
    }
   ],
   "source": [
    "df7.fillna(0)"
   ]
  },
  {
   "cell_type": "markdown",
   "id": "1a70e4d2",
   "metadata": {},
   "source": [
    "## functions & mapping"
   ]
  },
  {
   "cell_type": "code",
   "execution_count": 150,
   "id": "33a1fee8",
   "metadata": {},
   "outputs": [],
   "source": [
    "df8 = pd.DataFrame(np.random.randn(4,3),columns=['b','d','e'],index=['Mum','Chn','Del','Ngp'])"
   ]
  },
  {
   "cell_type": "code",
   "execution_count": 151,
   "id": "a13ee757",
   "metadata": {},
   "outputs": [
    {
     "data": {
      "text/html": [
       "<div>\n",
       "<style scoped>\n",
       "    .dataframe tbody tr th:only-of-type {\n",
       "        vertical-align: middle;\n",
       "    }\n",
       "\n",
       "    .dataframe tbody tr th {\n",
       "        vertical-align: top;\n",
       "    }\n",
       "\n",
       "    .dataframe thead th {\n",
       "        text-align: right;\n",
       "    }\n",
       "</style>\n",
       "<table border=\"1\" class=\"dataframe\">\n",
       "  <thead>\n",
       "    <tr style=\"text-align: right;\">\n",
       "      <th></th>\n",
       "      <th>b</th>\n",
       "      <th>d</th>\n",
       "      <th>e</th>\n",
       "    </tr>\n",
       "  </thead>\n",
       "  <tbody>\n",
       "    <tr>\n",
       "      <th>Mum</th>\n",
       "      <td>0.099658</td>\n",
       "      <td>0.512737</td>\n",
       "      <td>0.247418</td>\n",
       "    </tr>\n",
       "    <tr>\n",
       "      <th>Chn</th>\n",
       "      <td>-0.282889</td>\n",
       "      <td>-0.289863</td>\n",
       "      <td>0.077795</td>\n",
       "    </tr>\n",
       "    <tr>\n",
       "      <th>Del</th>\n",
       "      <td>-0.536943</td>\n",
       "      <td>-1.186904</td>\n",
       "      <td>1.843434</td>\n",
       "    </tr>\n",
       "    <tr>\n",
       "      <th>Ngp</th>\n",
       "      <td>0.000796</td>\n",
       "      <td>-0.358735</td>\n",
       "      <td>0.582020</td>\n",
       "    </tr>\n",
       "  </tbody>\n",
       "</table>\n",
       "</div>"
      ],
      "text/plain": [
       "            b         d         e\n",
       "Mum  0.099658  0.512737  0.247418\n",
       "Chn -0.282889 -0.289863  0.077795\n",
       "Del -0.536943 -1.186904  1.843434\n",
       "Ngp  0.000796 -0.358735  0.582020"
      ]
     },
     "execution_count": 151,
     "metadata": {},
     "output_type": "execute_result"
    }
   ],
   "source": [
    "df8"
   ]
  },
  {
   "cell_type": "code",
   "execution_count": 152,
   "id": "b2436508",
   "metadata": {},
   "outputs": [
    {
     "data": {
      "text/plain": [
       "-0.5369425930406192"
      ]
     },
     "execution_count": 152,
     "metadata": {},
     "output_type": "execute_result"
    }
   ],
   "source": [
    "df8['b'].min()"
   ]
  },
  {
   "cell_type": "code",
   "execution_count": 153,
   "id": "facecd48",
   "metadata": {},
   "outputs": [
    {
     "data": {
      "text/plain": [
       "0.09965752819864689"
      ]
     },
     "execution_count": 153,
     "metadata": {},
     "output_type": "execute_result"
    }
   ],
   "source": [
    "df8['b'].max()\n"
   ]
  },
  {
   "cell_type": "code",
   "execution_count": 154,
   "id": "10814e7a",
   "metadata": {},
   "outputs": [
    {
     "data": {
      "text/plain": [
       "0.6366001212392661"
      ]
     },
     "execution_count": 154,
     "metadata": {},
     "output_type": "execute_result"
    }
   ],
   "source": [
    "df8['b'].max() - df8['b'].min()"
   ]
  },
  {
   "cell_type": "code",
   "execution_count": 155,
   "id": "8e48eb97",
   "metadata": {},
   "outputs": [],
   "source": [
    "difference = lambda x : x.max() - x.min()"
   ]
  },
  {
   "cell_type": "code",
   "execution_count": 156,
   "id": "66859435",
   "metadata": {},
   "outputs": [
    {
     "data": {
      "text/plain": [
       "b    0.636600\n",
       "d    1.699642\n",
       "e    1.765639\n",
       "dtype: float64"
      ]
     },
     "execution_count": 156,
     "metadata": {},
     "output_type": "execute_result"
    }
   ],
   "source": [
    "df8.apply(difference,axis=0)   #0 --> col wise"
   ]
  },
  {
   "cell_type": "code",
   "execution_count": 157,
   "id": "aa760f8e",
   "metadata": {},
   "outputs": [
    {
     "data": {
      "text/plain": [
       "Mum    0.413080\n",
       "Chn    0.367659\n",
       "Del    3.030339\n",
       "Ngp    0.940755\n",
       "dtype: float64"
      ]
     },
     "execution_count": 157,
     "metadata": {},
     "output_type": "execute_result"
    }
   ],
   "source": [
    "df8.apply(difference,axis=1)   #1 --> row wise"
   ]
  },
  {
   "cell_type": "code",
   "execution_count": 158,
   "id": "a8147d10",
   "metadata": {},
   "outputs": [
    {
     "data": {
      "text/plain": [
       "0.6366001212392661"
      ]
     },
     "execution_count": 158,
     "metadata": {},
     "output_type": "execute_result"
    }
   ],
   "source": [
    "difference(df8['b'])"
   ]
  },
  {
   "cell_type": "code",
   "execution_count": 159,
   "id": "fc56b16e",
   "metadata": {},
   "outputs": [],
   "source": [
    "df8['differnece'] = df8.apply(difference,axis=1)"
   ]
  },
  {
   "cell_type": "code",
   "execution_count": 160,
   "id": "6b70b34f",
   "metadata": {},
   "outputs": [
    {
     "data": {
      "text/html": [
       "<div>\n",
       "<style scoped>\n",
       "    .dataframe tbody tr th:only-of-type {\n",
       "        vertical-align: middle;\n",
       "    }\n",
       "\n",
       "    .dataframe tbody tr th {\n",
       "        vertical-align: top;\n",
       "    }\n",
       "\n",
       "    .dataframe thead th {\n",
       "        text-align: right;\n",
       "    }\n",
       "</style>\n",
       "<table border=\"1\" class=\"dataframe\">\n",
       "  <thead>\n",
       "    <tr style=\"text-align: right;\">\n",
       "      <th></th>\n",
       "      <th>b</th>\n",
       "      <th>d</th>\n",
       "      <th>e</th>\n",
       "      <th>differnece</th>\n",
       "    </tr>\n",
       "  </thead>\n",
       "  <tbody>\n",
       "    <tr>\n",
       "      <th>Mum</th>\n",
       "      <td>0.099658</td>\n",
       "      <td>0.512737</td>\n",
       "      <td>0.247418</td>\n",
       "      <td>0.413080</td>\n",
       "    </tr>\n",
       "    <tr>\n",
       "      <th>Chn</th>\n",
       "      <td>-0.282889</td>\n",
       "      <td>-0.289863</td>\n",
       "      <td>0.077795</td>\n",
       "      <td>0.367659</td>\n",
       "    </tr>\n",
       "    <tr>\n",
       "      <th>Del</th>\n",
       "      <td>-0.536943</td>\n",
       "      <td>-1.186904</td>\n",
       "      <td>1.843434</td>\n",
       "      <td>3.030339</td>\n",
       "    </tr>\n",
       "    <tr>\n",
       "      <th>Ngp</th>\n",
       "      <td>0.000796</td>\n",
       "      <td>-0.358735</td>\n",
       "      <td>0.582020</td>\n",
       "      <td>0.940755</td>\n",
       "    </tr>\n",
       "  </tbody>\n",
       "</table>\n",
       "</div>"
      ],
      "text/plain": [
       "            b         d         e  differnece\n",
       "Mum  0.099658  0.512737  0.247418    0.413080\n",
       "Chn -0.282889 -0.289863  0.077795    0.367659\n",
       "Del -0.536943 -1.186904  1.843434    3.030339\n",
       "Ngp  0.000796 -0.358735  0.582020    0.940755"
      ]
     },
     "execution_count": 160,
     "metadata": {},
     "output_type": "execute_result"
    }
   ],
   "source": [
    "df8"
   ]
  },
  {
   "cell_type": "code",
   "execution_count": 161,
   "id": "3ce9ea99",
   "metadata": {},
   "outputs": [],
   "source": [
    "round_data = lambda x : \"{:.2f}\".format(x)"
   ]
  },
  {
   "cell_type": "code",
   "execution_count": 162,
   "id": "d1ab7630",
   "metadata": {},
   "outputs": [
    {
     "data": {
      "text/plain": [
       "Mum    0.41\n",
       "Chn    0.37\n",
       "Del    3.03\n",
       "Ngp    0.94\n",
       "Name: differnece, dtype: object"
      ]
     },
     "execution_count": 162,
     "metadata": {},
     "output_type": "execute_result"
    }
   ],
   "source": [
    "df8['differnece'].apply(round_data)"
   ]
  },
  {
   "cell_type": "code",
   "execution_count": null,
   "id": "d00b612e",
   "metadata": {},
   "outputs": [],
   "source": []
  },
  {
   "cell_type": "code",
   "execution_count": 163,
   "id": "49705b3e",
   "metadata": {},
   "outputs": [],
   "source": [
    "name = pd.Series([\n",
    "    'Benjamin Duran',\n",
    "    'Benjamin Duran',\n",
    "    'Benjamin Duran',\n",
    "    'Benjamin Duran',\n",
    "    'Benjamin Duran',\n",
    "    'Benjamin Duran',\n",
    "    'Safila Hatfield',\n",
    "    'Safila Hatfield',\n",
    "    'Safila Hatfield',\n",
    "    'Safila Hatfield',\n",
    "    'Safila Hatfield',\n",
    "    'Safila Hatfield',\n",
    "    'Toni Doyle',\n",
    "    'Toni Doyle',\n",
    "    'Toni Doyle',\n",
    "    'Toni Doyle',\n",
    "    'Toni Doyle',\n",
    "    'Toni Doyle'\n",
    "])\n",
    "\n",
    "\n",
    "\n",
    "class_ = pd.Series([\n",
    "    'A',\n",
    "    'A',\n",
    "    'A',\n",
    "    'A',\n",
    "    'A',\n",
    "    'A',\n",
    "    'B',\n",
    "    'B',\n",
    "    'B',\n",
    "    'B',\n",
    "    'B',\n",
    "    'B',\n",
    "    'C',\n",
    "    'C',\n",
    "    'C',\n",
    "    'C',\n",
    "    'C',\n",
    "    'C'\n",
    "])\n",
    "\n",
    "\n",
    "Lectures = pd.Series([\n",
    "    'Maths',\n",
    "    'Chemistry',\n",
    "    'Physics',\n",
    "    'History',\n",
    "    'Geography',\n",
    "    'Science',\n",
    "    'Maths',\n",
    "    'Chemistry',\n",
    "    'Physics',\n",
    "    'History',\n",
    "    'Geography',\n",
    "    'Science',\n",
    "    'Maths',\n",
    "    'Chemistry',\n",
    "    'Physics',\n",
    "    'History',\n",
    "    'Geography',\n",
    "    'Science'\n",
    "])\n",
    "\n",
    "Grades = pd.Series([\n",
    "    90,\n",
    "    54,\n",
    "    77,\n",
    "    22,\n",
    "    25,\n",
    "    70,\n",
    "    90,\n",
    "    90,\n",
    "    90,\n",
    "    45,\n",
    "    90,\n",
    "    90,\n",
    "    70,\n",
    "    44,\n",
    "    56,\n",
    "    77,\n",
    "    35,\n",
    "    99\n",
    "])\n",
    "\n",
    "\n",
    "credits = pd.Series([\n",
    "    6,6,6,5,5,4,6,6,6,5,5,4,6,6,6,5,5,4\n",
    "])\n",
    "\n",
    "\n",
    "retake = pd.Series([\n",
    "    'No',\n",
    "    'No',\n",
    "    'No',\n",
    "    'Yes',\n",
    "    'Yes',\n",
    "    'No',\n",
    "    'No',\n",
    "    'No',\n",
    "    'No',\n",
    "    'No',\n",
    "    'No',\n",
    "    'No',\n",
    "    'No',\n",
    "    'Yes',\n",
    "    'No',\n",
    "    'No',\n",
    "    'Yes',\n",
    "    'No'\n",
    "])"
   ]
  },
  {
   "cell_type": "code",
   "execution_count": 164,
   "id": "b3dfc04d",
   "metadata": {},
   "outputs": [],
   "source": [
    "data = pd.DataFrame({\n",
    "    'name':name,\n",
    "    'class':class_,\n",
    "    'lectures':Lectures,\n",
    "    'grades':Grades,\n",
    "    'credits':credits,\n",
    "    'retake':retake\n",
    "})"
   ]
  },
  {
   "cell_type": "code",
   "execution_count": 165,
   "id": "60119f0a",
   "metadata": {},
   "outputs": [
    {
     "data": {
      "text/html": [
       "<div>\n",
       "<style scoped>\n",
       "    .dataframe tbody tr th:only-of-type {\n",
       "        vertical-align: middle;\n",
       "    }\n",
       "\n",
       "    .dataframe tbody tr th {\n",
       "        vertical-align: top;\n",
       "    }\n",
       "\n",
       "    .dataframe thead th {\n",
       "        text-align: right;\n",
       "    }\n",
       "</style>\n",
       "<table border=\"1\" class=\"dataframe\">\n",
       "  <thead>\n",
       "    <tr style=\"text-align: right;\">\n",
       "      <th></th>\n",
       "      <th>name</th>\n",
       "      <th>class</th>\n",
       "      <th>lectures</th>\n",
       "      <th>grades</th>\n",
       "      <th>credits</th>\n",
       "      <th>retake</th>\n",
       "    </tr>\n",
       "  </thead>\n",
       "  <tbody>\n",
       "    <tr>\n",
       "      <th>0</th>\n",
       "      <td>Benjamin Duran</td>\n",
       "      <td>A</td>\n",
       "      <td>Maths</td>\n",
       "      <td>90</td>\n",
       "      <td>6</td>\n",
       "      <td>No</td>\n",
       "    </tr>\n",
       "    <tr>\n",
       "      <th>1</th>\n",
       "      <td>Benjamin Duran</td>\n",
       "      <td>A</td>\n",
       "      <td>Chemistry</td>\n",
       "      <td>54</td>\n",
       "      <td>6</td>\n",
       "      <td>No</td>\n",
       "    </tr>\n",
       "    <tr>\n",
       "      <th>2</th>\n",
       "      <td>Benjamin Duran</td>\n",
       "      <td>A</td>\n",
       "      <td>Physics</td>\n",
       "      <td>77</td>\n",
       "      <td>6</td>\n",
       "      <td>No</td>\n",
       "    </tr>\n",
       "    <tr>\n",
       "      <th>3</th>\n",
       "      <td>Benjamin Duran</td>\n",
       "      <td>A</td>\n",
       "      <td>History</td>\n",
       "      <td>22</td>\n",
       "      <td>5</td>\n",
       "      <td>Yes</td>\n",
       "    </tr>\n",
       "    <tr>\n",
       "      <th>4</th>\n",
       "      <td>Benjamin Duran</td>\n",
       "      <td>A</td>\n",
       "      <td>Geography</td>\n",
       "      <td>25</td>\n",
       "      <td>5</td>\n",
       "      <td>Yes</td>\n",
       "    </tr>\n",
       "    <tr>\n",
       "      <th>5</th>\n",
       "      <td>Benjamin Duran</td>\n",
       "      <td>A</td>\n",
       "      <td>Science</td>\n",
       "      <td>70</td>\n",
       "      <td>4</td>\n",
       "      <td>No</td>\n",
       "    </tr>\n",
       "    <tr>\n",
       "      <th>6</th>\n",
       "      <td>Safila Hatfield</td>\n",
       "      <td>B</td>\n",
       "      <td>Maths</td>\n",
       "      <td>90</td>\n",
       "      <td>6</td>\n",
       "      <td>No</td>\n",
       "    </tr>\n",
       "    <tr>\n",
       "      <th>7</th>\n",
       "      <td>Safila Hatfield</td>\n",
       "      <td>B</td>\n",
       "      <td>Chemistry</td>\n",
       "      <td>90</td>\n",
       "      <td>6</td>\n",
       "      <td>No</td>\n",
       "    </tr>\n",
       "    <tr>\n",
       "      <th>8</th>\n",
       "      <td>Safila Hatfield</td>\n",
       "      <td>B</td>\n",
       "      <td>Physics</td>\n",
       "      <td>90</td>\n",
       "      <td>6</td>\n",
       "      <td>No</td>\n",
       "    </tr>\n",
       "    <tr>\n",
       "      <th>9</th>\n",
       "      <td>Safila Hatfield</td>\n",
       "      <td>B</td>\n",
       "      <td>History</td>\n",
       "      <td>45</td>\n",
       "      <td>5</td>\n",
       "      <td>No</td>\n",
       "    </tr>\n",
       "    <tr>\n",
       "      <th>10</th>\n",
       "      <td>Safila Hatfield</td>\n",
       "      <td>B</td>\n",
       "      <td>Geography</td>\n",
       "      <td>90</td>\n",
       "      <td>5</td>\n",
       "      <td>No</td>\n",
       "    </tr>\n",
       "    <tr>\n",
       "      <th>11</th>\n",
       "      <td>Safila Hatfield</td>\n",
       "      <td>B</td>\n",
       "      <td>Science</td>\n",
       "      <td>90</td>\n",
       "      <td>4</td>\n",
       "      <td>No</td>\n",
       "    </tr>\n",
       "    <tr>\n",
       "      <th>12</th>\n",
       "      <td>Toni Doyle</td>\n",
       "      <td>C</td>\n",
       "      <td>Maths</td>\n",
       "      <td>70</td>\n",
       "      <td>6</td>\n",
       "      <td>No</td>\n",
       "    </tr>\n",
       "    <tr>\n",
       "      <th>13</th>\n",
       "      <td>Toni Doyle</td>\n",
       "      <td>C</td>\n",
       "      <td>Chemistry</td>\n",
       "      <td>44</td>\n",
       "      <td>6</td>\n",
       "      <td>Yes</td>\n",
       "    </tr>\n",
       "    <tr>\n",
       "      <th>14</th>\n",
       "      <td>Toni Doyle</td>\n",
       "      <td>C</td>\n",
       "      <td>Physics</td>\n",
       "      <td>56</td>\n",
       "      <td>6</td>\n",
       "      <td>No</td>\n",
       "    </tr>\n",
       "    <tr>\n",
       "      <th>15</th>\n",
       "      <td>Toni Doyle</td>\n",
       "      <td>C</td>\n",
       "      <td>History</td>\n",
       "      <td>77</td>\n",
       "      <td>5</td>\n",
       "      <td>No</td>\n",
       "    </tr>\n",
       "    <tr>\n",
       "      <th>16</th>\n",
       "      <td>Toni Doyle</td>\n",
       "      <td>C</td>\n",
       "      <td>Geography</td>\n",
       "      <td>35</td>\n",
       "      <td>5</td>\n",
       "      <td>Yes</td>\n",
       "    </tr>\n",
       "    <tr>\n",
       "      <th>17</th>\n",
       "      <td>Toni Doyle</td>\n",
       "      <td>C</td>\n",
       "      <td>Science</td>\n",
       "      <td>99</td>\n",
       "      <td>4</td>\n",
       "      <td>No</td>\n",
       "    </tr>\n",
       "  </tbody>\n",
       "</table>\n",
       "</div>"
      ],
      "text/plain": [
       "               name class   lectures  grades  credits retake\n",
       "0    Benjamin Duran     A      Maths      90        6     No\n",
       "1    Benjamin Duran     A  Chemistry      54        6     No\n",
       "2    Benjamin Duran     A    Physics      77        6     No\n",
       "3    Benjamin Duran     A    History      22        5    Yes\n",
       "4    Benjamin Duran     A  Geography      25        5    Yes\n",
       "5    Benjamin Duran     A    Science      70        4     No\n",
       "6   Safila Hatfield     B      Maths      90        6     No\n",
       "7   Safila Hatfield     B  Chemistry      90        6     No\n",
       "8   Safila Hatfield     B    Physics      90        6     No\n",
       "9   Safila Hatfield     B    History      45        5     No\n",
       "10  Safila Hatfield     B  Geography      90        5     No\n",
       "11  Safila Hatfield     B    Science      90        4     No\n",
       "12       Toni Doyle     C      Maths      70        6     No\n",
       "13       Toni Doyle     C  Chemistry      44        6    Yes\n",
       "14       Toni Doyle     C    Physics      56        6     No\n",
       "15       Toni Doyle     C    History      77        5     No\n",
       "16       Toni Doyle     C  Geography      35        5    Yes\n",
       "17       Toni Doyle     C    Science      99        4     No"
      ]
     },
     "execution_count": 165,
     "metadata": {},
     "output_type": "execute_result"
    }
   ],
   "source": [
    "data"
   ]
  },
  {
   "cell_type": "code",
   "execution_count": 166,
   "id": "1709a2a5",
   "metadata": {},
   "outputs": [],
   "source": [
    "def classAllocation(marks):\n",
    "    if marks >=75 and marks <=100:\n",
    "        return \"Distinction\"\n",
    "    \n",
    "    elif marks >=60 and marks < 75:\n",
    "        return \"First Class\"\n",
    "    \n",
    "    elif marks >=45 and marks < 60:\n",
    "        return \"Second Class\"\n",
    "    \n",
    "    elif marks >=35 and marks < 45:\n",
    "        return \"Pass Class\"\n",
    "    \n",
    "    else:\n",
    "        return \"Fail\""
   ]
  },
  {
   "cell_type": "code",
   "execution_count": 167,
   "id": "0e5ff3c2",
   "metadata": {},
   "outputs": [],
   "source": [
    "data['ClassType'] = data['grades'].apply(classAllocation)"
   ]
  },
  {
   "cell_type": "code",
   "execution_count": 168,
   "id": "5bf4a477",
   "metadata": {},
   "outputs": [
    {
     "data": {
      "text/html": [
       "<div>\n",
       "<style scoped>\n",
       "    .dataframe tbody tr th:only-of-type {\n",
       "        vertical-align: middle;\n",
       "    }\n",
       "\n",
       "    .dataframe tbody tr th {\n",
       "        vertical-align: top;\n",
       "    }\n",
       "\n",
       "    .dataframe thead th {\n",
       "        text-align: right;\n",
       "    }\n",
       "</style>\n",
       "<table border=\"1\" class=\"dataframe\">\n",
       "  <thead>\n",
       "    <tr style=\"text-align: right;\">\n",
       "      <th></th>\n",
       "      <th>name</th>\n",
       "      <th>class</th>\n",
       "      <th>lectures</th>\n",
       "      <th>grades</th>\n",
       "      <th>credits</th>\n",
       "      <th>retake</th>\n",
       "      <th>ClassType</th>\n",
       "    </tr>\n",
       "  </thead>\n",
       "  <tbody>\n",
       "    <tr>\n",
       "      <th>0</th>\n",
       "      <td>Benjamin Duran</td>\n",
       "      <td>A</td>\n",
       "      <td>Maths</td>\n",
       "      <td>90</td>\n",
       "      <td>6</td>\n",
       "      <td>No</td>\n",
       "      <td>Distinction</td>\n",
       "    </tr>\n",
       "    <tr>\n",
       "      <th>1</th>\n",
       "      <td>Benjamin Duran</td>\n",
       "      <td>A</td>\n",
       "      <td>Chemistry</td>\n",
       "      <td>54</td>\n",
       "      <td>6</td>\n",
       "      <td>No</td>\n",
       "      <td>Second Class</td>\n",
       "    </tr>\n",
       "    <tr>\n",
       "      <th>2</th>\n",
       "      <td>Benjamin Duran</td>\n",
       "      <td>A</td>\n",
       "      <td>Physics</td>\n",
       "      <td>77</td>\n",
       "      <td>6</td>\n",
       "      <td>No</td>\n",
       "      <td>Distinction</td>\n",
       "    </tr>\n",
       "    <tr>\n",
       "      <th>3</th>\n",
       "      <td>Benjamin Duran</td>\n",
       "      <td>A</td>\n",
       "      <td>History</td>\n",
       "      <td>22</td>\n",
       "      <td>5</td>\n",
       "      <td>Yes</td>\n",
       "      <td>Fail</td>\n",
       "    </tr>\n",
       "    <tr>\n",
       "      <th>4</th>\n",
       "      <td>Benjamin Duran</td>\n",
       "      <td>A</td>\n",
       "      <td>Geography</td>\n",
       "      <td>25</td>\n",
       "      <td>5</td>\n",
       "      <td>Yes</td>\n",
       "      <td>Fail</td>\n",
       "    </tr>\n",
       "    <tr>\n",
       "      <th>5</th>\n",
       "      <td>Benjamin Duran</td>\n",
       "      <td>A</td>\n",
       "      <td>Science</td>\n",
       "      <td>70</td>\n",
       "      <td>4</td>\n",
       "      <td>No</td>\n",
       "      <td>First Class</td>\n",
       "    </tr>\n",
       "    <tr>\n",
       "      <th>6</th>\n",
       "      <td>Safila Hatfield</td>\n",
       "      <td>B</td>\n",
       "      <td>Maths</td>\n",
       "      <td>90</td>\n",
       "      <td>6</td>\n",
       "      <td>No</td>\n",
       "      <td>Distinction</td>\n",
       "    </tr>\n",
       "    <tr>\n",
       "      <th>7</th>\n",
       "      <td>Safila Hatfield</td>\n",
       "      <td>B</td>\n",
       "      <td>Chemistry</td>\n",
       "      <td>90</td>\n",
       "      <td>6</td>\n",
       "      <td>No</td>\n",
       "      <td>Distinction</td>\n",
       "    </tr>\n",
       "    <tr>\n",
       "      <th>8</th>\n",
       "      <td>Safila Hatfield</td>\n",
       "      <td>B</td>\n",
       "      <td>Physics</td>\n",
       "      <td>90</td>\n",
       "      <td>6</td>\n",
       "      <td>No</td>\n",
       "      <td>Distinction</td>\n",
       "    </tr>\n",
       "    <tr>\n",
       "      <th>9</th>\n",
       "      <td>Safila Hatfield</td>\n",
       "      <td>B</td>\n",
       "      <td>History</td>\n",
       "      <td>45</td>\n",
       "      <td>5</td>\n",
       "      <td>No</td>\n",
       "      <td>Second Class</td>\n",
       "    </tr>\n",
       "    <tr>\n",
       "      <th>10</th>\n",
       "      <td>Safila Hatfield</td>\n",
       "      <td>B</td>\n",
       "      <td>Geography</td>\n",
       "      <td>90</td>\n",
       "      <td>5</td>\n",
       "      <td>No</td>\n",
       "      <td>Distinction</td>\n",
       "    </tr>\n",
       "    <tr>\n",
       "      <th>11</th>\n",
       "      <td>Safila Hatfield</td>\n",
       "      <td>B</td>\n",
       "      <td>Science</td>\n",
       "      <td>90</td>\n",
       "      <td>4</td>\n",
       "      <td>No</td>\n",
       "      <td>Distinction</td>\n",
       "    </tr>\n",
       "    <tr>\n",
       "      <th>12</th>\n",
       "      <td>Toni Doyle</td>\n",
       "      <td>C</td>\n",
       "      <td>Maths</td>\n",
       "      <td>70</td>\n",
       "      <td>6</td>\n",
       "      <td>No</td>\n",
       "      <td>First Class</td>\n",
       "    </tr>\n",
       "    <tr>\n",
       "      <th>13</th>\n",
       "      <td>Toni Doyle</td>\n",
       "      <td>C</td>\n",
       "      <td>Chemistry</td>\n",
       "      <td>44</td>\n",
       "      <td>6</td>\n",
       "      <td>Yes</td>\n",
       "      <td>Pass Class</td>\n",
       "    </tr>\n",
       "    <tr>\n",
       "      <th>14</th>\n",
       "      <td>Toni Doyle</td>\n",
       "      <td>C</td>\n",
       "      <td>Physics</td>\n",
       "      <td>56</td>\n",
       "      <td>6</td>\n",
       "      <td>No</td>\n",
       "      <td>Second Class</td>\n",
       "    </tr>\n",
       "    <tr>\n",
       "      <th>15</th>\n",
       "      <td>Toni Doyle</td>\n",
       "      <td>C</td>\n",
       "      <td>History</td>\n",
       "      <td>77</td>\n",
       "      <td>5</td>\n",
       "      <td>No</td>\n",
       "      <td>Distinction</td>\n",
       "    </tr>\n",
       "    <tr>\n",
       "      <th>16</th>\n",
       "      <td>Toni Doyle</td>\n",
       "      <td>C</td>\n",
       "      <td>Geography</td>\n",
       "      <td>35</td>\n",
       "      <td>5</td>\n",
       "      <td>Yes</td>\n",
       "      <td>Pass Class</td>\n",
       "    </tr>\n",
       "    <tr>\n",
       "      <th>17</th>\n",
       "      <td>Toni Doyle</td>\n",
       "      <td>C</td>\n",
       "      <td>Science</td>\n",
       "      <td>99</td>\n",
       "      <td>4</td>\n",
       "      <td>No</td>\n",
       "      <td>Distinction</td>\n",
       "    </tr>\n",
       "  </tbody>\n",
       "</table>\n",
       "</div>"
      ],
      "text/plain": [
       "               name class   lectures  grades  credits retake     ClassType\n",
       "0    Benjamin Duran     A      Maths      90        6     No   Distinction\n",
       "1    Benjamin Duran     A  Chemistry      54        6     No  Second Class\n",
       "2    Benjamin Duran     A    Physics      77        6     No   Distinction\n",
       "3    Benjamin Duran     A    History      22        5    Yes          Fail\n",
       "4    Benjamin Duran     A  Geography      25        5    Yes          Fail\n",
       "5    Benjamin Duran     A    Science      70        4     No   First Class\n",
       "6   Safila Hatfield     B      Maths      90        6     No   Distinction\n",
       "7   Safila Hatfield     B  Chemistry      90        6     No   Distinction\n",
       "8   Safila Hatfield     B    Physics      90        6     No   Distinction\n",
       "9   Safila Hatfield     B    History      45        5     No  Second Class\n",
       "10  Safila Hatfield     B  Geography      90        5     No   Distinction\n",
       "11  Safila Hatfield     B    Science      90        4     No   Distinction\n",
       "12       Toni Doyle     C      Maths      70        6     No   First Class\n",
       "13       Toni Doyle     C  Chemistry      44        6    Yes    Pass Class\n",
       "14       Toni Doyle     C    Physics      56        6     No  Second Class\n",
       "15       Toni Doyle     C    History      77        5     No   Distinction\n",
       "16       Toni Doyle     C  Geography      35        5    Yes    Pass Class\n",
       "17       Toni Doyle     C    Science      99        4     No   Distinction"
      ]
     },
     "execution_count": 168,
     "metadata": {},
     "output_type": "execute_result"
    }
   ],
   "source": [
    "data"
   ]
  },
  {
   "cell_type": "code",
   "execution_count": 169,
   "id": "178671e6",
   "metadata": {},
   "outputs": [],
   "source": [
    "def first_name(val):\n",
    "    fname = val.split(' ')\n",
    "    return fname[0]"
   ]
  },
  {
   "cell_type": "code",
   "execution_count": 170,
   "id": "f9f05e59",
   "metadata": {},
   "outputs": [],
   "source": [
    "data['FirstName'] = data['name'].apply(first_name)"
   ]
  },
  {
   "cell_type": "code",
   "execution_count": 171,
   "id": "bb1b8866",
   "metadata": {},
   "outputs": [
    {
     "data": {
      "text/html": [
       "<div>\n",
       "<style scoped>\n",
       "    .dataframe tbody tr th:only-of-type {\n",
       "        vertical-align: middle;\n",
       "    }\n",
       "\n",
       "    .dataframe tbody tr th {\n",
       "        vertical-align: top;\n",
       "    }\n",
       "\n",
       "    .dataframe thead th {\n",
       "        text-align: right;\n",
       "    }\n",
       "</style>\n",
       "<table border=\"1\" class=\"dataframe\">\n",
       "  <thead>\n",
       "    <tr style=\"text-align: right;\">\n",
       "      <th></th>\n",
       "      <th>name</th>\n",
       "      <th>class</th>\n",
       "      <th>lectures</th>\n",
       "      <th>grades</th>\n",
       "      <th>credits</th>\n",
       "      <th>retake</th>\n",
       "      <th>ClassType</th>\n",
       "      <th>FirstName</th>\n",
       "    </tr>\n",
       "  </thead>\n",
       "  <tbody>\n",
       "    <tr>\n",
       "      <th>0</th>\n",
       "      <td>Benjamin Duran</td>\n",
       "      <td>A</td>\n",
       "      <td>Maths</td>\n",
       "      <td>90</td>\n",
       "      <td>6</td>\n",
       "      <td>No</td>\n",
       "      <td>Distinction</td>\n",
       "      <td>Benjamin</td>\n",
       "    </tr>\n",
       "    <tr>\n",
       "      <th>1</th>\n",
       "      <td>Benjamin Duran</td>\n",
       "      <td>A</td>\n",
       "      <td>Chemistry</td>\n",
       "      <td>54</td>\n",
       "      <td>6</td>\n",
       "      <td>No</td>\n",
       "      <td>Second Class</td>\n",
       "      <td>Benjamin</td>\n",
       "    </tr>\n",
       "    <tr>\n",
       "      <th>2</th>\n",
       "      <td>Benjamin Duran</td>\n",
       "      <td>A</td>\n",
       "      <td>Physics</td>\n",
       "      <td>77</td>\n",
       "      <td>6</td>\n",
       "      <td>No</td>\n",
       "      <td>Distinction</td>\n",
       "      <td>Benjamin</td>\n",
       "    </tr>\n",
       "    <tr>\n",
       "      <th>3</th>\n",
       "      <td>Benjamin Duran</td>\n",
       "      <td>A</td>\n",
       "      <td>History</td>\n",
       "      <td>22</td>\n",
       "      <td>5</td>\n",
       "      <td>Yes</td>\n",
       "      <td>Fail</td>\n",
       "      <td>Benjamin</td>\n",
       "    </tr>\n",
       "    <tr>\n",
       "      <th>4</th>\n",
       "      <td>Benjamin Duran</td>\n",
       "      <td>A</td>\n",
       "      <td>Geography</td>\n",
       "      <td>25</td>\n",
       "      <td>5</td>\n",
       "      <td>Yes</td>\n",
       "      <td>Fail</td>\n",
       "      <td>Benjamin</td>\n",
       "    </tr>\n",
       "    <tr>\n",
       "      <th>5</th>\n",
       "      <td>Benjamin Duran</td>\n",
       "      <td>A</td>\n",
       "      <td>Science</td>\n",
       "      <td>70</td>\n",
       "      <td>4</td>\n",
       "      <td>No</td>\n",
       "      <td>First Class</td>\n",
       "      <td>Benjamin</td>\n",
       "    </tr>\n",
       "    <tr>\n",
       "      <th>6</th>\n",
       "      <td>Safila Hatfield</td>\n",
       "      <td>B</td>\n",
       "      <td>Maths</td>\n",
       "      <td>90</td>\n",
       "      <td>6</td>\n",
       "      <td>No</td>\n",
       "      <td>Distinction</td>\n",
       "      <td>Safila</td>\n",
       "    </tr>\n",
       "    <tr>\n",
       "      <th>7</th>\n",
       "      <td>Safila Hatfield</td>\n",
       "      <td>B</td>\n",
       "      <td>Chemistry</td>\n",
       "      <td>90</td>\n",
       "      <td>6</td>\n",
       "      <td>No</td>\n",
       "      <td>Distinction</td>\n",
       "      <td>Safila</td>\n",
       "    </tr>\n",
       "    <tr>\n",
       "      <th>8</th>\n",
       "      <td>Safila Hatfield</td>\n",
       "      <td>B</td>\n",
       "      <td>Physics</td>\n",
       "      <td>90</td>\n",
       "      <td>6</td>\n",
       "      <td>No</td>\n",
       "      <td>Distinction</td>\n",
       "      <td>Safila</td>\n",
       "    </tr>\n",
       "    <tr>\n",
       "      <th>9</th>\n",
       "      <td>Safila Hatfield</td>\n",
       "      <td>B</td>\n",
       "      <td>History</td>\n",
       "      <td>45</td>\n",
       "      <td>5</td>\n",
       "      <td>No</td>\n",
       "      <td>Second Class</td>\n",
       "      <td>Safila</td>\n",
       "    </tr>\n",
       "    <tr>\n",
       "      <th>10</th>\n",
       "      <td>Safila Hatfield</td>\n",
       "      <td>B</td>\n",
       "      <td>Geography</td>\n",
       "      <td>90</td>\n",
       "      <td>5</td>\n",
       "      <td>No</td>\n",
       "      <td>Distinction</td>\n",
       "      <td>Safila</td>\n",
       "    </tr>\n",
       "    <tr>\n",
       "      <th>11</th>\n",
       "      <td>Safila Hatfield</td>\n",
       "      <td>B</td>\n",
       "      <td>Science</td>\n",
       "      <td>90</td>\n",
       "      <td>4</td>\n",
       "      <td>No</td>\n",
       "      <td>Distinction</td>\n",
       "      <td>Safila</td>\n",
       "    </tr>\n",
       "    <tr>\n",
       "      <th>12</th>\n",
       "      <td>Toni Doyle</td>\n",
       "      <td>C</td>\n",
       "      <td>Maths</td>\n",
       "      <td>70</td>\n",
       "      <td>6</td>\n",
       "      <td>No</td>\n",
       "      <td>First Class</td>\n",
       "      <td>Toni</td>\n",
       "    </tr>\n",
       "    <tr>\n",
       "      <th>13</th>\n",
       "      <td>Toni Doyle</td>\n",
       "      <td>C</td>\n",
       "      <td>Chemistry</td>\n",
       "      <td>44</td>\n",
       "      <td>6</td>\n",
       "      <td>Yes</td>\n",
       "      <td>Pass Class</td>\n",
       "      <td>Toni</td>\n",
       "    </tr>\n",
       "    <tr>\n",
       "      <th>14</th>\n",
       "      <td>Toni Doyle</td>\n",
       "      <td>C</td>\n",
       "      <td>Physics</td>\n",
       "      <td>56</td>\n",
       "      <td>6</td>\n",
       "      <td>No</td>\n",
       "      <td>Second Class</td>\n",
       "      <td>Toni</td>\n",
       "    </tr>\n",
       "    <tr>\n",
       "      <th>15</th>\n",
       "      <td>Toni Doyle</td>\n",
       "      <td>C</td>\n",
       "      <td>History</td>\n",
       "      <td>77</td>\n",
       "      <td>5</td>\n",
       "      <td>No</td>\n",
       "      <td>Distinction</td>\n",
       "      <td>Toni</td>\n",
       "    </tr>\n",
       "    <tr>\n",
       "      <th>16</th>\n",
       "      <td>Toni Doyle</td>\n",
       "      <td>C</td>\n",
       "      <td>Geography</td>\n",
       "      <td>35</td>\n",
       "      <td>5</td>\n",
       "      <td>Yes</td>\n",
       "      <td>Pass Class</td>\n",
       "      <td>Toni</td>\n",
       "    </tr>\n",
       "    <tr>\n",
       "      <th>17</th>\n",
       "      <td>Toni Doyle</td>\n",
       "      <td>C</td>\n",
       "      <td>Science</td>\n",
       "      <td>99</td>\n",
       "      <td>4</td>\n",
       "      <td>No</td>\n",
       "      <td>Distinction</td>\n",
       "      <td>Toni</td>\n",
       "    </tr>\n",
       "  </tbody>\n",
       "</table>\n",
       "</div>"
      ],
      "text/plain": [
       "               name class   lectures  grades  credits retake     ClassType  \\\n",
       "0    Benjamin Duran     A      Maths      90        6     No   Distinction   \n",
       "1    Benjamin Duran     A  Chemistry      54        6     No  Second Class   \n",
       "2    Benjamin Duran     A    Physics      77        6     No   Distinction   \n",
       "3    Benjamin Duran     A    History      22        5    Yes          Fail   \n",
       "4    Benjamin Duran     A  Geography      25        5    Yes          Fail   \n",
       "5    Benjamin Duran     A    Science      70        4     No   First Class   \n",
       "6   Safila Hatfield     B      Maths      90        6     No   Distinction   \n",
       "7   Safila Hatfield     B  Chemistry      90        6     No   Distinction   \n",
       "8   Safila Hatfield     B    Physics      90        6     No   Distinction   \n",
       "9   Safila Hatfield     B    History      45        5     No  Second Class   \n",
       "10  Safila Hatfield     B  Geography      90        5     No   Distinction   \n",
       "11  Safila Hatfield     B    Science      90        4     No   Distinction   \n",
       "12       Toni Doyle     C      Maths      70        6     No   First Class   \n",
       "13       Toni Doyle     C  Chemistry      44        6    Yes    Pass Class   \n",
       "14       Toni Doyle     C    Physics      56        6     No  Second Class   \n",
       "15       Toni Doyle     C    History      77        5     No   Distinction   \n",
       "16       Toni Doyle     C  Geography      35        5    Yes    Pass Class   \n",
       "17       Toni Doyle     C    Science      99        4     No   Distinction   \n",
       "\n",
       "   FirstName  \n",
       "0   Benjamin  \n",
       "1   Benjamin  \n",
       "2   Benjamin  \n",
       "3   Benjamin  \n",
       "4   Benjamin  \n",
       "5   Benjamin  \n",
       "6     Safila  \n",
       "7     Safila  \n",
       "8     Safila  \n",
       "9     Safila  \n",
       "10    Safila  \n",
       "11    Safila  \n",
       "12      Toni  \n",
       "13      Toni  \n",
       "14      Toni  \n",
       "15      Toni  \n",
       "16      Toni  \n",
       "17      Toni  "
      ]
     },
     "execution_count": 171,
     "metadata": {},
     "output_type": "execute_result"
    }
   ],
   "source": [
    "data"
   ]
  },
  {
   "cell_type": "code",
   "execution_count": 172,
   "id": "3c86fed1",
   "metadata": {},
   "outputs": [],
   "source": [
    "def last_name(val):\n",
    "    lname = val.split(' ')\n",
    "    return lname[1]"
   ]
  },
  {
   "cell_type": "code",
   "execution_count": 173,
   "id": "ff30b117",
   "metadata": {},
   "outputs": [],
   "source": [
    "data['LastName'] = data['name'].apply(last_name)"
   ]
  },
  {
   "cell_type": "code",
   "execution_count": 174,
   "id": "862b44b6",
   "metadata": {},
   "outputs": [
    {
     "data": {
      "text/html": [
       "<div>\n",
       "<style scoped>\n",
       "    .dataframe tbody tr th:only-of-type {\n",
       "        vertical-align: middle;\n",
       "    }\n",
       "\n",
       "    .dataframe tbody tr th {\n",
       "        vertical-align: top;\n",
       "    }\n",
       "\n",
       "    .dataframe thead th {\n",
       "        text-align: right;\n",
       "    }\n",
       "</style>\n",
       "<table border=\"1\" class=\"dataframe\">\n",
       "  <thead>\n",
       "    <tr style=\"text-align: right;\">\n",
       "      <th></th>\n",
       "      <th>name</th>\n",
       "      <th>class</th>\n",
       "      <th>lectures</th>\n",
       "      <th>grades</th>\n",
       "      <th>credits</th>\n",
       "      <th>retake</th>\n",
       "      <th>ClassType</th>\n",
       "      <th>FirstName</th>\n",
       "      <th>LastName</th>\n",
       "    </tr>\n",
       "  </thead>\n",
       "  <tbody>\n",
       "    <tr>\n",
       "      <th>0</th>\n",
       "      <td>Benjamin Duran</td>\n",
       "      <td>A</td>\n",
       "      <td>Maths</td>\n",
       "      <td>90</td>\n",
       "      <td>6</td>\n",
       "      <td>No</td>\n",
       "      <td>Distinction</td>\n",
       "      <td>Benjamin</td>\n",
       "      <td>Duran</td>\n",
       "    </tr>\n",
       "    <tr>\n",
       "      <th>1</th>\n",
       "      <td>Benjamin Duran</td>\n",
       "      <td>A</td>\n",
       "      <td>Chemistry</td>\n",
       "      <td>54</td>\n",
       "      <td>6</td>\n",
       "      <td>No</td>\n",
       "      <td>Second Class</td>\n",
       "      <td>Benjamin</td>\n",
       "      <td>Duran</td>\n",
       "    </tr>\n",
       "    <tr>\n",
       "      <th>2</th>\n",
       "      <td>Benjamin Duran</td>\n",
       "      <td>A</td>\n",
       "      <td>Physics</td>\n",
       "      <td>77</td>\n",
       "      <td>6</td>\n",
       "      <td>No</td>\n",
       "      <td>Distinction</td>\n",
       "      <td>Benjamin</td>\n",
       "      <td>Duran</td>\n",
       "    </tr>\n",
       "    <tr>\n",
       "      <th>3</th>\n",
       "      <td>Benjamin Duran</td>\n",
       "      <td>A</td>\n",
       "      <td>History</td>\n",
       "      <td>22</td>\n",
       "      <td>5</td>\n",
       "      <td>Yes</td>\n",
       "      <td>Fail</td>\n",
       "      <td>Benjamin</td>\n",
       "      <td>Duran</td>\n",
       "    </tr>\n",
       "    <tr>\n",
       "      <th>4</th>\n",
       "      <td>Benjamin Duran</td>\n",
       "      <td>A</td>\n",
       "      <td>Geography</td>\n",
       "      <td>25</td>\n",
       "      <td>5</td>\n",
       "      <td>Yes</td>\n",
       "      <td>Fail</td>\n",
       "      <td>Benjamin</td>\n",
       "      <td>Duran</td>\n",
       "    </tr>\n",
       "    <tr>\n",
       "      <th>5</th>\n",
       "      <td>Benjamin Duran</td>\n",
       "      <td>A</td>\n",
       "      <td>Science</td>\n",
       "      <td>70</td>\n",
       "      <td>4</td>\n",
       "      <td>No</td>\n",
       "      <td>First Class</td>\n",
       "      <td>Benjamin</td>\n",
       "      <td>Duran</td>\n",
       "    </tr>\n",
       "    <tr>\n",
       "      <th>6</th>\n",
       "      <td>Safila Hatfield</td>\n",
       "      <td>B</td>\n",
       "      <td>Maths</td>\n",
       "      <td>90</td>\n",
       "      <td>6</td>\n",
       "      <td>No</td>\n",
       "      <td>Distinction</td>\n",
       "      <td>Safila</td>\n",
       "      <td>Hatfield</td>\n",
       "    </tr>\n",
       "    <tr>\n",
       "      <th>7</th>\n",
       "      <td>Safila Hatfield</td>\n",
       "      <td>B</td>\n",
       "      <td>Chemistry</td>\n",
       "      <td>90</td>\n",
       "      <td>6</td>\n",
       "      <td>No</td>\n",
       "      <td>Distinction</td>\n",
       "      <td>Safila</td>\n",
       "      <td>Hatfield</td>\n",
       "    </tr>\n",
       "    <tr>\n",
       "      <th>8</th>\n",
       "      <td>Safila Hatfield</td>\n",
       "      <td>B</td>\n",
       "      <td>Physics</td>\n",
       "      <td>90</td>\n",
       "      <td>6</td>\n",
       "      <td>No</td>\n",
       "      <td>Distinction</td>\n",
       "      <td>Safila</td>\n",
       "      <td>Hatfield</td>\n",
       "    </tr>\n",
       "    <tr>\n",
       "      <th>9</th>\n",
       "      <td>Safila Hatfield</td>\n",
       "      <td>B</td>\n",
       "      <td>History</td>\n",
       "      <td>45</td>\n",
       "      <td>5</td>\n",
       "      <td>No</td>\n",
       "      <td>Second Class</td>\n",
       "      <td>Safila</td>\n",
       "      <td>Hatfield</td>\n",
       "    </tr>\n",
       "    <tr>\n",
       "      <th>10</th>\n",
       "      <td>Safila Hatfield</td>\n",
       "      <td>B</td>\n",
       "      <td>Geography</td>\n",
       "      <td>90</td>\n",
       "      <td>5</td>\n",
       "      <td>No</td>\n",
       "      <td>Distinction</td>\n",
       "      <td>Safila</td>\n",
       "      <td>Hatfield</td>\n",
       "    </tr>\n",
       "    <tr>\n",
       "      <th>11</th>\n",
       "      <td>Safila Hatfield</td>\n",
       "      <td>B</td>\n",
       "      <td>Science</td>\n",
       "      <td>90</td>\n",
       "      <td>4</td>\n",
       "      <td>No</td>\n",
       "      <td>Distinction</td>\n",
       "      <td>Safila</td>\n",
       "      <td>Hatfield</td>\n",
       "    </tr>\n",
       "    <tr>\n",
       "      <th>12</th>\n",
       "      <td>Toni Doyle</td>\n",
       "      <td>C</td>\n",
       "      <td>Maths</td>\n",
       "      <td>70</td>\n",
       "      <td>6</td>\n",
       "      <td>No</td>\n",
       "      <td>First Class</td>\n",
       "      <td>Toni</td>\n",
       "      <td>Doyle</td>\n",
       "    </tr>\n",
       "    <tr>\n",
       "      <th>13</th>\n",
       "      <td>Toni Doyle</td>\n",
       "      <td>C</td>\n",
       "      <td>Chemistry</td>\n",
       "      <td>44</td>\n",
       "      <td>6</td>\n",
       "      <td>Yes</td>\n",
       "      <td>Pass Class</td>\n",
       "      <td>Toni</td>\n",
       "      <td>Doyle</td>\n",
       "    </tr>\n",
       "    <tr>\n",
       "      <th>14</th>\n",
       "      <td>Toni Doyle</td>\n",
       "      <td>C</td>\n",
       "      <td>Physics</td>\n",
       "      <td>56</td>\n",
       "      <td>6</td>\n",
       "      <td>No</td>\n",
       "      <td>Second Class</td>\n",
       "      <td>Toni</td>\n",
       "      <td>Doyle</td>\n",
       "    </tr>\n",
       "    <tr>\n",
       "      <th>15</th>\n",
       "      <td>Toni Doyle</td>\n",
       "      <td>C</td>\n",
       "      <td>History</td>\n",
       "      <td>77</td>\n",
       "      <td>5</td>\n",
       "      <td>No</td>\n",
       "      <td>Distinction</td>\n",
       "      <td>Toni</td>\n",
       "      <td>Doyle</td>\n",
       "    </tr>\n",
       "    <tr>\n",
       "      <th>16</th>\n",
       "      <td>Toni Doyle</td>\n",
       "      <td>C</td>\n",
       "      <td>Geography</td>\n",
       "      <td>35</td>\n",
       "      <td>5</td>\n",
       "      <td>Yes</td>\n",
       "      <td>Pass Class</td>\n",
       "      <td>Toni</td>\n",
       "      <td>Doyle</td>\n",
       "    </tr>\n",
       "    <tr>\n",
       "      <th>17</th>\n",
       "      <td>Toni Doyle</td>\n",
       "      <td>C</td>\n",
       "      <td>Science</td>\n",
       "      <td>99</td>\n",
       "      <td>4</td>\n",
       "      <td>No</td>\n",
       "      <td>Distinction</td>\n",
       "      <td>Toni</td>\n",
       "      <td>Doyle</td>\n",
       "    </tr>\n",
       "  </tbody>\n",
       "</table>\n",
       "</div>"
      ],
      "text/plain": [
       "               name class   lectures  grades  credits retake     ClassType  \\\n",
       "0    Benjamin Duran     A      Maths      90        6     No   Distinction   \n",
       "1    Benjamin Duran     A  Chemistry      54        6     No  Second Class   \n",
       "2    Benjamin Duran     A    Physics      77        6     No   Distinction   \n",
       "3    Benjamin Duran     A    History      22        5    Yes          Fail   \n",
       "4    Benjamin Duran     A  Geography      25        5    Yes          Fail   \n",
       "5    Benjamin Duran     A    Science      70        4     No   First Class   \n",
       "6   Safila Hatfield     B      Maths      90        6     No   Distinction   \n",
       "7   Safila Hatfield     B  Chemistry      90        6     No   Distinction   \n",
       "8   Safila Hatfield     B    Physics      90        6     No   Distinction   \n",
       "9   Safila Hatfield     B    History      45        5     No  Second Class   \n",
       "10  Safila Hatfield     B  Geography      90        5     No   Distinction   \n",
       "11  Safila Hatfield     B    Science      90        4     No   Distinction   \n",
       "12       Toni Doyle     C      Maths      70        6     No   First Class   \n",
       "13       Toni Doyle     C  Chemistry      44        6    Yes    Pass Class   \n",
       "14       Toni Doyle     C    Physics      56        6     No  Second Class   \n",
       "15       Toni Doyle     C    History      77        5     No   Distinction   \n",
       "16       Toni Doyle     C  Geography      35        5    Yes    Pass Class   \n",
       "17       Toni Doyle     C    Science      99        4     No   Distinction   \n",
       "\n",
       "   FirstName  LastName  \n",
       "0   Benjamin     Duran  \n",
       "1   Benjamin     Duran  \n",
       "2   Benjamin     Duran  \n",
       "3   Benjamin     Duran  \n",
       "4   Benjamin     Duran  \n",
       "5   Benjamin     Duran  \n",
       "6     Safila  Hatfield  \n",
       "7     Safila  Hatfield  \n",
       "8     Safila  Hatfield  \n",
       "9     Safila  Hatfield  \n",
       "10    Safila  Hatfield  \n",
       "11    Safila  Hatfield  \n",
       "12      Toni     Doyle  \n",
       "13      Toni     Doyle  \n",
       "14      Toni     Doyle  \n",
       "15      Toni     Doyle  \n",
       "16      Toni     Doyle  \n",
       "17      Toni     Doyle  "
      ]
     },
     "execution_count": 174,
     "metadata": {},
     "output_type": "execute_result"
    }
   ],
   "source": [
    "data"
   ]
  },
  {
   "cell_type": "code",
   "execution_count": null,
   "id": "201f4beb",
   "metadata": {},
   "outputs": [],
   "source": []
  },
  {
   "cell_type": "markdown",
   "id": "e23affda",
   "metadata": {},
   "source": [
    "## Group By"
   ]
  },
  {
   "cell_type": "code",
   "execution_count": 210,
   "id": "e0a0733a",
   "metadata": {},
   "outputs": [],
   "source": [
    "data_1 = {\n",
    "    'Company' : ['GOOGLE','GOOGLE','MICROSOFT','MICROSOFT','FB','FB'],\n",
    "    'Person':['Sam','Charlie','Amy','Vanessa','Carl','Sarah'],\n",
    "    'Sales':[200,120,340,124,243,350]\n",
    "}"
   ]
  },
  {
   "cell_type": "code",
   "execution_count": 211,
   "id": "2f7bc383",
   "metadata": {},
   "outputs": [
    {
     "data": {
      "text/plain": [
       "{'Company': ['GOOGLE', 'GOOGLE', 'MICROSOFT', 'MICROSOFT', 'FB', 'FB'],\n",
       " 'Person': ['Sam', 'Charlie', 'Amy', 'Vanessa', 'Carl', 'Sarah'],\n",
       " 'Sales': [200, 120, 340, 124, 243, 350]}"
      ]
     },
     "execution_count": 211,
     "metadata": {},
     "output_type": "execute_result"
    }
   ],
   "source": [
    "data_1"
   ]
  },
  {
   "cell_type": "code",
   "execution_count": 212,
   "id": "5ae86be3",
   "metadata": {},
   "outputs": [],
   "source": [
    "df3 = pd.DataFrame(data_1)"
   ]
  },
  {
   "cell_type": "code",
   "execution_count": 213,
   "id": "d0839402",
   "metadata": {},
   "outputs": [
    {
     "data": {
      "text/html": [
       "<div>\n",
       "<style scoped>\n",
       "    .dataframe tbody tr th:only-of-type {\n",
       "        vertical-align: middle;\n",
       "    }\n",
       "\n",
       "    .dataframe tbody tr th {\n",
       "        vertical-align: top;\n",
       "    }\n",
       "\n",
       "    .dataframe thead th {\n",
       "        text-align: right;\n",
       "    }\n",
       "</style>\n",
       "<table border=\"1\" class=\"dataframe\">\n",
       "  <thead>\n",
       "    <tr style=\"text-align: right;\">\n",
       "      <th></th>\n",
       "      <th>Company</th>\n",
       "      <th>Person</th>\n",
       "      <th>Sales</th>\n",
       "    </tr>\n",
       "  </thead>\n",
       "  <tbody>\n",
       "    <tr>\n",
       "      <th>0</th>\n",
       "      <td>GOOGLE</td>\n",
       "      <td>Sam</td>\n",
       "      <td>200</td>\n",
       "    </tr>\n",
       "    <tr>\n",
       "      <th>1</th>\n",
       "      <td>GOOGLE</td>\n",
       "      <td>Charlie</td>\n",
       "      <td>120</td>\n",
       "    </tr>\n",
       "    <tr>\n",
       "      <th>2</th>\n",
       "      <td>MICROSOFT</td>\n",
       "      <td>Amy</td>\n",
       "      <td>340</td>\n",
       "    </tr>\n",
       "    <tr>\n",
       "      <th>3</th>\n",
       "      <td>MICROSOFT</td>\n",
       "      <td>Vanessa</td>\n",
       "      <td>124</td>\n",
       "    </tr>\n",
       "    <tr>\n",
       "      <th>4</th>\n",
       "      <td>FB</td>\n",
       "      <td>Carl</td>\n",
       "      <td>243</td>\n",
       "    </tr>\n",
       "    <tr>\n",
       "      <th>5</th>\n",
       "      <td>FB</td>\n",
       "      <td>Sarah</td>\n",
       "      <td>350</td>\n",
       "    </tr>\n",
       "  </tbody>\n",
       "</table>\n",
       "</div>"
      ],
      "text/plain": [
       "     Company   Person  Sales\n",
       "0     GOOGLE      Sam    200\n",
       "1     GOOGLE  Charlie    120\n",
       "2  MICROSOFT      Amy    340\n",
       "3  MICROSOFT  Vanessa    124\n",
       "4         FB     Carl    243\n",
       "5         FB    Sarah    350"
      ]
     },
     "execution_count": 213,
     "metadata": {},
     "output_type": "execute_result"
    }
   ],
   "source": [
    "df3"
   ]
  },
  {
   "cell_type": "code",
   "execution_count": 179,
   "id": "6f4d0795",
   "metadata": {},
   "outputs": [],
   "source": [
    "grouped_data = df3.groupby('Company')"
   ]
  },
  {
   "cell_type": "code",
   "execution_count": 180,
   "id": "8bf073b8",
   "metadata": {},
   "outputs": [
    {
     "data": {
      "text/plain": [
       "<pandas.core.groupby.generic.DataFrameGroupBy object at 0x000001F95AA33B50>"
      ]
     },
     "execution_count": 180,
     "metadata": {},
     "output_type": "execute_result"
    }
   ],
   "source": [
    "grouped_data"
   ]
  },
  {
   "cell_type": "code",
   "execution_count": 181,
   "id": "aa006635",
   "metadata": {},
   "outputs": [
    {
     "data": {
      "text/html": [
       "<div>\n",
       "<style scoped>\n",
       "    .dataframe tbody tr th:only-of-type {\n",
       "        vertical-align: middle;\n",
       "    }\n",
       "\n",
       "    .dataframe tbody tr th {\n",
       "        vertical-align: top;\n",
       "    }\n",
       "\n",
       "    .dataframe thead th {\n",
       "        text-align: right;\n",
       "    }\n",
       "</style>\n",
       "<table border=\"1\" class=\"dataframe\">\n",
       "  <thead>\n",
       "    <tr style=\"text-align: right;\">\n",
       "      <th></th>\n",
       "      <th>Sales</th>\n",
       "    </tr>\n",
       "    <tr>\n",
       "      <th>Company</th>\n",
       "      <th></th>\n",
       "    </tr>\n",
       "  </thead>\n",
       "  <tbody>\n",
       "    <tr>\n",
       "      <th>FB</th>\n",
       "      <td>296.5</td>\n",
       "    </tr>\n",
       "    <tr>\n",
       "      <th>GOOGLE</th>\n",
       "      <td>160.0</td>\n",
       "    </tr>\n",
       "    <tr>\n",
       "      <th>MICROSOFT</th>\n",
       "      <td>232.0</td>\n",
       "    </tr>\n",
       "  </tbody>\n",
       "</table>\n",
       "</div>"
      ],
      "text/plain": [
       "           Sales\n",
       "Company         \n",
       "FB         296.5\n",
       "GOOGLE     160.0\n",
       "MICROSOFT  232.0"
      ]
     },
     "execution_count": 181,
     "metadata": {},
     "output_type": "execute_result"
    }
   ],
   "source": [
    "grouped_data.mean()"
   ]
  },
  {
   "cell_type": "code",
   "execution_count": 182,
   "id": "51b006a2",
   "metadata": {},
   "outputs": [
    {
     "data": {
      "text/html": [
       "<div>\n",
       "<style scoped>\n",
       "    .dataframe tbody tr th:only-of-type {\n",
       "        vertical-align: middle;\n",
       "    }\n",
       "\n",
       "    .dataframe tbody tr th {\n",
       "        vertical-align: top;\n",
       "    }\n",
       "\n",
       "    .dataframe thead th {\n",
       "        text-align: right;\n",
       "    }\n",
       "</style>\n",
       "<table border=\"1\" class=\"dataframe\">\n",
       "  <thead>\n",
       "    <tr style=\"text-align: right;\">\n",
       "      <th></th>\n",
       "      <th>Person</th>\n",
       "      <th>Sales</th>\n",
       "    </tr>\n",
       "    <tr>\n",
       "      <th>Company</th>\n",
       "      <th></th>\n",
       "      <th></th>\n",
       "    </tr>\n",
       "  </thead>\n",
       "  <tbody>\n",
       "    <tr>\n",
       "      <th>FB</th>\n",
       "      <td>Carl</td>\n",
       "      <td>243</td>\n",
       "    </tr>\n",
       "    <tr>\n",
       "      <th>GOOGLE</th>\n",
       "      <td>Charlie</td>\n",
       "      <td>120</td>\n",
       "    </tr>\n",
       "    <tr>\n",
       "      <th>MICROSOFT</th>\n",
       "      <td>Amy</td>\n",
       "      <td>124</td>\n",
       "    </tr>\n",
       "  </tbody>\n",
       "</table>\n",
       "</div>"
      ],
      "text/plain": [
       "            Person  Sales\n",
       "Company                  \n",
       "FB            Carl    243\n",
       "GOOGLE     Charlie    120\n",
       "MICROSOFT      Amy    124"
      ]
     },
     "execution_count": 182,
     "metadata": {},
     "output_type": "execute_result"
    }
   ],
   "source": [
    "grouped_data.min()"
   ]
  },
  {
   "cell_type": "code",
   "execution_count": 183,
   "id": "0ff26edb",
   "metadata": {},
   "outputs": [
    {
     "data": {
      "text/html": [
       "<div>\n",
       "<style scoped>\n",
       "    .dataframe tbody tr th:only-of-type {\n",
       "        vertical-align: middle;\n",
       "    }\n",
       "\n",
       "    .dataframe tbody tr th {\n",
       "        vertical-align: top;\n",
       "    }\n",
       "\n",
       "    .dataframe thead th {\n",
       "        text-align: right;\n",
       "    }\n",
       "</style>\n",
       "<table border=\"1\" class=\"dataframe\">\n",
       "  <thead>\n",
       "    <tr style=\"text-align: right;\">\n",
       "      <th></th>\n",
       "      <th>Person</th>\n",
       "      <th>Sales</th>\n",
       "    </tr>\n",
       "    <tr>\n",
       "      <th>Company</th>\n",
       "      <th></th>\n",
       "      <th></th>\n",
       "    </tr>\n",
       "  </thead>\n",
       "  <tbody>\n",
       "    <tr>\n",
       "      <th>FB</th>\n",
       "      <td>Sarah</td>\n",
       "      <td>350</td>\n",
       "    </tr>\n",
       "    <tr>\n",
       "      <th>GOOGLE</th>\n",
       "      <td>Sam</td>\n",
       "      <td>200</td>\n",
       "    </tr>\n",
       "    <tr>\n",
       "      <th>MICROSOFT</th>\n",
       "      <td>Vanessa</td>\n",
       "      <td>340</td>\n",
       "    </tr>\n",
       "  </tbody>\n",
       "</table>\n",
       "</div>"
      ],
      "text/plain": [
       "            Person  Sales\n",
       "Company                  \n",
       "FB           Sarah    350\n",
       "GOOGLE         Sam    200\n",
       "MICROSOFT  Vanessa    340"
      ]
     },
     "execution_count": 183,
     "metadata": {},
     "output_type": "execute_result"
    }
   ],
   "source": [
    "grouped_data.max()"
   ]
  },
  {
   "cell_type": "code",
   "execution_count": 184,
   "id": "f68f4f61",
   "metadata": {},
   "outputs": [
    {
     "data": {
      "text/html": [
       "<div>\n",
       "<style scoped>\n",
       "    .dataframe tbody tr th:only-of-type {\n",
       "        vertical-align: middle;\n",
       "    }\n",
       "\n",
       "    .dataframe tbody tr th {\n",
       "        vertical-align: top;\n",
       "    }\n",
       "\n",
       "    .dataframe thead th {\n",
       "        text-align: right;\n",
       "    }\n",
       "</style>\n",
       "<table border=\"1\" class=\"dataframe\">\n",
       "  <thead>\n",
       "    <tr style=\"text-align: right;\">\n",
       "      <th></th>\n",
       "      <th>Person</th>\n",
       "      <th>Sales</th>\n",
       "    </tr>\n",
       "    <tr>\n",
       "      <th>Company</th>\n",
       "      <th></th>\n",
       "      <th></th>\n",
       "    </tr>\n",
       "  </thead>\n",
       "  <tbody>\n",
       "    <tr>\n",
       "      <th>FB</th>\n",
       "      <td>2</td>\n",
       "      <td>2</td>\n",
       "    </tr>\n",
       "    <tr>\n",
       "      <th>GOOGLE</th>\n",
       "      <td>2</td>\n",
       "      <td>2</td>\n",
       "    </tr>\n",
       "    <tr>\n",
       "      <th>MICROSOFT</th>\n",
       "      <td>2</td>\n",
       "      <td>2</td>\n",
       "    </tr>\n",
       "  </tbody>\n",
       "</table>\n",
       "</div>"
      ],
      "text/plain": [
       "           Person  Sales\n",
       "Company                 \n",
       "FB              2      2\n",
       "GOOGLE          2      2\n",
       "MICROSOFT       2      2"
      ]
     },
     "execution_count": 184,
     "metadata": {},
     "output_type": "execute_result"
    }
   ],
   "source": [
    "grouped_data.count()"
   ]
  },
  {
   "cell_type": "code",
   "execution_count": 185,
   "id": "a053fbd2",
   "metadata": {},
   "outputs": [
    {
     "data": {
      "text/html": [
       "<div>\n",
       "<style scoped>\n",
       "    .dataframe tbody tr th:only-of-type {\n",
       "        vertical-align: middle;\n",
       "    }\n",
       "\n",
       "    .dataframe tbody tr th {\n",
       "        vertical-align: top;\n",
       "    }\n",
       "\n",
       "    .dataframe thead tr th {\n",
       "        text-align: left;\n",
       "    }\n",
       "\n",
       "    .dataframe thead tr:last-of-type th {\n",
       "        text-align: right;\n",
       "    }\n",
       "</style>\n",
       "<table border=\"1\" class=\"dataframe\">\n",
       "  <thead>\n",
       "    <tr>\n",
       "      <th></th>\n",
       "      <th colspan=\"8\" halign=\"left\">Sales</th>\n",
       "    </tr>\n",
       "    <tr>\n",
       "      <th></th>\n",
       "      <th>count</th>\n",
       "      <th>mean</th>\n",
       "      <th>std</th>\n",
       "      <th>min</th>\n",
       "      <th>25%</th>\n",
       "      <th>50%</th>\n",
       "      <th>75%</th>\n",
       "      <th>max</th>\n",
       "    </tr>\n",
       "    <tr>\n",
       "      <th>Company</th>\n",
       "      <th></th>\n",
       "      <th></th>\n",
       "      <th></th>\n",
       "      <th></th>\n",
       "      <th></th>\n",
       "      <th></th>\n",
       "      <th></th>\n",
       "      <th></th>\n",
       "    </tr>\n",
       "  </thead>\n",
       "  <tbody>\n",
       "    <tr>\n",
       "      <th>FB</th>\n",
       "      <td>2.0</td>\n",
       "      <td>296.5</td>\n",
       "      <td>75.660426</td>\n",
       "      <td>243.0</td>\n",
       "      <td>269.75</td>\n",
       "      <td>296.5</td>\n",
       "      <td>323.25</td>\n",
       "      <td>350.0</td>\n",
       "    </tr>\n",
       "    <tr>\n",
       "      <th>GOOGLE</th>\n",
       "      <td>2.0</td>\n",
       "      <td>160.0</td>\n",
       "      <td>56.568542</td>\n",
       "      <td>120.0</td>\n",
       "      <td>140.00</td>\n",
       "      <td>160.0</td>\n",
       "      <td>180.00</td>\n",
       "      <td>200.0</td>\n",
       "    </tr>\n",
       "    <tr>\n",
       "      <th>MICROSOFT</th>\n",
       "      <td>2.0</td>\n",
       "      <td>232.0</td>\n",
       "      <td>152.735065</td>\n",
       "      <td>124.0</td>\n",
       "      <td>178.00</td>\n",
       "      <td>232.0</td>\n",
       "      <td>286.00</td>\n",
       "      <td>340.0</td>\n",
       "    </tr>\n",
       "  </tbody>\n",
       "</table>\n",
       "</div>"
      ],
      "text/plain": [
       "          Sales                                                        \n",
       "          count   mean         std    min     25%    50%     75%    max\n",
       "Company                                                                \n",
       "FB          2.0  296.5   75.660426  243.0  269.75  296.5  323.25  350.0\n",
       "GOOGLE      2.0  160.0   56.568542  120.0  140.00  160.0  180.00  200.0\n",
       "MICROSOFT   2.0  232.0  152.735065  124.0  178.00  232.0  286.00  340.0"
      ]
     },
     "execution_count": 185,
     "metadata": {},
     "output_type": "execute_result"
    }
   ],
   "source": [
    "grouped_data.describe()"
   ]
  },
  {
   "cell_type": "code",
   "execution_count": 187,
   "id": "da075281",
   "metadata": {},
   "outputs": [
    {
     "data": {
      "text/html": [
       "<div>\n",
       "<style scoped>\n",
       "    .dataframe tbody tr th:only-of-type {\n",
       "        vertical-align: middle;\n",
       "    }\n",
       "\n",
       "    .dataframe tbody tr th {\n",
       "        vertical-align: top;\n",
       "    }\n",
       "\n",
       "    .dataframe thead th {\n",
       "        text-align: right;\n",
       "    }\n",
       "</style>\n",
       "<table border=\"1\" class=\"dataframe\">\n",
       "  <thead>\n",
       "    <tr style=\"text-align: right;\">\n",
       "      <th></th>\n",
       "      <th>Company</th>\n",
       "      <th>Person</th>\n",
       "      <th>Sales</th>\n",
       "    </tr>\n",
       "  </thead>\n",
       "  <tbody>\n",
       "    <tr>\n",
       "      <th>0</th>\n",
       "      <td>GOOGLE</td>\n",
       "      <td>Sam</td>\n",
       "      <td>200</td>\n",
       "    </tr>\n",
       "    <tr>\n",
       "      <th>1</th>\n",
       "      <td>GOOGLE</td>\n",
       "      <td>Charlie</td>\n",
       "      <td>120</td>\n",
       "    </tr>\n",
       "    <tr>\n",
       "      <th>2</th>\n",
       "      <td>MICROSOFT</td>\n",
       "      <td>Amy</td>\n",
       "      <td>340</td>\n",
       "    </tr>\n",
       "    <tr>\n",
       "      <th>3</th>\n",
       "      <td>MICROSOFT</td>\n",
       "      <td>Vanessa</td>\n",
       "      <td>124</td>\n",
       "    </tr>\n",
       "    <tr>\n",
       "      <th>4</th>\n",
       "      <td>FB</td>\n",
       "      <td>Carl</td>\n",
       "      <td>243</td>\n",
       "    </tr>\n",
       "    <tr>\n",
       "      <th>5</th>\n",
       "      <td>FB</td>\n",
       "      <td>Sarah</td>\n",
       "      <td>350</td>\n",
       "    </tr>\n",
       "  </tbody>\n",
       "</table>\n",
       "</div>"
      ],
      "text/plain": [
       "     Company   Person  Sales\n",
       "0     GOOGLE      Sam    200\n",
       "1     GOOGLE  Charlie    120\n",
       "2  MICROSOFT      Amy    340\n",
       "3  MICROSOFT  Vanessa    124\n",
       "4         FB     Carl    243\n",
       "5         FB    Sarah    350"
      ]
     },
     "execution_count": 187,
     "metadata": {},
     "output_type": "execute_result"
    }
   ],
   "source": [
    "df3"
   ]
  },
  {
   "cell_type": "code",
   "execution_count": 206,
   "id": "0d8461ba",
   "metadata": {},
   "outputs": [],
   "source": [
    "fb_data = df3[df3['Company'] == 'FB']"
   ]
  },
  {
   "cell_type": "code",
   "execution_count": 207,
   "id": "5cd9b472",
   "metadata": {},
   "outputs": [],
   "source": [
    "google_data = df3[df3['Company'] == 'GOOGLE']"
   ]
  },
  {
   "cell_type": "code",
   "execution_count": 208,
   "id": "2a4bcce4",
   "metadata": {},
   "outputs": [],
   "source": [
    "fb_data = fb_data.reset_index()"
   ]
  },
  {
   "cell_type": "code",
   "execution_count": 209,
   "id": "634a1fac",
   "metadata": {},
   "outputs": [
    {
     "data": {
      "text/html": [
       "<div>\n",
       "<style scoped>\n",
       "    .dataframe tbody tr th:only-of-type {\n",
       "        vertical-align: middle;\n",
       "    }\n",
       "\n",
       "    .dataframe tbody tr th {\n",
       "        vertical-align: top;\n",
       "    }\n",
       "\n",
       "    .dataframe thead th {\n",
       "        text-align: right;\n",
       "    }\n",
       "</style>\n",
       "<table border=\"1\" class=\"dataframe\">\n",
       "  <thead>\n",
       "    <tr style=\"text-align: right;\">\n",
       "      <th></th>\n",
       "      <th>index</th>\n",
       "      <th>Company</th>\n",
       "      <th>Person</th>\n",
       "      <th>Sales</th>\n",
       "    </tr>\n",
       "  </thead>\n",
       "  <tbody>\n",
       "    <tr>\n",
       "      <th>0</th>\n",
       "      <td>4</td>\n",
       "      <td>FB</td>\n",
       "      <td>Carl</td>\n",
       "      <td>243</td>\n",
       "    </tr>\n",
       "    <tr>\n",
       "      <th>1</th>\n",
       "      <td>5</td>\n",
       "      <td>FB</td>\n",
       "      <td>Sarah</td>\n",
       "      <td>350</td>\n",
       "    </tr>\n",
       "  </tbody>\n",
       "</table>\n",
       "</div>"
      ],
      "text/plain": [
       "   index Company Person  Sales\n",
       "0      4      FB   Carl    243\n",
       "1      5      FB  Sarah    350"
      ]
     },
     "execution_count": 209,
     "metadata": {},
     "output_type": "execute_result"
    }
   ],
   "source": [
    "fb_data"
   ]
  },
  {
   "cell_type": "code",
   "execution_count": 201,
   "id": "9e2bd52f",
   "metadata": {},
   "outputs": [],
   "source": [
    "google_data = google_data.reset_index()"
   ]
  },
  {
   "cell_type": "code",
   "execution_count": 203,
   "id": "dbb344e5",
   "metadata": {},
   "outputs": [
    {
     "data": {
      "text/plain": [
       "0     43\n",
       "1    230\n",
       "Name: Sales, dtype: int64"
      ]
     },
     "execution_count": 203,
     "metadata": {},
     "output_type": "execute_result"
    }
   ],
   "source": [
    "fb_data['Sales'] - google_data['Sales']"
   ]
  },
  {
   "cell_type": "code",
   "execution_count": null,
   "id": "b5827413",
   "metadata": {},
   "outputs": [],
   "source": []
  },
  {
   "cell_type": "code",
   "execution_count": 214,
   "id": "c7244650",
   "metadata": {},
   "outputs": [],
   "source": [
    "ser1 = pd.Series(['c','a','d','a','a','b','b','c','c'])"
   ]
  },
  {
   "cell_type": "code",
   "execution_count": 215,
   "id": "70a046d8",
   "metadata": {},
   "outputs": [
    {
     "data": {
      "text/plain": [
       "array(['c', 'a', 'd', 'b'], dtype=object)"
      ]
     },
     "execution_count": 215,
     "metadata": {},
     "output_type": "execute_result"
    }
   ],
   "source": [
    "ser1.unique()"
   ]
  },
  {
   "cell_type": "code",
   "execution_count": 216,
   "id": "9bce4737",
   "metadata": {},
   "outputs": [
    {
     "data": {
      "text/plain": [
       "c    3\n",
       "a    3\n",
       "b    2\n",
       "d    1\n",
       "dtype: int64"
      ]
     },
     "execution_count": 216,
     "metadata": {},
     "output_type": "execute_result"
    }
   ],
   "source": [
    "ser1.value_counts()"
   ]
  },
  {
   "cell_type": "code",
   "execution_count": 217,
   "id": "4e11cf8b",
   "metadata": {},
   "outputs": [
    {
     "data": {
      "text/html": [
       "<div>\n",
       "<style scoped>\n",
       "    .dataframe tbody tr th:only-of-type {\n",
       "        vertical-align: middle;\n",
       "    }\n",
       "\n",
       "    .dataframe tbody tr th {\n",
       "        vertical-align: top;\n",
       "    }\n",
       "\n",
       "    .dataframe thead th {\n",
       "        text-align: right;\n",
       "    }\n",
       "</style>\n",
       "<table border=\"1\" class=\"dataframe\">\n",
       "  <thead>\n",
       "    <tr style=\"text-align: right;\">\n",
       "      <th></th>\n",
       "      <th>name</th>\n",
       "      <th>class</th>\n",
       "      <th>lectures</th>\n",
       "      <th>grades</th>\n",
       "      <th>credits</th>\n",
       "      <th>retake</th>\n",
       "      <th>ClassType</th>\n",
       "      <th>FirstName</th>\n",
       "      <th>LastName</th>\n",
       "    </tr>\n",
       "  </thead>\n",
       "  <tbody>\n",
       "    <tr>\n",
       "      <th>0</th>\n",
       "      <td>Benjamin Duran</td>\n",
       "      <td>A</td>\n",
       "      <td>Maths</td>\n",
       "      <td>90</td>\n",
       "      <td>6</td>\n",
       "      <td>No</td>\n",
       "      <td>Distinction</td>\n",
       "      <td>Benjamin</td>\n",
       "      <td>Duran</td>\n",
       "    </tr>\n",
       "    <tr>\n",
       "      <th>1</th>\n",
       "      <td>Benjamin Duran</td>\n",
       "      <td>A</td>\n",
       "      <td>Chemistry</td>\n",
       "      <td>54</td>\n",
       "      <td>6</td>\n",
       "      <td>No</td>\n",
       "      <td>Second Class</td>\n",
       "      <td>Benjamin</td>\n",
       "      <td>Duran</td>\n",
       "    </tr>\n",
       "    <tr>\n",
       "      <th>2</th>\n",
       "      <td>Benjamin Duran</td>\n",
       "      <td>A</td>\n",
       "      <td>Physics</td>\n",
       "      <td>77</td>\n",
       "      <td>6</td>\n",
       "      <td>No</td>\n",
       "      <td>Distinction</td>\n",
       "      <td>Benjamin</td>\n",
       "      <td>Duran</td>\n",
       "    </tr>\n",
       "    <tr>\n",
       "      <th>3</th>\n",
       "      <td>Benjamin Duran</td>\n",
       "      <td>A</td>\n",
       "      <td>History</td>\n",
       "      <td>22</td>\n",
       "      <td>5</td>\n",
       "      <td>Yes</td>\n",
       "      <td>Fail</td>\n",
       "      <td>Benjamin</td>\n",
       "      <td>Duran</td>\n",
       "    </tr>\n",
       "    <tr>\n",
       "      <th>4</th>\n",
       "      <td>Benjamin Duran</td>\n",
       "      <td>A</td>\n",
       "      <td>Geography</td>\n",
       "      <td>25</td>\n",
       "      <td>5</td>\n",
       "      <td>Yes</td>\n",
       "      <td>Fail</td>\n",
       "      <td>Benjamin</td>\n",
       "      <td>Duran</td>\n",
       "    </tr>\n",
       "    <tr>\n",
       "      <th>5</th>\n",
       "      <td>Benjamin Duran</td>\n",
       "      <td>A</td>\n",
       "      <td>Science</td>\n",
       "      <td>70</td>\n",
       "      <td>4</td>\n",
       "      <td>No</td>\n",
       "      <td>First Class</td>\n",
       "      <td>Benjamin</td>\n",
       "      <td>Duran</td>\n",
       "    </tr>\n",
       "    <tr>\n",
       "      <th>6</th>\n",
       "      <td>Safila Hatfield</td>\n",
       "      <td>B</td>\n",
       "      <td>Maths</td>\n",
       "      <td>90</td>\n",
       "      <td>6</td>\n",
       "      <td>No</td>\n",
       "      <td>Distinction</td>\n",
       "      <td>Safila</td>\n",
       "      <td>Hatfield</td>\n",
       "    </tr>\n",
       "    <tr>\n",
       "      <th>7</th>\n",
       "      <td>Safila Hatfield</td>\n",
       "      <td>B</td>\n",
       "      <td>Chemistry</td>\n",
       "      <td>90</td>\n",
       "      <td>6</td>\n",
       "      <td>No</td>\n",
       "      <td>Distinction</td>\n",
       "      <td>Safila</td>\n",
       "      <td>Hatfield</td>\n",
       "    </tr>\n",
       "    <tr>\n",
       "      <th>8</th>\n",
       "      <td>Safila Hatfield</td>\n",
       "      <td>B</td>\n",
       "      <td>Physics</td>\n",
       "      <td>90</td>\n",
       "      <td>6</td>\n",
       "      <td>No</td>\n",
       "      <td>Distinction</td>\n",
       "      <td>Safila</td>\n",
       "      <td>Hatfield</td>\n",
       "    </tr>\n",
       "    <tr>\n",
       "      <th>9</th>\n",
       "      <td>Safila Hatfield</td>\n",
       "      <td>B</td>\n",
       "      <td>History</td>\n",
       "      <td>45</td>\n",
       "      <td>5</td>\n",
       "      <td>No</td>\n",
       "      <td>Second Class</td>\n",
       "      <td>Safila</td>\n",
       "      <td>Hatfield</td>\n",
       "    </tr>\n",
       "    <tr>\n",
       "      <th>10</th>\n",
       "      <td>Safila Hatfield</td>\n",
       "      <td>B</td>\n",
       "      <td>Geography</td>\n",
       "      <td>90</td>\n",
       "      <td>5</td>\n",
       "      <td>No</td>\n",
       "      <td>Distinction</td>\n",
       "      <td>Safila</td>\n",
       "      <td>Hatfield</td>\n",
       "    </tr>\n",
       "    <tr>\n",
       "      <th>11</th>\n",
       "      <td>Safila Hatfield</td>\n",
       "      <td>B</td>\n",
       "      <td>Science</td>\n",
       "      <td>90</td>\n",
       "      <td>4</td>\n",
       "      <td>No</td>\n",
       "      <td>Distinction</td>\n",
       "      <td>Safila</td>\n",
       "      <td>Hatfield</td>\n",
       "    </tr>\n",
       "    <tr>\n",
       "      <th>12</th>\n",
       "      <td>Toni Doyle</td>\n",
       "      <td>C</td>\n",
       "      <td>Maths</td>\n",
       "      <td>70</td>\n",
       "      <td>6</td>\n",
       "      <td>No</td>\n",
       "      <td>First Class</td>\n",
       "      <td>Toni</td>\n",
       "      <td>Doyle</td>\n",
       "    </tr>\n",
       "    <tr>\n",
       "      <th>13</th>\n",
       "      <td>Toni Doyle</td>\n",
       "      <td>C</td>\n",
       "      <td>Chemistry</td>\n",
       "      <td>44</td>\n",
       "      <td>6</td>\n",
       "      <td>Yes</td>\n",
       "      <td>Pass Class</td>\n",
       "      <td>Toni</td>\n",
       "      <td>Doyle</td>\n",
       "    </tr>\n",
       "    <tr>\n",
       "      <th>14</th>\n",
       "      <td>Toni Doyle</td>\n",
       "      <td>C</td>\n",
       "      <td>Physics</td>\n",
       "      <td>56</td>\n",
       "      <td>6</td>\n",
       "      <td>No</td>\n",
       "      <td>Second Class</td>\n",
       "      <td>Toni</td>\n",
       "      <td>Doyle</td>\n",
       "    </tr>\n",
       "    <tr>\n",
       "      <th>15</th>\n",
       "      <td>Toni Doyle</td>\n",
       "      <td>C</td>\n",
       "      <td>History</td>\n",
       "      <td>77</td>\n",
       "      <td>5</td>\n",
       "      <td>No</td>\n",
       "      <td>Distinction</td>\n",
       "      <td>Toni</td>\n",
       "      <td>Doyle</td>\n",
       "    </tr>\n",
       "    <tr>\n",
       "      <th>16</th>\n",
       "      <td>Toni Doyle</td>\n",
       "      <td>C</td>\n",
       "      <td>Geography</td>\n",
       "      <td>35</td>\n",
       "      <td>5</td>\n",
       "      <td>Yes</td>\n",
       "      <td>Pass Class</td>\n",
       "      <td>Toni</td>\n",
       "      <td>Doyle</td>\n",
       "    </tr>\n",
       "    <tr>\n",
       "      <th>17</th>\n",
       "      <td>Toni Doyle</td>\n",
       "      <td>C</td>\n",
       "      <td>Science</td>\n",
       "      <td>99</td>\n",
       "      <td>4</td>\n",
       "      <td>No</td>\n",
       "      <td>Distinction</td>\n",
       "      <td>Toni</td>\n",
       "      <td>Doyle</td>\n",
       "    </tr>\n",
       "  </tbody>\n",
       "</table>\n",
       "</div>"
      ],
      "text/plain": [
       "               name class   lectures  grades  credits retake     ClassType  \\\n",
       "0    Benjamin Duran     A      Maths      90        6     No   Distinction   \n",
       "1    Benjamin Duran     A  Chemistry      54        6     No  Second Class   \n",
       "2    Benjamin Duran     A    Physics      77        6     No   Distinction   \n",
       "3    Benjamin Duran     A    History      22        5    Yes          Fail   \n",
       "4    Benjamin Duran     A  Geography      25        5    Yes          Fail   \n",
       "5    Benjamin Duran     A    Science      70        4     No   First Class   \n",
       "6   Safila Hatfield     B      Maths      90        6     No   Distinction   \n",
       "7   Safila Hatfield     B  Chemistry      90        6     No   Distinction   \n",
       "8   Safila Hatfield     B    Physics      90        6     No   Distinction   \n",
       "9   Safila Hatfield     B    History      45        5     No  Second Class   \n",
       "10  Safila Hatfield     B  Geography      90        5     No   Distinction   \n",
       "11  Safila Hatfield     B    Science      90        4     No   Distinction   \n",
       "12       Toni Doyle     C      Maths      70        6     No   First Class   \n",
       "13       Toni Doyle     C  Chemistry      44        6    Yes    Pass Class   \n",
       "14       Toni Doyle     C    Physics      56        6     No  Second Class   \n",
       "15       Toni Doyle     C    History      77        5     No   Distinction   \n",
       "16       Toni Doyle     C  Geography      35        5    Yes    Pass Class   \n",
       "17       Toni Doyle     C    Science      99        4     No   Distinction   \n",
       "\n",
       "   FirstName  LastName  \n",
       "0   Benjamin     Duran  \n",
       "1   Benjamin     Duran  \n",
       "2   Benjamin     Duran  \n",
       "3   Benjamin     Duran  \n",
       "4   Benjamin     Duran  \n",
       "5   Benjamin     Duran  \n",
       "6     Safila  Hatfield  \n",
       "7     Safila  Hatfield  \n",
       "8     Safila  Hatfield  \n",
       "9     Safila  Hatfield  \n",
       "10    Safila  Hatfield  \n",
       "11    Safila  Hatfield  \n",
       "12      Toni     Doyle  \n",
       "13      Toni     Doyle  \n",
       "14      Toni     Doyle  \n",
       "15      Toni     Doyle  \n",
       "16      Toni     Doyle  \n",
       "17      Toni     Doyle  "
      ]
     },
     "execution_count": 217,
     "metadata": {},
     "output_type": "execute_result"
    }
   ],
   "source": [
    "data"
   ]
  },
  {
   "cell_type": "code",
   "execution_count": 218,
   "id": "c630c821",
   "metadata": {},
   "outputs": [
    {
     "data": {
      "text/plain": [
       "Benjamin    6\n",
       "Safila      6\n",
       "Toni        6\n",
       "Name: FirstName, dtype: int64"
      ]
     },
     "execution_count": 218,
     "metadata": {},
     "output_type": "execute_result"
    }
   ],
   "source": [
    "data['FirstName'].value_counts()"
   ]
  },
  {
   "cell_type": "code",
   "execution_count": 220,
   "id": "3d2eb0ae",
   "metadata": {},
   "outputs": [
    {
     "data": {
      "text/html": [
       "<div>\n",
       "<style scoped>\n",
       "    .dataframe tbody tr th:only-of-type {\n",
       "        vertical-align: middle;\n",
       "    }\n",
       "\n",
       "    .dataframe tbody tr th {\n",
       "        vertical-align: top;\n",
       "    }\n",
       "\n",
       "    .dataframe thead th {\n",
       "        text-align: right;\n",
       "    }\n",
       "</style>\n",
       "<table border=\"1\" class=\"dataframe\">\n",
       "  <thead>\n",
       "    <tr style=\"text-align: right;\">\n",
       "      <th></th>\n",
       "      <th>Company</th>\n",
       "      <th>Person</th>\n",
       "      <th>Sales</th>\n",
       "    </tr>\n",
       "  </thead>\n",
       "  <tbody>\n",
       "    <tr>\n",
       "      <th>0</th>\n",
       "      <td>GOOGLE</td>\n",
       "      <td>Sam</td>\n",
       "      <td>200</td>\n",
       "    </tr>\n",
       "    <tr>\n",
       "      <th>1</th>\n",
       "      <td>GOOGLE</td>\n",
       "      <td>Charlie</td>\n",
       "      <td>120</td>\n",
       "    </tr>\n",
       "    <tr>\n",
       "      <th>2</th>\n",
       "      <td>MICROSOFT</td>\n",
       "      <td>Amy</td>\n",
       "      <td>340</td>\n",
       "    </tr>\n",
       "    <tr>\n",
       "      <th>3</th>\n",
       "      <td>MICROSOFT</td>\n",
       "      <td>Vanessa</td>\n",
       "      <td>124</td>\n",
       "    </tr>\n",
       "    <tr>\n",
       "      <th>4</th>\n",
       "      <td>FB</td>\n",
       "      <td>Carl</td>\n",
       "      <td>243</td>\n",
       "    </tr>\n",
       "    <tr>\n",
       "      <th>5</th>\n",
       "      <td>FB</td>\n",
       "      <td>Sarah</td>\n",
       "      <td>350</td>\n",
       "    </tr>\n",
       "  </tbody>\n",
       "</table>\n",
       "</div>"
      ],
      "text/plain": [
       "     Company   Person  Sales\n",
       "0     GOOGLE      Sam    200\n",
       "1     GOOGLE  Charlie    120\n",
       "2  MICROSOFT      Amy    340\n",
       "3  MICROSOFT  Vanessa    124\n",
       "4         FB     Carl    243\n",
       "5         FB    Sarah    350"
      ]
     },
     "execution_count": 220,
     "metadata": {},
     "output_type": "execute_result"
    }
   ],
   "source": [
    "df3"
   ]
  },
  {
   "cell_type": "code",
   "execution_count": 221,
   "id": "fc99c74c",
   "metadata": {},
   "outputs": [],
   "source": [
    "new_data = df3[((df3['Company'] == 'GOOGLE') | (df3['Company'] == 'FB'))]"
   ]
  },
  {
   "cell_type": "code",
   "execution_count": 222,
   "id": "2af0339b",
   "metadata": {},
   "outputs": [
    {
     "data": {
      "text/html": [
       "<div>\n",
       "<style scoped>\n",
       "    .dataframe tbody tr th:only-of-type {\n",
       "        vertical-align: middle;\n",
       "    }\n",
       "\n",
       "    .dataframe tbody tr th {\n",
       "        vertical-align: top;\n",
       "    }\n",
       "\n",
       "    .dataframe thead th {\n",
       "        text-align: right;\n",
       "    }\n",
       "</style>\n",
       "<table border=\"1\" class=\"dataframe\">\n",
       "  <thead>\n",
       "    <tr style=\"text-align: right;\">\n",
       "      <th></th>\n",
       "      <th>Company</th>\n",
       "      <th>Person</th>\n",
       "      <th>Sales</th>\n",
       "    </tr>\n",
       "  </thead>\n",
       "  <tbody>\n",
       "    <tr>\n",
       "      <th>0</th>\n",
       "      <td>GOOGLE</td>\n",
       "      <td>Sam</td>\n",
       "      <td>200</td>\n",
       "    </tr>\n",
       "    <tr>\n",
       "      <th>1</th>\n",
       "      <td>GOOGLE</td>\n",
       "      <td>Charlie</td>\n",
       "      <td>120</td>\n",
       "    </tr>\n",
       "    <tr>\n",
       "      <th>4</th>\n",
       "      <td>FB</td>\n",
       "      <td>Carl</td>\n",
       "      <td>243</td>\n",
       "    </tr>\n",
       "    <tr>\n",
       "      <th>5</th>\n",
       "      <td>FB</td>\n",
       "      <td>Sarah</td>\n",
       "      <td>350</td>\n",
       "    </tr>\n",
       "  </tbody>\n",
       "</table>\n",
       "</div>"
      ],
      "text/plain": [
       "  Company   Person  Sales\n",
       "0  GOOGLE      Sam    200\n",
       "1  GOOGLE  Charlie    120\n",
       "4      FB     Carl    243\n",
       "5      FB    Sarah    350"
      ]
     },
     "execution_count": 222,
     "metadata": {},
     "output_type": "execute_result"
    }
   ],
   "source": [
    "new_data"
   ]
  },
  {
   "cell_type": "markdown",
   "id": "0c007f3d",
   "metadata": {},
   "source": [
    "## Concatination"
   ]
  },
  {
   "cell_type": "code",
   "execution_count": 223,
   "id": "ccf58d88",
   "metadata": {},
   "outputs": [],
   "source": [
    "df4 = pd.DataFrame({\n",
    "    'A' : ['A0','A1','A2','A3'],\n",
    "    'B':['B0','B1','B2','B3'],\n",
    "    'C':['C0','C1','C2','C3'],\n",
    "    'D':['D0','D1','D2','D3']\n",
    "},index=[0,1,2,3])"
   ]
  },
  {
   "cell_type": "code",
   "execution_count": 224,
   "id": "3172da06",
   "metadata": {},
   "outputs": [
    {
     "data": {
      "text/html": [
       "<div>\n",
       "<style scoped>\n",
       "    .dataframe tbody tr th:only-of-type {\n",
       "        vertical-align: middle;\n",
       "    }\n",
       "\n",
       "    .dataframe tbody tr th {\n",
       "        vertical-align: top;\n",
       "    }\n",
       "\n",
       "    .dataframe thead th {\n",
       "        text-align: right;\n",
       "    }\n",
       "</style>\n",
       "<table border=\"1\" class=\"dataframe\">\n",
       "  <thead>\n",
       "    <tr style=\"text-align: right;\">\n",
       "      <th></th>\n",
       "      <th>A</th>\n",
       "      <th>B</th>\n",
       "      <th>C</th>\n",
       "      <th>D</th>\n",
       "    </tr>\n",
       "  </thead>\n",
       "  <tbody>\n",
       "    <tr>\n",
       "      <th>0</th>\n",
       "      <td>A0</td>\n",
       "      <td>B0</td>\n",
       "      <td>C0</td>\n",
       "      <td>D0</td>\n",
       "    </tr>\n",
       "    <tr>\n",
       "      <th>1</th>\n",
       "      <td>A1</td>\n",
       "      <td>B1</td>\n",
       "      <td>C1</td>\n",
       "      <td>D1</td>\n",
       "    </tr>\n",
       "    <tr>\n",
       "      <th>2</th>\n",
       "      <td>A2</td>\n",
       "      <td>B2</td>\n",
       "      <td>C2</td>\n",
       "      <td>D2</td>\n",
       "    </tr>\n",
       "    <tr>\n",
       "      <th>3</th>\n",
       "      <td>A3</td>\n",
       "      <td>B3</td>\n",
       "      <td>C3</td>\n",
       "      <td>D3</td>\n",
       "    </tr>\n",
       "  </tbody>\n",
       "</table>\n",
       "</div>"
      ],
      "text/plain": [
       "    A   B   C   D\n",
       "0  A0  B0  C0  D0\n",
       "1  A1  B1  C1  D1\n",
       "2  A2  B2  C2  D2\n",
       "3  A3  B3  C3  D3"
      ]
     },
     "execution_count": 224,
     "metadata": {},
     "output_type": "execute_result"
    }
   ],
   "source": [
    "df4"
   ]
  },
  {
   "cell_type": "code",
   "execution_count": 225,
   "id": "fbc9748f",
   "metadata": {},
   "outputs": [],
   "source": [
    "df5 = pd.DataFrame({\n",
    "    'A' : ['A4','A5','A6','A7'],\n",
    "    'B':['B4','B5','B6','B7'],\n",
    "    'C':['C4','C5','C6','C7'],\n",
    "    'D':['D4','D5','D6','D7']\n",
    "},index=[4,5,6,7])"
   ]
  },
  {
   "cell_type": "code",
   "execution_count": 226,
   "id": "44e5f20e",
   "metadata": {},
   "outputs": [
    {
     "data": {
      "text/html": [
       "<div>\n",
       "<style scoped>\n",
       "    .dataframe tbody tr th:only-of-type {\n",
       "        vertical-align: middle;\n",
       "    }\n",
       "\n",
       "    .dataframe tbody tr th {\n",
       "        vertical-align: top;\n",
       "    }\n",
       "\n",
       "    .dataframe thead th {\n",
       "        text-align: right;\n",
       "    }\n",
       "</style>\n",
       "<table border=\"1\" class=\"dataframe\">\n",
       "  <thead>\n",
       "    <tr style=\"text-align: right;\">\n",
       "      <th></th>\n",
       "      <th>A</th>\n",
       "      <th>B</th>\n",
       "      <th>C</th>\n",
       "      <th>D</th>\n",
       "    </tr>\n",
       "  </thead>\n",
       "  <tbody>\n",
       "    <tr>\n",
       "      <th>4</th>\n",
       "      <td>A4</td>\n",
       "      <td>B4</td>\n",
       "      <td>C4</td>\n",
       "      <td>D4</td>\n",
       "    </tr>\n",
       "    <tr>\n",
       "      <th>5</th>\n",
       "      <td>A5</td>\n",
       "      <td>B5</td>\n",
       "      <td>C5</td>\n",
       "      <td>D5</td>\n",
       "    </tr>\n",
       "    <tr>\n",
       "      <th>6</th>\n",
       "      <td>A6</td>\n",
       "      <td>B6</td>\n",
       "      <td>C6</td>\n",
       "      <td>D6</td>\n",
       "    </tr>\n",
       "    <tr>\n",
       "      <th>7</th>\n",
       "      <td>A7</td>\n",
       "      <td>B7</td>\n",
       "      <td>C7</td>\n",
       "      <td>D7</td>\n",
       "    </tr>\n",
       "  </tbody>\n",
       "</table>\n",
       "</div>"
      ],
      "text/plain": [
       "    A   B   C   D\n",
       "4  A4  B4  C4  D4\n",
       "5  A5  B5  C5  D5\n",
       "6  A6  B6  C6  D6\n",
       "7  A7  B7  C7  D7"
      ]
     },
     "execution_count": 226,
     "metadata": {},
     "output_type": "execute_result"
    }
   ],
   "source": [
    "df5"
   ]
  },
  {
   "cell_type": "code",
   "execution_count": 227,
   "id": "1fe8c679",
   "metadata": {},
   "outputs": [],
   "source": [
    "df6 = pd.DataFrame({\n",
    "    'A' : ['A8','A9','A10','A11'],\n",
    "    'B':['B8','B9','B10','B11'],\n",
    "    'C':['C8','C9','C10','C11'],\n",
    "    'D':['D8','D9','D10','D11']\n",
    "},index=[8,9,10,11])"
   ]
  },
  {
   "cell_type": "code",
   "execution_count": 228,
   "id": "51273a20",
   "metadata": {},
   "outputs": [
    {
     "data": {
      "text/html": [
       "<div>\n",
       "<style scoped>\n",
       "    .dataframe tbody tr th:only-of-type {\n",
       "        vertical-align: middle;\n",
       "    }\n",
       "\n",
       "    .dataframe tbody tr th {\n",
       "        vertical-align: top;\n",
       "    }\n",
       "\n",
       "    .dataframe thead th {\n",
       "        text-align: right;\n",
       "    }\n",
       "</style>\n",
       "<table border=\"1\" class=\"dataframe\">\n",
       "  <thead>\n",
       "    <tr style=\"text-align: right;\">\n",
       "      <th></th>\n",
       "      <th>A</th>\n",
       "      <th>B</th>\n",
       "      <th>C</th>\n",
       "      <th>D</th>\n",
       "    </tr>\n",
       "  </thead>\n",
       "  <tbody>\n",
       "    <tr>\n",
       "      <th>8</th>\n",
       "      <td>A8</td>\n",
       "      <td>B8</td>\n",
       "      <td>C8</td>\n",
       "      <td>D8</td>\n",
       "    </tr>\n",
       "    <tr>\n",
       "      <th>9</th>\n",
       "      <td>A9</td>\n",
       "      <td>B9</td>\n",
       "      <td>C9</td>\n",
       "      <td>D9</td>\n",
       "    </tr>\n",
       "    <tr>\n",
       "      <th>10</th>\n",
       "      <td>A10</td>\n",
       "      <td>B10</td>\n",
       "      <td>C10</td>\n",
       "      <td>D10</td>\n",
       "    </tr>\n",
       "    <tr>\n",
       "      <th>11</th>\n",
       "      <td>A11</td>\n",
       "      <td>B11</td>\n",
       "      <td>C11</td>\n",
       "      <td>D11</td>\n",
       "    </tr>\n",
       "  </tbody>\n",
       "</table>\n",
       "</div>"
      ],
      "text/plain": [
       "      A    B    C    D\n",
       "8    A8   B8   C8   D8\n",
       "9    A9   B9   C9   D9\n",
       "10  A10  B10  C10  D10\n",
       "11  A11  B11  C11  D11"
      ]
     },
     "execution_count": 228,
     "metadata": {},
     "output_type": "execute_result"
    }
   ],
   "source": [
    "df6"
   ]
  },
  {
   "cell_type": "code",
   "execution_count": 229,
   "id": "f030403f",
   "metadata": {},
   "outputs": [
    {
     "data": {
      "text/html": [
       "<div>\n",
       "<style scoped>\n",
       "    .dataframe tbody tr th:only-of-type {\n",
       "        vertical-align: middle;\n",
       "    }\n",
       "\n",
       "    .dataframe tbody tr th {\n",
       "        vertical-align: top;\n",
       "    }\n",
       "\n",
       "    .dataframe thead th {\n",
       "        text-align: right;\n",
       "    }\n",
       "</style>\n",
       "<table border=\"1\" class=\"dataframe\">\n",
       "  <thead>\n",
       "    <tr style=\"text-align: right;\">\n",
       "      <th></th>\n",
       "      <th>A</th>\n",
       "      <th>B</th>\n",
       "      <th>C</th>\n",
       "      <th>D</th>\n",
       "    </tr>\n",
       "  </thead>\n",
       "  <tbody>\n",
       "    <tr>\n",
       "      <th>0</th>\n",
       "      <td>A0</td>\n",
       "      <td>B0</td>\n",
       "      <td>C0</td>\n",
       "      <td>D0</td>\n",
       "    </tr>\n",
       "    <tr>\n",
       "      <th>1</th>\n",
       "      <td>A1</td>\n",
       "      <td>B1</td>\n",
       "      <td>C1</td>\n",
       "      <td>D1</td>\n",
       "    </tr>\n",
       "    <tr>\n",
       "      <th>2</th>\n",
       "      <td>A2</td>\n",
       "      <td>B2</td>\n",
       "      <td>C2</td>\n",
       "      <td>D2</td>\n",
       "    </tr>\n",
       "    <tr>\n",
       "      <th>3</th>\n",
       "      <td>A3</td>\n",
       "      <td>B3</td>\n",
       "      <td>C3</td>\n",
       "      <td>D3</td>\n",
       "    </tr>\n",
       "    <tr>\n",
       "      <th>4</th>\n",
       "      <td>A4</td>\n",
       "      <td>B4</td>\n",
       "      <td>C4</td>\n",
       "      <td>D4</td>\n",
       "    </tr>\n",
       "    <tr>\n",
       "      <th>5</th>\n",
       "      <td>A5</td>\n",
       "      <td>B5</td>\n",
       "      <td>C5</td>\n",
       "      <td>D5</td>\n",
       "    </tr>\n",
       "    <tr>\n",
       "      <th>6</th>\n",
       "      <td>A6</td>\n",
       "      <td>B6</td>\n",
       "      <td>C6</td>\n",
       "      <td>D6</td>\n",
       "    </tr>\n",
       "    <tr>\n",
       "      <th>7</th>\n",
       "      <td>A7</td>\n",
       "      <td>B7</td>\n",
       "      <td>C7</td>\n",
       "      <td>D7</td>\n",
       "    </tr>\n",
       "    <tr>\n",
       "      <th>8</th>\n",
       "      <td>A8</td>\n",
       "      <td>B8</td>\n",
       "      <td>C8</td>\n",
       "      <td>D8</td>\n",
       "    </tr>\n",
       "    <tr>\n",
       "      <th>9</th>\n",
       "      <td>A9</td>\n",
       "      <td>B9</td>\n",
       "      <td>C9</td>\n",
       "      <td>D9</td>\n",
       "    </tr>\n",
       "    <tr>\n",
       "      <th>10</th>\n",
       "      <td>A10</td>\n",
       "      <td>B10</td>\n",
       "      <td>C10</td>\n",
       "      <td>D10</td>\n",
       "    </tr>\n",
       "    <tr>\n",
       "      <th>11</th>\n",
       "      <td>A11</td>\n",
       "      <td>B11</td>\n",
       "      <td>C11</td>\n",
       "      <td>D11</td>\n",
       "    </tr>\n",
       "  </tbody>\n",
       "</table>\n",
       "</div>"
      ],
      "text/plain": [
       "      A    B    C    D\n",
       "0    A0   B0   C0   D0\n",
       "1    A1   B1   C1   D1\n",
       "2    A2   B2   C2   D2\n",
       "3    A3   B3   C3   D3\n",
       "4    A4   B4   C4   D4\n",
       "5    A5   B5   C5   D5\n",
       "6    A6   B6   C6   D6\n",
       "7    A7   B7   C7   D7\n",
       "8    A8   B8   C8   D8\n",
       "9    A9   B9   C9   D9\n",
       "10  A10  B10  C10  D10\n",
       "11  A11  B11  C11  D11"
      ]
     },
     "execution_count": 229,
     "metadata": {},
     "output_type": "execute_result"
    }
   ],
   "source": [
    "pd.concat([df4,df5,df6])"
   ]
  },
  {
   "cell_type": "code",
   "execution_count": null,
   "id": "a2124ce1",
   "metadata": {},
   "outputs": [],
   "source": []
  },
  {
   "cell_type": "code",
   "execution_count": 230,
   "id": "41c3e4cc",
   "metadata": {},
   "outputs": [],
   "source": [
    "df8 = pd.DataFrame({\n",
    "    'A' : ['A0','A1','A2','A3'],\n",
    "    'B':['B0','B1','B2','B3'],\n",
    "    'C':['C0','C1','C2','C3'],\n",
    "    'D':['D0','D1','D2','D3']\n",
    "},index=[0,1,2,3])\n",
    "\n",
    "\n",
    "df9 = pd.DataFrame({\n",
    "    'A' : ['A8','A9','A10','A11'],\n",
    "    'B':['B8','B9','B10','B11'],\n",
    "    'C':['C8','C9','C10','C11'],\n",
    "    'D':['D8','D9','D10','D11']\n",
    "},index=[0,1,2,3])"
   ]
  },
  {
   "cell_type": "code",
   "execution_count": 231,
   "id": "e4820b15",
   "metadata": {},
   "outputs": [
    {
     "data": {
      "text/html": [
       "<div>\n",
       "<style scoped>\n",
       "    .dataframe tbody tr th:only-of-type {\n",
       "        vertical-align: middle;\n",
       "    }\n",
       "\n",
       "    .dataframe tbody tr th {\n",
       "        vertical-align: top;\n",
       "    }\n",
       "\n",
       "    .dataframe thead th {\n",
       "        text-align: right;\n",
       "    }\n",
       "</style>\n",
       "<table border=\"1\" class=\"dataframe\">\n",
       "  <thead>\n",
       "    <tr style=\"text-align: right;\">\n",
       "      <th></th>\n",
       "      <th>A</th>\n",
       "      <th>B</th>\n",
       "      <th>C</th>\n",
       "      <th>D</th>\n",
       "    </tr>\n",
       "  </thead>\n",
       "  <tbody>\n",
       "    <tr>\n",
       "      <th>0</th>\n",
       "      <td>A0</td>\n",
       "      <td>B0</td>\n",
       "      <td>C0</td>\n",
       "      <td>D0</td>\n",
       "    </tr>\n",
       "    <tr>\n",
       "      <th>1</th>\n",
       "      <td>A1</td>\n",
       "      <td>B1</td>\n",
       "      <td>C1</td>\n",
       "      <td>D1</td>\n",
       "    </tr>\n",
       "    <tr>\n",
       "      <th>2</th>\n",
       "      <td>A2</td>\n",
       "      <td>B2</td>\n",
       "      <td>C2</td>\n",
       "      <td>D2</td>\n",
       "    </tr>\n",
       "    <tr>\n",
       "      <th>3</th>\n",
       "      <td>A3</td>\n",
       "      <td>B3</td>\n",
       "      <td>C3</td>\n",
       "      <td>D3</td>\n",
       "    </tr>\n",
       "  </tbody>\n",
       "</table>\n",
       "</div>"
      ],
      "text/plain": [
       "    A   B   C   D\n",
       "0  A0  B0  C0  D0\n",
       "1  A1  B1  C1  D1\n",
       "2  A2  B2  C2  D2\n",
       "3  A3  B3  C3  D3"
      ]
     },
     "execution_count": 231,
     "metadata": {},
     "output_type": "execute_result"
    }
   ],
   "source": [
    "df8"
   ]
  },
  {
   "cell_type": "code",
   "execution_count": 232,
   "id": "f3a0bbc1",
   "metadata": {},
   "outputs": [
    {
     "data": {
      "text/html": [
       "<div>\n",
       "<style scoped>\n",
       "    .dataframe tbody tr th:only-of-type {\n",
       "        vertical-align: middle;\n",
       "    }\n",
       "\n",
       "    .dataframe tbody tr th {\n",
       "        vertical-align: top;\n",
       "    }\n",
       "\n",
       "    .dataframe thead th {\n",
       "        text-align: right;\n",
       "    }\n",
       "</style>\n",
       "<table border=\"1\" class=\"dataframe\">\n",
       "  <thead>\n",
       "    <tr style=\"text-align: right;\">\n",
       "      <th></th>\n",
       "      <th>A</th>\n",
       "      <th>B</th>\n",
       "      <th>C</th>\n",
       "      <th>D</th>\n",
       "    </tr>\n",
       "  </thead>\n",
       "  <tbody>\n",
       "    <tr>\n",
       "      <th>0</th>\n",
       "      <td>A8</td>\n",
       "      <td>B8</td>\n",
       "      <td>C8</td>\n",
       "      <td>D8</td>\n",
       "    </tr>\n",
       "    <tr>\n",
       "      <th>1</th>\n",
       "      <td>A9</td>\n",
       "      <td>B9</td>\n",
       "      <td>C9</td>\n",
       "      <td>D9</td>\n",
       "    </tr>\n",
       "    <tr>\n",
       "      <th>2</th>\n",
       "      <td>A10</td>\n",
       "      <td>B10</td>\n",
       "      <td>C10</td>\n",
       "      <td>D10</td>\n",
       "    </tr>\n",
       "    <tr>\n",
       "      <th>3</th>\n",
       "      <td>A11</td>\n",
       "      <td>B11</td>\n",
       "      <td>C11</td>\n",
       "      <td>D11</td>\n",
       "    </tr>\n",
       "  </tbody>\n",
       "</table>\n",
       "</div>"
      ],
      "text/plain": [
       "     A    B    C    D\n",
       "0   A8   B8   C8   D8\n",
       "1   A9   B9   C9   D9\n",
       "2  A10  B10  C10  D10\n",
       "3  A11  B11  C11  D11"
      ]
     },
     "execution_count": 232,
     "metadata": {},
     "output_type": "execute_result"
    }
   ],
   "source": [
    "df9"
   ]
  },
  {
   "cell_type": "code",
   "execution_count": 233,
   "id": "24ba9317",
   "metadata": {},
   "outputs": [
    {
     "data": {
      "text/html": [
       "<div>\n",
       "<style scoped>\n",
       "    .dataframe tbody tr th:only-of-type {\n",
       "        vertical-align: middle;\n",
       "    }\n",
       "\n",
       "    .dataframe tbody tr th {\n",
       "        vertical-align: top;\n",
       "    }\n",
       "\n",
       "    .dataframe thead th {\n",
       "        text-align: right;\n",
       "    }\n",
       "</style>\n",
       "<table border=\"1\" class=\"dataframe\">\n",
       "  <thead>\n",
       "    <tr style=\"text-align: right;\">\n",
       "      <th></th>\n",
       "      <th>A</th>\n",
       "      <th>B</th>\n",
       "      <th>C</th>\n",
       "      <th>D</th>\n",
       "    </tr>\n",
       "  </thead>\n",
       "  <tbody>\n",
       "    <tr>\n",
       "      <th>0</th>\n",
       "      <td>A0</td>\n",
       "      <td>B0</td>\n",
       "      <td>C0</td>\n",
       "      <td>D0</td>\n",
       "    </tr>\n",
       "    <tr>\n",
       "      <th>1</th>\n",
       "      <td>A1</td>\n",
       "      <td>B1</td>\n",
       "      <td>C1</td>\n",
       "      <td>D1</td>\n",
       "    </tr>\n",
       "    <tr>\n",
       "      <th>2</th>\n",
       "      <td>A2</td>\n",
       "      <td>B2</td>\n",
       "      <td>C2</td>\n",
       "      <td>D2</td>\n",
       "    </tr>\n",
       "    <tr>\n",
       "      <th>3</th>\n",
       "      <td>A3</td>\n",
       "      <td>B3</td>\n",
       "      <td>C3</td>\n",
       "      <td>D3</td>\n",
       "    </tr>\n",
       "    <tr>\n",
       "      <th>0</th>\n",
       "      <td>A8</td>\n",
       "      <td>B8</td>\n",
       "      <td>C8</td>\n",
       "      <td>D8</td>\n",
       "    </tr>\n",
       "    <tr>\n",
       "      <th>1</th>\n",
       "      <td>A9</td>\n",
       "      <td>B9</td>\n",
       "      <td>C9</td>\n",
       "      <td>D9</td>\n",
       "    </tr>\n",
       "    <tr>\n",
       "      <th>2</th>\n",
       "      <td>A10</td>\n",
       "      <td>B10</td>\n",
       "      <td>C10</td>\n",
       "      <td>D10</td>\n",
       "    </tr>\n",
       "    <tr>\n",
       "      <th>3</th>\n",
       "      <td>A11</td>\n",
       "      <td>B11</td>\n",
       "      <td>C11</td>\n",
       "      <td>D11</td>\n",
       "    </tr>\n",
       "  </tbody>\n",
       "</table>\n",
       "</div>"
      ],
      "text/plain": [
       "     A    B    C    D\n",
       "0   A0   B0   C0   D0\n",
       "1   A1   B1   C1   D1\n",
       "2   A2   B2   C2   D2\n",
       "3   A3   B3   C3   D3\n",
       "0   A8   B8   C8   D8\n",
       "1   A9   B9   C9   D9\n",
       "2  A10  B10  C10  D10\n",
       "3  A11  B11  C11  D11"
      ]
     },
     "execution_count": 233,
     "metadata": {},
     "output_type": "execute_result"
    }
   ],
   "source": [
    "pd.concat([df8,df9])"
   ]
  },
  {
   "cell_type": "code",
   "execution_count": null,
   "id": "60e8df5c",
   "metadata": {},
   "outputs": [],
   "source": []
  },
  {
   "cell_type": "code",
   "execution_count": null,
   "id": "a2a2d2e3",
   "metadata": {},
   "outputs": [],
   "source": []
  }
 ],
 "metadata": {
  "kernelspec": {
   "display_name": "Python 3 (ipykernel)",
   "language": "python",
   "name": "python3"
  },
  "language_info": {
   "codemirror_mode": {
    "name": "ipython",
    "version": 3
   },
   "file_extension": ".py",
   "mimetype": "text/x-python",
   "name": "python",
   "nbconvert_exporter": "python",
   "pygments_lexer": "ipython3",
   "version": "3.9.13"
  }
 },
 "nbformat": 4,
 "nbformat_minor": 5
}
